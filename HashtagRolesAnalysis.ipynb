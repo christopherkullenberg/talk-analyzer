{
 "cells": [
  {
   "cell_type": "code",
   "execution_count": 1,
   "metadata": {},
   "outputs": [],
   "source": [
    "import pandas as pd\n",
    "import re\n",
    "from collections import Counter\n",
    "import talkanalyzer as ta"
   ]
  },
  {
   "cell_type": "markdown",
   "metadata": {},
   "source": [
    "## 1. Visualisation of hashtags"
   ]
  },
  {
   "cell_type": "code",
   "execution_count": 2,
   "metadata": {},
   "outputs": [],
   "source": [
    "df = pd.read_excel('data/roles.xlsx')\n",
    "# df.head()"
   ]
  },
  {
   "cell_type": "code",
   "execution_count": 3,
   "metadata": {},
   "outputs": [
    {
     "name": "stdout",
     "output_type": "stream",
     "text": [
      "Total number of hashtags: 4058\n",
      "Unique hashtags: 963\n"
     ]
    }
   ],
   "source": [
    "hashtags = []\n",
    "\n",
    "for row in df.iterrows():\n",
    "    match = re.findall(r'\\#[a-zA-Z0-9_-]+', str(row[1][3]), re.IGNORECASE)\n",
    "    for m in match:\n",
    "        if m == \"#v\": # Note #v is a false positive genereated by google books links\n",
    "            continue\n",
    "        else:\n",
    "            hashtags.append(m.lower())\n",
    "print(\"Total number of hashtags: \" + str(len(hashtags)))\n",
    "print(\"Unique hashtags: \" + str(len(set(hashtags))))"
   ]
  },
  {
   "cell_type": "code",
   "execution_count": 4,
   "metadata": {},
   "outputs": [
    {
     "data": {
      "text/plain": [
       "[('#letter', 302),\n",
       " ('#oed', 237),\n",
       " ('#recipe', 222),\n",
       " ('#medicine', 162),\n",
       " ('#latin', 143),\n",
       " ('#womanwriter', 139),\n",
       " ('#catholic', 129),\n",
       " ('#copiedletter', 120),\n",
       " ('#address', 79),\n",
       " ('#medical', 64),\n",
       " ('#cooking', 59),\n",
       " ('#bleedthrough', 58),\n",
       " ('#ward', 58),\n",
       " ('#paper', 54),\n",
       " ('#packe', 50),\n",
       " ('#baker', 45),\n",
       " ('#cromwell', 35),\n",
       " ('#food', 34),\n",
       " ('#corlyon', 33),\n",
       " ('#recipes', 32)]"
      ]
     },
     "execution_count": 4,
     "metadata": {},
     "output_type": "execute_result"
    }
   ],
   "source": [
    "c = Counter(hashtags)\n",
    "c.most_common(20)"
   ]
  },
  {
   "cell_type": "code",
   "execution_count": 5,
   "metadata": {},
   "outputs": [
    {
     "name": "stdout",
     "output_type": "stream",
     "text": [
      "1\n",
      "Wrote 307 interactions for hashtag #letter as letter.html\n",
      "2\n",
      "Wrote 229 interactions for hashtag #oed as oed.html\n",
      "3\n",
      "Wrote 281 interactions for hashtag #recipe as recipe.html\n",
      "4\n",
      "Wrote 173 interactions for hashtag #medicine as medicine.html\n",
      "5\n",
      "Wrote 144 interactions for hashtag #latin as latin.html\n",
      "6\n",
      "Wrote 141 interactions for hashtag #womanwriter as womanwriter.html\n",
      "7\n",
      "Wrote 159 interactions for hashtag #catholic as catholic.html\n",
      "8\n",
      "Wrote 121 interactions for hashtag #copiedletter as copiedletter.html\n",
      "9\n",
      "Wrote 80 interactions for hashtag #address as address.html\n",
      "10\n",
      "Wrote 66 interactions for hashtag #medical as medical.html\n",
      "11\n",
      "Wrote 60 interactions for hashtag #cooking as cooking.html\n",
      "12\n",
      "Wrote 59 interactions for hashtag #bleedthrough as bleedthrough.html\n",
      "13\n",
      "Wrote 61 interactions for hashtag #ward as ward.html\n",
      "14\n",
      "Wrote 54 interactions for hashtag #paper as paper.html\n",
      "15\n",
      "Wrote 52 interactions for hashtag #packe as packe.html\n",
      "16\n",
      "Wrote 46 interactions for hashtag #baker as baker.html\n",
      "17\n",
      "Wrote 37 interactions for hashtag #cromwell as cromwell.html\n",
      "18\n",
      "Wrote 35 interactions for hashtag #food as food.html\n",
      "19\n",
      "Wrote 34 interactions for hashtag #corlyon as corlyon.html\n",
      "20\n",
      "Wrote 54 interactions for hashtag #recipes as recipes.html\n"
     ]
    },
    {
     "data": {
      "text/plain": [
       "[('#letter', 302),\n",
       " ('#oed', 237),\n",
       " ('#recipe', 222),\n",
       " ('#medicine', 162),\n",
       " ('#latin', 143),\n",
       " ('#womanwriter', 139),\n",
       " ('#catholic', 129),\n",
       " ('#copiedletter', 120),\n",
       " ('#address', 79),\n",
       " ('#medical', 64),\n",
       " ('#cooking', 59),\n",
       " ('#bleedthrough', 58),\n",
       " ('#ward', 58),\n",
       " ('#paper', 54),\n",
       " ('#packe', 50),\n",
       " ('#baker', 45),\n",
       " ('#cromwell', 35),\n",
       " ('#food', 34),\n",
       " ('#corlyon', 33),\n",
       " ('#recipes', 32)]"
      ]
     },
     "execution_count": 5,
     "metadata": {},
     "output_type": "execute_result"
    }
   ],
   "source": [
    "# This creates the Vis timeline with javascrip for 20 most common hashtags\n",
    "# Exclude users with the excludeusers flag, see below.\n",
    "\n",
    "counter = 0\n",
    "for hashtag in c.most_common(20):\n",
    "    counter += 1\n",
    "    print(counter)\n",
    "    ta.CoreSet.vis(hashtag[0], df) #  excludeusers=[\"Username\"]\n",
    "c.most_common(20)"
   ]
  },
  {
   "cell_type": "markdown",
   "metadata": {},
   "source": [
    "## 2. Create a Role-Hashtag in-degree network"
   ]
  },
  {
   "cell_type": "code",
   "execution_count": 6,
   "metadata": {},
   "outputs": [
    {
     "name": "stdout",
     "output_type": "stream",
     "text": [
      "Edgecounter: 455\n"
     ]
    }
   ],
   "source": [
    "ta.CoreSet.hashtagroles(df)"
   ]
  },
  {
   "cell_type": "code",
   "execution_count": null,
   "metadata": {},
   "outputs": [],
   "source": []
  }
 ],
 "metadata": {
  "kernelspec": {
   "display_name": "Python 3",
   "language": "python",
   "name": "python3"
  },
  "language_info": {
   "codemirror_mode": {
    "name": "ipython",
    "version": 3
   },
   "file_extension": ".py",
   "mimetype": "text/x-python",
   "name": "python",
   "nbconvert_exporter": "python",
   "pygments_lexer": "ipython3",
   "version": "3.6.4"
  }
 },
 "nbformat": 4,
 "nbformat_minor": 2
}
