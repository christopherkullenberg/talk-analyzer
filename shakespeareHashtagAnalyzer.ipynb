{
 "cells": [
  {
   "cell_type": "code",
   "execution_count": 1,
   "metadata": {
    "collapsed": false
   },
   "outputs": [],
   "source": [
    "%matplotlib inline\n",
    "import pandas as pd\n",
    "import seaborn as sns\n",
    "import re\n",
    "import matplotlib.pyplot as plt\n",
    "import talkanalyzer as ta # Requires pandas\n",
    "import warnings \n",
    "warnings.filterwarnings('ignore') # Remove for debugging\n",
    "import networkx as nx\n",
    "from itertools import combinations\n",
    "from collections import Counter\n",
    "#help(ta)"
   ]
  },
  {
   "cell_type": "code",
   "execution_count": 2,
   "metadata": {
    "collapsed": false
   },
   "outputs": [
    {
     "data": {
      "text/html": [
       "<div>\n",
       "<table border=\"1\" class=\"dataframe\">\n",
       "  <thead>\n",
       "    <tr style=\"text-align: right;\">\n",
       "      <th></th>\n",
       "      <th>board_description</th>\n",
       "      <th>board_id</th>\n",
       "      <th>board_title</th>\n",
       "      <th>comment_body</th>\n",
       "      <th>comment_created_at</th>\n",
       "      <th>comment_focus_id</th>\n",
       "      <th>comment_focus_type</th>\n",
       "      <th>comment_id</th>\n",
       "      <th>comment_user_id</th>\n",
       "      <th>comment_user_login</th>\n",
       "      <th>discussion_id</th>\n",
       "      <th>discussion_title</th>\n",
       "    </tr>\n",
       "  </thead>\n",
       "  <tbody>\n",
       "    <tr>\n",
       "      <th>0</th>\n",
       "      <td>General comment threads about individual subjects</td>\n",
       "      <td>192</td>\n",
       "      <td>Notes</td>\n",
       "      <td>Can't tell what the red/brown blob on the righ...</td>\n",
       "      <td>2015-11-09 20:50:03.309</td>\n",
       "      <td>1071522.0</td>\n",
       "      <td>Subject</td>\n",
       "      <td>33075</td>\n",
       "      <td>1396273</td>\n",
       "      <td>Sprixie</td>\n",
       "      <td>16496</td>\n",
       "      <td>Subject 1071522</td>\n",
       "    </tr>\n",
       "    <tr>\n",
       "      <th>1</th>\n",
       "      <td>General comment threads about individual subjects</td>\n",
       "      <td>192</td>\n",
       "      <td>Notes</td>\n",
       "      <td>yes i agree, judging by the rough edges round ...</td>\n",
       "      <td>2015-11-10 17:11:02.277</td>\n",
       "      <td>1071522.0</td>\n",
       "      <td>Subject</td>\n",
       "      <td>33406</td>\n",
       "      <td>1813</td>\n",
       "      <td>hightower73</td>\n",
       "      <td>16496</td>\n",
       "      <td>Subject 1071522</td>\n",
       "    </tr>\n",
       "    <tr>\n",
       "      <th>2</th>\n",
       "      <td>Ask us about specific manuscripts, scripts, ha...</td>\n",
       "      <td>195</td>\n",
       "      <td>Questions for the research team</td>\n",
       "      <td>There are only a few documents displaying in t...</td>\n",
       "      <td>2015-11-14 00:41:28.637</td>\n",
       "      <td>NaN</td>\n",
       "      <td>None</td>\n",
       "      <td>34596</td>\n",
       "      <td>1372521</td>\n",
       "      <td>Judy_Prouty</td>\n",
       "      <td>17263</td>\n",
       "      <td>Is this project proceeding?</td>\n",
       "    </tr>\n",
       "    <tr>\n",
       "      <th>3</th>\n",
       "      <td>General comment threads about individual subjects</td>\n",
       "      <td>192</td>\n",
       "      <td>Notes</td>\n",
       "      <td>Nothing on here?</td>\n",
       "      <td>2015-11-27 10:39:56.197</td>\n",
       "      <td>1167235.0</td>\n",
       "      <td>Subject</td>\n",
       "      <td>38341</td>\n",
       "      <td>478315</td>\n",
       "      <td>darktruth</td>\n",
       "      <td>19021</td>\n",
       "      <td>Subject 1167235</td>\n",
       "    </tr>\n",
       "    <tr>\n",
       "      <th>4</th>\n",
       "      <td>General comment threads about individual subjects</td>\n",
       "      <td>192</td>\n",
       "      <td>Notes</td>\n",
       "      <td>No text or image.</td>\n",
       "      <td>2015-11-27 10:42:46.044</td>\n",
       "      <td>1169357.0</td>\n",
       "      <td>Subject</td>\n",
       "      <td>38342</td>\n",
       "      <td>478315</td>\n",
       "      <td>darktruth</td>\n",
       "      <td>19022</td>\n",
       "      <td>Subject 1169357</td>\n",
       "    </tr>\n",
       "  </tbody>\n",
       "</table>\n",
       "</div>"
      ],
      "text/plain": [
       "                                   board_description  board_id  \\\n",
       "0  General comment threads about individual subjects       192   \n",
       "1  General comment threads about individual subjects       192   \n",
       "2  Ask us about specific manuscripts, scripts, ha...       195   \n",
       "3  General comment threads about individual subjects       192   \n",
       "4  General comment threads about individual subjects       192   \n",
       "\n",
       "                       board_title  \\\n",
       "0                            Notes   \n",
       "1                            Notes   \n",
       "2  Questions for the research team   \n",
       "3                            Notes   \n",
       "4                            Notes   \n",
       "\n",
       "                                        comment_body      comment_created_at  \\\n",
       "0  Can't tell what the red/brown blob on the righ... 2015-11-09 20:50:03.309   \n",
       "1  yes i agree, judging by the rough edges round ... 2015-11-10 17:11:02.277   \n",
       "2  There are only a few documents displaying in t... 2015-11-14 00:41:28.637   \n",
       "3                                   Nothing on here? 2015-11-27 10:39:56.197   \n",
       "4                                  No text or image. 2015-11-27 10:42:46.044   \n",
       "\n",
       "   comment_focus_id comment_focus_type  comment_id  comment_user_id  \\\n",
       "0         1071522.0            Subject       33075          1396273   \n",
       "1         1071522.0            Subject       33406             1813   \n",
       "2               NaN               None       34596          1372521   \n",
       "3         1167235.0            Subject       38341           478315   \n",
       "4         1169357.0            Subject       38342           478315   \n",
       "\n",
       "  comment_user_login  discussion_id             discussion_title  \n",
       "0            Sprixie          16496              Subject 1071522  \n",
       "1        hightower73          16496              Subject 1071522  \n",
       "2        Judy_Prouty          17263  Is this project proceeding?  \n",
       "3          darktruth          19021              Subject 1167235  \n",
       "4          darktruth          19022              Subject 1169357  "
      ]
     },
     "execution_count": 2,
     "metadata": {},
     "output_type": "execute_result"
    }
   ],
   "source": [
    "df = pd.read_json(\"data/project-376-comments_2017-11-21.json\")\n",
    "df.head()\n",
    "#df.to_excel(\"data/project-376-comments_2017-11-21.xlsx\")\n",
    "#df.insert(0, \"CommentURL\", \"\")\n",
    "#df.insert(0, \"ThreadURL\", \"\")\n",
    "#df['comment_focus_type']"
   ]
  },
  {
   "cell_type": "code",
   "execution_count": 3,
   "metadata": {
    "collapsed": false
   },
   "outputs": [
    {
     "name": "stdout",
     "output_type": "stream",
     "text": [
      "Total number of hashtags: 4058\n",
      "Unique hashtags: 963\n"
     ]
    }
   ],
   "source": [
    "hashtags = []\n",
    "\n",
    "for row in df.iterrows():\n",
    "    match = re.findall(r'\\#[a-zA-Z0-9_-]+', row[1][3], re.IGNORECASE)\n",
    "    for m in match:\n",
    "        if m == \"#v\": # Note #v is a false positive genereated by google books links\n",
    "            continue\n",
    "        else:\n",
    "            hashtags.append(m.lower())\n",
    "print(\"Total number of hashtags: \" + str(len(hashtags)))\n",
    "print(\"Unique hashtags: \" + str(len(set(hashtags))))"
   ]
  },
  {
   "cell_type": "code",
   "execution_count": 4,
   "metadata": {
    "collapsed": false
   },
   "outputs": [
    {
     "data": {
      "text/plain": [
       "[('#letter', 302),\n",
       " ('#oed', 237),\n",
       " ('#recipe', 222),\n",
       " ('#medicine', 162),\n",
       " ('#latin', 143),\n",
       " ('#womanwriter', 139),\n",
       " ('#catholic', 129),\n",
       " ('#copiedletter', 120),\n",
       " ('#address', 79),\n",
       " ('#medical', 64),\n",
       " ('#cooking', 59),\n",
       " ('#bleedthrough', 58),\n",
       " ('#ward', 58),\n",
       " ('#paper', 54),\n",
       " ('#packe', 50),\n",
       " ('#baker', 45),\n",
       " ('#cromwell', 35),\n",
       " ('#food', 34),\n",
       " ('#corlyon', 33),\n",
       " ('#recipes', 32)]"
      ]
     },
     "execution_count": 4,
     "metadata": {},
     "output_type": "execute_result"
    }
   ],
   "source": [
    "'''Get most common hashtags'''\n",
    "c = Counter(hashtags)\n",
    "c.most_common(20)"
   ]
  },
  {
   "cell_type": "code",
   "execution_count": 5,
   "metadata": {
    "collapsed": false
   },
   "outputs": [
    {
     "name": "stdout",
     "output_type": "stream",
     "text": [
      "Total number of pings: 3622\n",
      "Unique users tha are pinged: 294\n"
     ]
    }
   ],
   "source": [
    "userspinged = []\n",
    "\n",
    "for row in df.iterrows():\n",
    "    #Note ._- are allowd chars in usernames. However, including . throws false positives and are not used in any usernames.\n",
    "    match = re.findall(r'\\@[a-zA-Z0-9_-]+', row[1][3], re.IGNORECASE) \n",
    "    for m in match:\n",
    "        userspinged.append(m.lower())\n",
    "print(\"Total number of pings: \" + str(len(userspinged)))\n",
    "print(\"Unique users tha are pinged: \" + str(len(set(userspinged))))\n",
    "# print(set(userspinged))"
   ]
  },
  {
   "cell_type": "code",
   "execution_count": 6,
   "metadata": {
    "collapsed": false
   },
   "outputs": [
    {
     "data": {
      "text/plain": [
       "[('@mutabilitie', 454),\n",
       " ('@philipdurkin', 346),\n",
       " ('@vvh', 335),\n",
       " ('@jules', 236),\n",
       " ('@hwolfe', 192),\n",
       " ('@s_powell', 175),\n",
       " ('@parsfan', 143),\n",
       " ('@lwsmith', 123),\n",
       " ('@cuboctahedron', 104),\n",
       " ('@greensleeves', 83),\n",
       " ('@simoneduca', 73),\n",
       " ('@elaineleong', 69),\n",
       " ('@traceydix', 68),\n",
       " ('@christoferos', 66),\n",
       " ('@parsan', 43),\n",
       " ('@intelvoid', 38),\n",
       " ('@joolslee', 38),\n",
       " ('@camallen', 34),\n",
       " ('@hannebambel', 31),\n",
       " ('@cdorsett', 31)]"
      ]
     },
     "execution_count": 6,
     "metadata": {},
     "output_type": "execute_result"
    }
   ],
   "source": [
    "'''Get most common users that are pinged'''\n",
    "c = Counter(userspinged)\n",
    "c.most_common(20)"
   ]
  },
  {
   "cell_type": "code",
   "execution_count": 7,
   "metadata": {
    "collapsed": false
   },
   "outputs": [
    {
     "name": "stdout",
     "output_type": "stream",
     "text": [
      "@mutabilitie 454\n",
      "@philipdurkin 346\n",
      "@vvh 335\n",
      "@jules 236\n",
      "@hwolfe 192\n",
      "@s_powell 175\n",
      "@parsfan 143\n",
      "@lwsmith 123\n",
      "@cuboctahedron 104\n",
      "@greensleeves 83\n",
      "@simoneduca 73\n",
      "@elaineleong 69\n",
      "@traceydix 68\n",
      "@christoferos 66\n",
      "@parsan 43\n",
      "@intelvoid 38\n",
      "@joolslee 38\n",
      "@camallen 34\n",
      "@hannebambel 31\n",
      "@cdorsett 31\n",
      "@hightower73 29\n",
      "@dizzy78 26\n",
      "@pding001 25\n",
      "@kodemonkey 24\n",
      "@fromere 24\n",
      "@jenmunroe 23\n",
      "@etobey 22\n",
      "@pding 22\n",
      "@schub 22\n",
      "@kodemunkey 18\n",
      "@victoria 18\n",
      "@archi 17\n",
      "@shaxworld 16\n",
      "@lordofthepies 15\n",
      "@kerebeth 14\n",
      "@carl801 14\n",
      "@tnetennba 14\n",
      "@ebaldwin 14\n",
      "@drrogg 12\n",
      "@specks 11\n",
      "@wh 11\n",
      "@kimnj 11\n",
      "@mmmvv1 11\n",
      "@spock42 10\n",
      "@architeuthis 10\n",
      "@karenvanhoek 10\n",
      "@archaeochef 10\n",
      "@elainelong 10\n",
      "@griddlesticks 10\n",
      "@captain_video 9\n",
      "@ahatlikethat 9\n",
      "@tudorcook 9\n",
      "@forestpreserve 8\n",
      "@woo-h 8\n",
      "@stevenpemberton 7\n",
      "@elbutler 6\n",
      "@gmail 6\n",
      "@theletterb 6\n",
      "@sarahtheentwife 6\n",
      "@carriechelle 6\n",
      "@cliffwebb 5\n",
      "@kathrynparsons 5\n",
      "@jwb52z 5\n",
      "@ronvel 5\n",
      "@brownfox 5\n",
      "@croquegrec09 5\n",
      "@thel 5\n",
      "@myramo 5\n",
      "@rent 5\n",
      "@hallkr 5\n",
      "70\n",
      "[454, 346, 335, 236, 192, 175, 143, 123, 104, 83, 73, 69, 68, 66, 43, 38, 38, 34, 31, 31, 29, 26, 25, 24, 24, 23, 22, 22, 22, 18, 18, 17, 16, 15, 14, 14, 14, 14, 12, 11, 11, 11, 11, 10, 10, 10, 10, 10, 10, 9, 9, 9, 8, 8, 7, 6, 6, 6, 6, 6, 5, 5, 5, 5, 5, 5, 5, 5, 5, 5]\n"
     ]
    },
    {
     "data": {
      "text/plain": [
       "<matplotlib.axes._subplots.AxesSubplot at 0x1233e98d0>"
      ]
     },
     "execution_count": 7,
     "metadata": {},
     "output_type": "execute_result"
    },
    {
     "data": {
      "image/png": "[encoded data removed]",
      "text/plain": [
       "<matplotlib.figure.Figure at 0x122ef5e80>"
      ]
     },
     "metadata": {},
     "output_type": "display_data"
    }
   ],
   "source": [
    "valuelist = []\n",
    "for v in c.most_common(1000):\n",
    "    if v[1] >= 5:\n",
    "        valuelist.append(v[1])\n",
    "        print(v[0], v[1])\n",
    "    else:\n",
    "        continue\n",
    "        #print(v[0])\n",
    "print(len(valuelist))\n",
    "print(valuelist)\n",
    "sns.distplot(valuelist)"
   ]
  },
  {
   "cell_type": "markdown",
   "metadata": {},
   "source": [
    "### Hashtag/user network\n",
    "This takes a hashtag and then plots a network based on which users that has written about it in the forum. The closer to the center concept, the more often the users write about it. The function:\n",
    "\n",
    "````python\n",
    "def makegraph(searchstring, nodefreq, regexp=False, users=True, plot=True)\n",
    "````"
   ]
  },
  {
   "cell_type": "code",
   "execution_count": 37,
   "metadata": {
    "collapsed": false
   },
   "outputs": [
    {
     "name": "stdout",
     "output_type": "stream",
     "text": [
      "Searching for: #money\n"
     ]
    },
    {
     "data": {
      "text/plain": [
       "[('Cuboctahedron', 1), ('fromere', 1)]"
      ]
     },
     "execution_count": 37,
     "metadata": {},
     "output_type": "execute_result"
    }
   ],
   "source": [
    "ta.CoreSet.frequency(\"#money\", df)"
   ]
  },
  {
   "cell_type": "code",
   "execution_count": 38,
   "metadata": {
    "collapsed": false
   },
   "outputs": [
    {
     "name": "stdout",
     "output_type": "stream",
     "text": [
      "Searching for: #letter\n",
      "Total hashtags: 260\n"
     ]
    },
    {
     "data": {
      "text/plain": [
       "[('Cuboctahedron', 0.5),\n",
       " ('parsfan', 0.14),\n",
       " ('Traceydix', 0.12),\n",
       " ('kodemunkey', 0.1),\n",
       " ('fromere', 0.08),\n",
       " ('joolslee', 0.02),\n",
       " ('Kimnj', 0.01),\n",
       " ('Christoferos', 0.01),\n",
       " ('bootnecksbs', 0.0),\n",
       " ('Mspinelli91', 0.0),\n",
       " ('Archi', 0.0),\n",
       " ('MoragX', 0.0),\n",
       " ('the_interuniversal_geometer', 0.0)]"
      ]
     },
     "execution_count": 38,
     "metadata": {},
     "output_type": "execute_result"
    }
   ],
   "source": [
    "ta.CoreSet.frequencypercent(\"#letter\", df)"
   ]
  },
  {
   "cell_type": "code",
   "execution_count": 15,
   "metadata": {
    "collapsed": false
   },
   "outputs": [
    {
     "name": "stdout",
     "output_type": "stream",
     "text": [
      "VVH\n",
      "2015-12-13 13:26:29.051000\n",
      "#oed\n",
      "https://www.zooniverse.org/projects/zooniverse/shakespeares-world/talk/228/20977?comment=43165\n",
      "------\n",
      "VVH\n",
      "2015-12-17 17:21:46.316000\n",
      "#oed\n",
      "https://www.zooniverse.org/projects/zooniverse/shakespeares-world/talk/229/21684?comment=44841\n",
      "------\n",
      "VVH\n",
      "2015-12-18 11:46:07.721000\n",
      "#oed\n",
      "https://www.zooniverse.org/projects/zooniverse/shakespeares-world/talk/192/21745?comment=45126\n",
      "------\n",
      "IntelVoid\n",
      "2015-12-19 08:53:37.398000\n",
      "#oed\n",
      "https://www.zooniverse.org/projects/zooniverse/shakespeares-world/talk/192/20983?comment=45441\n",
      "------\n",
      "LWSmith\n",
      "2015-12-29 21:09:26.181000\n",
      "#oed\n",
      "https://www.zooniverse.org/projects/zooniverse/shakespeares-world/talk/192/24397?comment=49840\n",
      "------\n",
      "LWSmith\n",
      "2016-01-01 00:05:00.464000\n",
      "#oed\n",
      "https://www.zooniverse.org/projects/zooniverse/shakespeares-world/talk/192/24872?comment=50883\n",
      "------\n",
      "LWSmith\n",
      "2016-01-05 14:40:51.649000\n",
      "#oed\n",
      "https://www.zooniverse.org/projects/zooniverse/shakespeares-world/talk/192/20690?comment=52709\n",
      "------\n",
      "LWSmith\n",
      "2016-01-08 16:33:59.696000\n",
      "#oed\n",
      "https://www.zooniverse.org/projects/zooniverse/shakespeares-world/talk/192/23488?comment=54302\n",
      "------\n",
      "jules\n",
      "2016-01-18 15:18:01.717000\n",
      "#oed\n",
      "https://www.zooniverse.org/projects/zooniverse/shakespeares-world/talk/192/22012?comment=68790\n",
      "------\n",
      "IntelVoid\n",
      "2016-01-21 06:28:42.446000\n",
      "#oed\n",
      "https://www.zooniverse.org/projects/zooniverse/shakespeares-world/talk/192/35178?comment=69718\n",
      "------\n",
      "Kimnj\n",
      "2016-01-22 03:36:23.113000\n",
      "#oed\n",
      "https://www.zooniverse.org/projects/zooniverse/shakespeares-world/talk/192/35425?comment=70188\n",
      "------\n",
      "jules\n",
      "2016-01-28 16:48:12.328000\n",
      "#oed\n",
      "https://www.zooniverse.org/projects/zooniverse/shakespeares-world/talk/192/36872?comment=73024\n",
      "------\n",
      "IntelVoid\n",
      "2016-02-03 10:41:10.889000\n",
      "#oed\n",
      "https://www.zooniverse.org/projects/zooniverse/shakespeares-world/talk/192/37771?comment=74843\n",
      "------\n",
      "IntelVoid\n",
      "2016-02-06 01:37:13.551000\n",
      "#oed\n",
      "https://www.zooniverse.org/projects/zooniverse/shakespeares-world/talk/192/38227?comment=75798\n",
      "------\n",
      "IntelVoid\n",
      "2016-02-08 04:47:13.351000\n",
      "#oed\n",
      "https://www.zooniverse.org/projects/zooniverse/shakespeares-world/talk/192/38629?comment=76531\n",
      "------\n",
      "LWSmith\n",
      "2016-02-09 12:01:18.468000\n",
      "#oed\n",
      "https://www.zooniverse.org/projects/zooniverse/shakespeares-world/talk/192/20737?comment=77013\n",
      "------\n",
      "mutabilitie\n",
      "2016-02-09 14:06:40.944000\n",
      "#oed\n",
      "https://www.zooniverse.org/projects/zooniverse/shakespeares-world/talk/192/38871?comment=77035\n",
      "------\n",
      "Cuboctahedron\n",
      "2016-02-12 22:21:31.785000\n",
      "#oed\n",
      "https://www.zooniverse.org/projects/zooniverse/shakespeares-world/talk/192/39001?comment=78173\n",
      "------\n",
      "mutabilitie\n",
      "2016-02-15 05:25:23.834000\n",
      "#oed\n",
      "https://www.zooniverse.org/projects/zooniverse/shakespeares-world/talk/192/39533?comment=78642\n",
      "------\n",
      "mutabilitie\n",
      "2016-02-16 10:50:27.481000\n",
      "#oed\n",
      "https://www.zooniverse.org/projects/zooniverse/shakespeares-world/talk/192/39669?comment=79168\n",
      "------\n",
      "Christoferos\n",
      "2016-02-17 16:01:54.915000\n",
      "#oed\n",
      "https://www.zooniverse.org/projects/zooniverse/shakespeares-world/talk/192/39852?comment=79620\n",
      "------\n",
      "mutabilitie\n",
      "2016-02-18 21:22:14.401000\n",
      "#oed\n",
      "https://www.zooniverse.org/projects/zooniverse/shakespeares-world/talk/192/40072?comment=80137\n",
      "------\n",
      "IntelVoid\n",
      "2016-02-19 00:14:37.292000\n",
      "#oed\n",
      "https://www.zooniverse.org/projects/zooniverse/shakespeares-world/talk/192/40096?comment=80194\n",
      "------\n",
      "joyce7b\n",
      "2016-02-20 03:18:10.511000\n",
      "#oed\n",
      "https://www.zooniverse.org/projects/zooniverse/shakespeares-world/talk/192/38336?comment=80615\n",
      "------\n",
      "Cuboctahedron\n",
      "2016-02-20 23:37:47.566000\n",
      "#oed\n",
      "https://www.zooniverse.org/projects/zooniverse/shakespeares-world/talk/192/40327?comment=80910\n",
      "------\n",
      "parsfan\n",
      "2016-02-21 13:24:11.555000\n",
      "#oed\n",
      "https://www.zooniverse.org/projects/zooniverse/shakespeares-world/talk/192/40494?comment=81048\n",
      "------\n",
      "mutabilitie\n",
      "2016-02-23 11:44:35.727000\n",
      "#oed\n",
      "https://www.zooniverse.org/projects/zooniverse/shakespeares-world/talk/192/40737?comment=81568\n",
      "------\n",
      "VVH\n",
      "2016-02-24 14:48:15.686000\n",
      "#oed\n",
      "https://www.zooniverse.org/projects/zooniverse/shakespeares-world/talk/323/40936?comment=81990\n",
      "------\n",
      "VVH\n",
      "2016-02-29 14:41:38.731000\n",
      "#oed\n",
      "https://www.zooniverse.org/projects/zooniverse/shakespeares-world/talk/239/41339?comment=83533\n",
      "------\n",
      "mutabilitie\n",
      "2016-03-02 08:16:34.562000\n",
      "#oed\n",
      "https://www.zooniverse.org/projects/zooniverse/shakespeares-world/talk/192/42313?comment=84613\n",
      "------\n",
      "parsfan\n",
      "2016-03-02 19:32:05.528000\n",
      "#oed\n",
      "https://www.zooniverse.org/projects/zooniverse/shakespeares-world/talk/192/42419?comment=84837\n",
      "------\n",
      "mutabilitie\n",
      "2016-03-04 07:42:09.450000\n",
      "#oed\n",
      "https://www.zooniverse.org/projects/zooniverse/shakespeares-world/talk/192/42732?comment=85384\n",
      "------\n",
      "mutabilitie\n",
      "2016-03-04 10:04:14.966000\n",
      "#oed\n",
      "https://www.zooniverse.org/projects/zooniverse/shakespeares-world/talk/192/37717?comment=85406\n",
      "------\n",
      "IntelVoid\n",
      "2016-03-06 00:12:50.357000\n",
      "#oed\n",
      "https://www.zooniverse.org/projects/zooniverse/shakespeares-world/talk/192/43135?comment=86099\n",
      "------\n",
      "mutabilitie\n",
      "2016-03-06 21:58:41.626000\n",
      "#oed\n",
      "https://www.zooniverse.org/projects/zooniverse/shakespeares-world/talk/192/43300?comment=86411\n",
      "------\n",
      "mutabilitie\n",
      "2016-03-08 09:47:51.723000\n",
      "#oed\n",
      "https://www.zooniverse.org/projects/zooniverse/shakespeares-world/talk/192/43533?comment=86867\n",
      "------\n",
      "mutabilitie\n",
      "2016-03-08 10:19:32.764000\n",
      "#oed\n",
      "https://www.zooniverse.org/projects/zooniverse/shakespeares-world/talk/192/43535?comment=86873\n",
      "------\n",
      "LWSmith\n",
      "2016-03-08 17:33:53.692000\n",
      "#oed\n",
      "https://www.zooniverse.org/projects/zooniverse/shakespeares-world/talk/192/34704?comment=86999\n",
      "------\n",
      "mutabilitie\n",
      "2016-03-09 07:49:44.221000\n",
      "#oed\n",
      "https://www.zooniverse.org/projects/zooniverse/shakespeares-world/talk/192/21351?comment=87227\n",
      "------\n",
      "IntelVoid\n",
      "2016-03-09 15:20:05.918000\n",
      "#oed\n",
      "https://www.zooniverse.org/projects/zooniverse/shakespeares-world/talk/192/43772?comment=87292\n",
      "------\n",
      "jules\n",
      "2016-03-09 15:20:12.038000\n",
      "#oed\n",
      "https://www.zooniverse.org/projects/zooniverse/shakespeares-world/talk/192/43773?comment=87293\n",
      "------\n",
      "mutabilitie\n",
      "2016-03-10 06:36:09.308000\n",
      "#oed\n",
      "https://www.zooniverse.org/projects/zooniverse/shakespeares-world/talk/192/43888?comment=87506\n",
      "------\n",
      "VVH\n",
      "2016-03-10 15:12:16.829000\n",
      "#oed\n",
      "https://www.zooniverse.org/projects/zooniverse/shakespeares-world/talk/192/43888?comment=87578\n",
      "------\n",
      "mutabilitie\n",
      "2016-03-10 16:15:39.113000\n",
      "#oed\n",
      "https://www.zooniverse.org/projects/zooniverse/shakespeares-world/talk/192/43888?comment=87595\n",
      "------\n",
      "Christoferos\n",
      "2016-03-10 17:40:50.785000\n",
      "#oed\n",
      "https://www.zooniverse.org/projects/zooniverse/shakespeares-world/talk/192/43888?comment=87639\n",
      "------\n",
      "jules\n",
      "2016-03-11 17:52:39.011000\n",
      "#oed\n",
      "https://www.zooniverse.org/projects/zooniverse/shakespeares-world/talk/239/44115?comment=87950\n",
      "------\n",
      "IntelVoid\n",
      "2016-03-13 09:04:08.601000\n",
      "#oed\n",
      "https://www.zooniverse.org/projects/zooniverse/shakespeares-world/talk/192/44471?comment=88526\n",
      "------\n",
      "Greensleeves\n",
      "2016-03-13 10:13:14.723000\n",
      "#oed\n",
      "https://www.zooniverse.org/projects/zooniverse/shakespeares-world/talk/192/44474?comment=88540\n",
      "------\n",
      "jules\n",
      "2016-03-13 18:35:30.562000\n",
      "#oed\n",
      "https://www.zooniverse.org/projects/zooniverse/shakespeares-world/talk/192/44492?comment=88627\n",
      "------\n",
      "IntelVoid\n",
      "2016-03-14 02:14:47.090000\n",
      "#oed\n",
      "https://www.zooniverse.org/projects/zooniverse/shakespeares-world/talk/192/44547?comment=88712\n",
      "------\n",
      "jules\n",
      "2016-03-14 12:14:29.127000\n",
      "#oed\n",
      "https://www.zooniverse.org/projects/zooniverse/shakespeares-world/talk/239/44493?comment=88774\n",
      "------\n",
      "jules\n",
      "2016-03-16 17:09:38.355000\n",
      "#oed\n",
      "https://www.zooniverse.org/projects/zooniverse/shakespeares-world/talk/239/44096?comment=89260\n",
      "------\n",
      "IntelVoid\n",
      "2016-03-21 12:45:48.832000\n",
      "#oed\n",
      "https://www.zooniverse.org/projects/zooniverse/shakespeares-world/talk/192/45429?comment=90518\n",
      "------\n",
      "IntelVoid\n",
      "2016-03-23 02:43:44.514000\n",
      "#oed\n",
      "https://www.zooniverse.org/projects/zooniverse/shakespeares-world/talk/192/45742?comment=91132\n",
      "------\n",
      "Greensleeves\n",
      "2016-03-27 14:07:00.588000\n",
      "#oed\n",
      "https://www.zooniverse.org/projects/zooniverse/shakespeares-world/talk/192/46335?comment=92246\n",
      "------\n",
      "S_Powell\n",
      "2016-03-29 19:04:17.569000\n",
      "#oed\n",
      "https://www.zooniverse.org/projects/zooniverse/shakespeares-world/talk/192/37559?comment=93096\n",
      "------\n",
      "IntelVoid\n",
      "2016-03-30 03:54:35.422000\n",
      "#oed\n",
      "https://www.zooniverse.org/projects/zooniverse/shakespeares-world/talk/192/46878?comment=93258\n",
      "------\n",
      "IntelVoid\n",
      "2016-03-30 10:19:07.323000\n",
      "#oed\n",
      "https://www.zooniverse.org/projects/zooniverse/shakespeares-world/talk/192/46914?comment=93329\n",
      "------\n",
      "IntelVoid\n",
      "2016-04-04 01:17:01.295000\n",
      "#oed\n",
      "https://www.zooniverse.org/projects/zooniverse/shakespeares-world/talk/192/47628?comment=94681\n",
      "------\n",
      "IntelVoid\n",
      "2016-04-04 03:35:25.689000\n",
      "#oed\n",
      "https://www.zooniverse.org/projects/zooniverse/shakespeares-world/talk/192/35830?comment=94696\n",
      "------\n",
      "VVH\n",
      "2016-04-04 09:17:12.871000\n",
      "#oed\n",
      "https://www.zooniverse.org/projects/zooniverse/shakespeares-world/talk/195/47452?comment=94742\n",
      "------\n",
      "S_Powell\n",
      "2016-04-04 20:49:17.491000\n",
      "#oed\n",
      "https://www.zooniverse.org/projects/zooniverse/shakespeares-world/talk/195/47452?comment=94919\n",
      "------\n",
      "IntelVoid\n",
      "2016-04-06 04:33:00.453000\n",
      "#oed\n",
      "https://www.zooniverse.org/projects/zooniverse/shakespeares-world/talk/192/47983?comment=95386\n",
      "------\n",
      "Dizzy78\n",
      "2016-04-11 00:13:06.462000\n",
      "#oed\n",
      "https://www.zooniverse.org/projects/zooniverse/shakespeares-world/talk/192/48816?comment=96984\n",
      "------\n",
      "S_Powell\n",
      "2016-04-11 17:36:26.394000\n",
      "#oed\n",
      "https://www.zooniverse.org/projects/zooniverse/shakespeares-world/talk/239/45615?comment=97261\n",
      "------\n",
      "S_Powell\n",
      "2016-04-11 20:46:10.483000\n",
      "#oed\n",
      "https://www.zooniverse.org/projects/zooniverse/shakespeares-world/talk/239/45615?comment=97339\n",
      "------\n",
      "mutabilitie\n",
      "2016-04-15 04:50:02.669000\n",
      "#oed\n",
      "https://www.zooniverse.org/projects/zooniverse/shakespeares-world/talk/192/49644?comment=98799\n",
      "------\n",
      "jules\n",
      "2016-04-17 23:11:51.511000\n",
      "#oed\n",
      "https://www.zooniverse.org/projects/zooniverse/shakespeares-world/talk/192/50137?comment=99718\n",
      "------\n",
      "Dizzy78\n",
      "2016-04-20 11:31:45.947000\n",
      "#oed\n",
      "https://www.zooniverse.org/projects/zooniverse/shakespeares-world/talk/192/50526?comment=100453\n",
      "------\n",
      "jules\n",
      "2016-04-28 16:49:29.956000\n",
      "#oed\n",
      "https://www.zooniverse.org/projects/zooniverse/shakespeares-world/talk/192/51758?comment=102879\n",
      "------\n",
      "jules\n",
      "2016-04-28 19:17:26.780000\n",
      "#oed\n",
      "https://www.zooniverse.org/projects/zooniverse/shakespeares-world/talk/192/51740?comment=102911\n",
      "------\n",
      "jules\n",
      "2016-05-03 20:43:03.764000\n",
      "#oed\n",
      "https://www.zooniverse.org/projects/zooniverse/shakespeares-world/talk/192/52579?comment=104540\n",
      "------\n",
      "S_Powell\n",
      "2016-05-06 14:27:40.369000\n",
      "#oed\n",
      "https://www.zooniverse.org/projects/zooniverse/shakespeares-world/talk/192/49642?comment=105172\n",
      "------\n",
      "S_Powell\n",
      "2016-05-13 14:51:38.970000\n",
      "#oed\n",
      "https://www.zooniverse.org/projects/zooniverse/shakespeares-world/talk/192/53727?comment=106870\n",
      "------\n",
      "ebaldwin\n",
      "2016-05-15 16:51:26.902000\n",
      "#oed\n",
      "https://www.zooniverse.org/projects/zooniverse/shakespeares-world/talk/192/54110?comment=107533\n",
      "------\n",
      "VVH\n",
      "2016-05-19 11:44:44.767000\n",
      "#oed\n",
      "https://www.zooniverse.org/projects/zooniverse/shakespeares-world/talk/192/53727?comment=109328\n",
      "------\n",
      "S_Powell\n",
      "2016-05-19 18:52:21.435000\n",
      "#oed\n",
      "https://www.zooniverse.org/projects/zooniverse/shakespeares-world/talk/192/53727?comment=109578\n",
      "------\n",
      "joyce7b\n",
      "2016-05-30 20:29:29.319000\n",
      "#oed\n",
      "https://www.zooniverse.org/projects/zooniverse/shakespeares-world/talk/192/55342?comment=114920\n",
      "------\n",
      "IntelVoid\n",
      "2016-06-05 01:37:37.778000\n",
      "#oed\n",
      "https://www.zooniverse.org/projects/zooniverse/shakespeares-world/talk/192/59020?comment=116418\n",
      "------\n",
      "parsfan\n",
      "2016-06-05 09:01:04.744000\n",
      "#oed\n",
      "https://www.zooniverse.org/projects/zooniverse/shakespeares-world/talk/192/59043?comment=116461\n",
      "------\n",
      "VVH\n",
      "2016-06-09 16:25:57.426000\n",
      "#oed\n",
      "https://www.zooniverse.org/projects/zooniverse/shakespeares-world/talk/192/59678?comment=117631\n",
      "------\n",
      "IntelVoid\n",
      "2016-06-11 12:16:24.685000\n",
      "#oed\n",
      "https://www.zooniverse.org/projects/zooniverse/shakespeares-world/talk/192/55987?comment=117977\n",
      "------\n",
      "elaineleong\n",
      "2016-06-27 18:12:58.357000\n",
      "#oed\n",
      "https://www.zooniverse.org/projects/zooniverse/shakespeares-world/talk/192/62838?comment=123308\n",
      "------\n",
      "ebaldwin\n",
      "2016-07-03 12:19:33.207000\n",
      "#oed\n",
      "https://www.zooniverse.org/projects/zooniverse/shakespeares-world/talk/192/63937?comment=124894\n",
      "------\n",
      "jules\n",
      "2016-07-21 17:50:30.436000\n",
      "#oed\n",
      "https://www.zooniverse.org/projects/zooniverse/shakespeares-world/talk/192/69200?comment=132329\n",
      "------\n",
      "mutabilitie\n",
      "2016-07-22 04:18:14.131000\n",
      "#oed\n",
      "https://www.zooniverse.org/projects/zooniverse/shakespeares-world/talk/192/69242?comment=132431\n",
      "------\n",
      "S_Powell\n",
      "2016-07-29 17:05:13.807000\n",
      "#oed\n",
      "https://www.zooniverse.org/projects/zooniverse/shakespeares-world/talk/239/70932?comment=135088\n",
      "------\n",
      "jules\n",
      "2016-07-31 16:19:52.622000\n",
      "#oed\n",
      "https://www.zooniverse.org/projects/zooniverse/shakespeares-world/talk/192/49645?comment=135703\n",
      "------\n",
      "fromere\n",
      "2016-09-30 13:42:51.038000\n",
      "#oed\n",
      "https://www.zooniverse.org/projects/zooniverse/shakespeares-world/talk/192/99164?comment=182294\n",
      "------\n",
      "parsfan\n",
      "2016-10-13 15:23:49.802000\n",
      "#oed\n",
      "https://www.zooniverse.org/projects/zooniverse/shakespeares-world/talk/192/104742?comment=190382\n",
      "------\n",
      "IntelVoid\n",
      "2016-10-26 05:21:25.615000\n",
      "#oed\n",
      "https://www.zooniverse.org/projects/zooniverse/shakespeares-world/talk/192/112573?comment=201699\n",
      "------\n",
      "S_Powell\n",
      "2016-10-27 20:37:28.576000\n",
      "#oed\n",
      "https://www.zooniverse.org/projects/zooniverse/shakespeares-world/talk/239/111104?comment=203616\n",
      "------\n",
      "parsfan\n",
      "2016-10-29 22:05:26.345000\n",
      "#oed\n",
      "https://www.zooniverse.org/projects/zooniverse/shakespeares-world/talk/239/115228?comment=205670\n",
      "------\n",
      "parsfan\n",
      "2016-11-10 16:18:51.247000\n",
      "#oed\n",
      "https://www.zooniverse.org/projects/zooniverse/shakespeares-world/talk/239/125602?comment=221137\n",
      "------\n",
      "IntelVoid\n",
      "2016-11-16 06:01:53.052000\n",
      "#oed\n",
      "https://www.zooniverse.org/projects/zooniverse/shakespeares-world/talk/192/130081?comment=227836\n",
      "------\n",
      "IntelVoid\n",
      "2016-12-08 05:09:21.386000\n",
      "#oed\n",
      "https://www.zooniverse.org/projects/zooniverse/shakespeares-world/talk/192/36827?comment=246885\n",
      "------\n",
      "parsfan\n",
      "2016-12-08 17:33:50.239000\n",
      "#oed\n",
      "https://www.zooniverse.org/projects/zooniverse/shakespeares-world/talk/239/142171?comment=247171\n",
      "------\n",
      "Kimnj\n",
      "2016-12-12 01:39:41.540000\n",
      "#oed\n",
      "https://www.zooniverse.org/projects/zooniverse/shakespeares-world/talk/192/143667?comment=249735\n",
      "------\n",
      "Kimnj\n",
      "2016-12-13 04:19:12.022000\n",
      "#oed\n",
      "https://www.zooniverse.org/projects/zooniverse/shakespeares-world/talk/192/144189?comment=250646\n",
      "------\n",
      "Kimnj\n",
      "2016-12-13 04:45:38.720000\n",
      "#oed\n",
      "https://www.zooniverse.org/projects/zooniverse/shakespeares-world/talk/192/144190?comment=250647\n",
      "------\n",
      "IntelVoid\n",
      "2016-12-23 03:59:50.790000\n",
      "#oed\n",
      "https://www.zooniverse.org/projects/zooniverse/shakespeares-world/talk/192/149019?comment=258603\n",
      "------\n",
      "parsfan\n",
      "2016-12-23 12:45:26.177000\n",
      "#oed\n",
      "https://www.zooniverse.org/projects/zooniverse/shakespeares-world/talk/239/149139?comment=258774\n",
      "------\n",
      "Kimnj\n",
      "2016-12-26 22:56:02.656000\n",
      "#oed\n",
      "https://www.zooniverse.org/projects/zooniverse/shakespeares-world/talk/192/150629?comment=261123\n",
      "------\n",
      "Kimnj\n",
      "2016-12-27 00:09:48.298000\n",
      "#oed\n",
      "https://www.zooniverse.org/projects/zooniverse/shakespeares-world/talk/192/150657?comment=261194\n",
      "------\n",
      "Kimnj\n",
      "2016-12-27 00:26:51.399000\n",
      "#oed\n",
      "https://www.zooniverse.org/projects/zooniverse/shakespeares-world/talk/192/150662?comment=261207\n",
      "------\n",
      "Kimnj\n",
      "2017-01-22 01:17:37.900000\n",
      "#oed\n",
      "https://www.zooniverse.org/projects/zooniverse/shakespeares-world/talk/192/165133?comment=284710\n",
      "------\n",
      "Kimnj\n",
      "2017-01-23 04:08:14.579000\n",
      "#oed\n",
      "https://www.zooniverse.org/projects/zooniverse/shakespeares-world/talk/192/165675?comment=285684\n",
      "------\n",
      "Kimnj\n",
      "2017-01-23 22:24:47.368000\n",
      "#oed\n",
      "https://www.zooniverse.org/projects/zooniverse/shakespeares-world/talk/192/166024?comment=286280\n",
      "------\n",
      "parsfan\n",
      "2017-01-24 17:31:39.127000\n",
      "#oed\n",
      "https://www.zooniverse.org/projects/zooniverse/shakespeares-world/talk/239/166459?comment=286942\n",
      "------\n",
      "IntelVoid\n",
      "2017-01-26 05:12:10.733000\n",
      "#oed\n",
      "https://www.zooniverse.org/projects/zooniverse/shakespeares-world/talk/192/47447?comment=288168\n",
      "------\n",
      "parsfan\n",
      "2017-01-29 16:21:21.611000\n",
      "#oed\n",
      "https://www.zooniverse.org/projects/zooniverse/shakespeares-world/talk/239/169280?comment=291419\n",
      "------\n",
      "Kimnj\n",
      "2017-01-30 06:29:36.414000\n",
      "#oed\n",
      "https://www.zooniverse.org/projects/zooniverse/shakespeares-world/talk/192/169827?comment=292255\n",
      "------\n",
      "parsfan\n",
      "2017-02-21 17:23:55.342000\n",
      "#oed\n",
      "https://www.zooniverse.org/projects/zooniverse/shakespeares-world/talk/192/141772?comment=321996\n",
      "------\n",
      "jules\n",
      "2017-04-02 20:33:41.978000\n",
      "#oed\n",
      "https://www.zooniverse.org/projects/zooniverse/shakespeares-world/talk/192/251283?comment=418776\n",
      "------\n",
      "jules\n",
      "2017-04-06 15:31:33.684000\n",
      "#oed\n",
      "https://www.zooniverse.org/projects/zooniverse/shakespeares-world/talk/192/265806?comment=438343\n",
      "------\n",
      "jules\n",
      "2017-04-06 17:40:32.339000\n",
      "#oed\n",
      "https://www.zooniverse.org/projects/zooniverse/shakespeares-world/talk/239/266578?comment=438983\n",
      "------\n",
      "schub\n",
      "2017-04-09 20:20:56.210000\n",
      "#oed\n",
      "https://www.zooniverse.org/projects/zooniverse/shakespeares-world/talk/192/276298?comment=454909\n",
      "------\n",
      "jules\n",
      "2017-04-18 23:29:43.643000\n",
      "#oed\n",
      "https://www.zooniverse.org/projects/zooniverse/shakespeares-world/talk/192/296321?comment=491423\n",
      "------\n",
      "schub\n",
      "2017-04-27 19:47:44.085000\n",
      "#oed\n",
      "https://www.zooniverse.org/projects/zooniverse/shakespeares-world/talk/192/40565?comment=518964\n",
      "------\n",
      "schub\n",
      "2017-04-27 20:20:48.675000\n",
      "#oed\n",
      "https://www.zooniverse.org/projects/zooniverse/shakespeares-world/talk/192/40565?comment=519073\n",
      "------\n",
      "schub\n",
      "2017-05-03 03:34:32.607000\n",
      "#oed\n",
      "https://www.zooniverse.org/projects/zooniverse/shakespeares-world/talk/192/276051?comment=530684\n",
      "------\n",
      "schub\n",
      "2017-05-04 18:10:39.411000\n",
      "#oed\n",
      "https://www.zooniverse.org/projects/zooniverse/shakespeares-world/talk/192/321076?comment=534861\n",
      "------\n",
      "schub\n",
      "2017-05-11 01:20:13.216000\n",
      "#oed\n",
      "https://www.zooniverse.org/projects/zooniverse/shakespeares-world/talk/192/122200?comment=548499\n",
      "------\n",
      "AndrejGalinac\n",
      "2017-05-13 17:47:06.948000\n",
      "#oed\n",
      "https://www.zooniverse.org/projects/zooniverse/shakespeares-world/talk/192/331823?comment=553652\n",
      "------\n",
      "parsfan\n",
      "2017-05-16 16:39:03.442000\n",
      "#oed\n",
      "https://www.zooniverse.org/projects/zooniverse/shakespeares-world/talk/239/334822?comment=558581\n",
      "------\n",
      "schub\n",
      "2017-05-17 15:19:51.433000\n",
      "#oed\n",
      "https://www.zooniverse.org/projects/zooniverse/shakespeares-world/talk/192/336219?comment=560671\n",
      "------\n",
      "jules\n",
      "2017-05-19 15:25:51.045000\n",
      "#oed\n",
      "https://www.zooniverse.org/projects/zooniverse/shakespeares-world/talk/192/337261?comment=565144\n",
      "------\n",
      "schub\n",
      "2017-06-08 15:12:26.993000\n",
      "#oed\n",
      "https://www.zooniverse.org/projects/zooniverse/shakespeares-world/talk/192/361335?comment=603632\n",
      "------\n",
      "VVH\n",
      "2017-06-13 11:24:49.499000\n",
      "#oed\n",
      "https://www.zooniverse.org/projects/zooniverse/shakespeares-world/talk/196/316933?comment=611006\n",
      "------\n",
      "VVH\n",
      "2017-06-13 13:42:31.635000\n",
      "#oed\n",
      "https://www.zooniverse.org/projects/zooniverse/shakespeares-world/talk/239/328982?comment=611198\n",
      "------\n",
      "parsfan\n",
      "2017-06-21 16:11:02.237000\n",
      "#oed\n",
      "https://www.zooniverse.org/projects/zooniverse/shakespeares-world/talk/192/68287?comment=624932\n",
      "------\n",
      "jules\n",
      "2017-06-29 22:33:25.295000\n",
      "#oed\n",
      "https://www.zooniverse.org/projects/zooniverse/shakespeares-world/talk/239/382027?comment=638478\n",
      "------\n",
      "parsfan\n",
      "2017-07-03 08:41:50.690000\n",
      "#oed\n",
      "https://www.zooniverse.org/projects/zooniverse/shakespeares-world/talk/192/187992?comment=642907\n",
      "------\n",
      "parsfan\n",
      "2017-07-06 16:37:40.441000\n",
      "#oed\n",
      "https://www.zooniverse.org/projects/zooniverse/shakespeares-world/talk/192/63250?comment=647561\n",
      "------\n",
      "parsfan\n",
      "2017-07-08 12:03:51.269000\n",
      "#oed\n",
      "https://www.zooniverse.org/projects/zooniverse/shakespeares-world/talk/192/309012?comment=650106\n",
      "------\n",
      "schub\n",
      "2017-07-09 02:33:03.171000\n",
      "#oed\n",
      "https://www.zooniverse.org/projects/zooniverse/shakespeares-world/talk/192/389807?comment=650932\n",
      "------\n",
      "VVH\n",
      "2017-07-10 10:42:46.285000\n",
      "#oed\n",
      "https://www.zooniverse.org/projects/zooniverse/shakespeares-world/talk/192/389161?comment=652393\n",
      "------\n",
      "parsfan\n",
      "2017-07-10 11:32:44.166000\n",
      "#oed\n",
      "https://www.zooniverse.org/projects/zooniverse/shakespeares-world/talk/192/390720?comment=652440\n",
      "------\n",
      "schub\n",
      "2017-07-15 01:57:00.132000\n",
      "#oed\n",
      "https://www.zooniverse.org/projects/zooniverse/shakespeares-world/talk/192/394459?comment=658853\n",
      "------\n",
      "schub\n",
      "2017-08-07 15:12:59.519000\n",
      "#oed\n",
      "https://www.zooniverse.org/projects/zooniverse/shakespeares-world/talk/192/413169?comment=688781\n",
      "------\n",
      "parsfan\n",
      "2017-08-24 21:08:58.443000\n",
      "#oed\n",
      "https://www.zooniverse.org/projects/zooniverse/shakespeares-world/talk/192/136520?comment=709103\n",
      "------\n",
      "schub\n",
      "2017-08-25 15:39:28.096000\n",
      "#oed\n",
      "https://www.zooniverse.org/projects/zooniverse/shakespeares-world/talk/192/425914?comment=709735\n",
      "------\n",
      "parsfan\n",
      "2017-08-25 17:22:21.882000\n",
      "#oed\n",
      "https://www.zooniverse.org/projects/zooniverse/shakespeares-world/talk/192/376063?comment=709783\n",
      "------\n",
      "schub\n",
      "2017-08-29 14:36:22.295000\n",
      "#oed\n",
      "https://www.zooniverse.org/projects/zooniverse/shakespeares-world/talk/192/428045?comment=713344\n",
      "------\n",
      "parsfan\n",
      "2017-09-03 14:28:46.813000\n",
      "#oed\n",
      "https://www.zooniverse.org/projects/zooniverse/shakespeares-world/talk/239/430673?comment=717773\n",
      "------\n",
      "parsfan\n",
      "2017-09-08 15:56:15.777000\n",
      "#oed\n",
      "https://www.zooniverse.org/projects/zooniverse/shakespeares-world/talk/239/433526?comment=722920\n",
      "------\n",
      "IntelVoid\n",
      "2017-09-11 13:10:16\n",
      "#oed\n",
      "https://www.zooniverse.org/projects/zooniverse/shakespeares-world/talk/192/435504?comment=726128\n",
      "------\n",
      "IntelVoid\n",
      "2017-09-12 16:38:37.529000\n",
      "#oed\n",
      "https://www.zooniverse.org/projects/zooniverse/shakespeares-world/talk/192/379012?comment=727598\n",
      "------\n",
      "IntelVoid\n",
      "2017-09-12 16:52:04.446000\n",
      "#oed\n",
      "https://www.zooniverse.org/projects/zooniverse/shakespeares-world/talk/239/436302?comment=727621\n",
      "------\n",
      "parsfan\n",
      "2017-09-13 15:21:26.444000\n",
      "#oed\n",
      "https://www.zooniverse.org/projects/zooniverse/shakespeares-world/talk/192/23007?comment=728707\n",
      "------\n",
      "VVH\n",
      "2017-09-28 15:02:50.257000\n",
      "#oed\n",
      "https://www.zooniverse.org/projects/zooniverse/shakespeares-world/talk/192/50259?comment=744044\n",
      "------\n",
      "schub\n",
      "2017-10-06 22:34:02.422000\n",
      "#oed\n",
      "https://www.zooniverse.org/projects/zooniverse/shakespeares-world/talk/239/450689?comment=751878\n",
      "------\n",
      "parsfan\n",
      "2017-10-16 10:39:25.679000\n",
      "#oed\n",
      "https://www.zooniverse.org/projects/zooniverse/shakespeares-world/talk/192/456057?comment=760766\n",
      "------\n",
      "schub\n",
      "2017-10-25 16:56:42.783000\n",
      "#oed\n",
      "https://www.zooniverse.org/projects/zooniverse/shakespeares-world/talk/192/462685?comment=772200\n",
      "------\n",
      "schub\n",
      "2017-10-26 00:21:06.330000\n",
      "#oed\n",
      "https://www.zooniverse.org/projects/zooniverse/shakespeares-world/talk/192/397842?comment=772863\n",
      "------\n",
      "Christoferos\n",
      "2017-11-04 12:35:25.286000\n",
      "#oed\n",
      "https://www.zooniverse.org/projects/zooniverse/shakespeares-world/talk/192/27336?comment=783562\n",
      "------\n",
      "schub\n",
      "2017-11-04 17:12:47.403000\n",
      "#oed\n",
      "https://www.zooniverse.org/projects/zooniverse/shakespeares-world/talk/192/469817?comment=783752\n",
      "------\n",
      "joyce7b\n",
      "2017-11-10 21:38:14.164000\n",
      "#oed\n",
      "https://www.zooniverse.org/projects/zooniverse/shakespeares-world/talk/192/471557?comment=790329\n",
      "------\n",
      "schub\n",
      "2017-11-10 22:56:43.269000\n",
      "#oed\n",
      "https://www.zooniverse.org/projects/zooniverse/shakespeares-world/talk/192/473884?comment=790420\n",
      "------\n",
      "schub\n",
      "2017-11-14 22:05:41.343000\n",
      "#oed\n",
      "https://www.zooniverse.org/projects/zooniverse/shakespeares-world/talk/192/275288?comment=794465\n",
      "------\n",
      "schub\n",
      "2017-11-18 20:51:29.184000\n",
      "#oed\n",
      "https://www.zooniverse.org/projects/zooniverse/shakespeares-world/talk/192/478822?comment=798687\n",
      "------\n",
      "parsfan\n",
      "2017-11-21 14:00:31.885000\n",
      "#oed\n",
      "https://www.zooniverse.org/projects/zooniverse/shakespeares-world/talk/192/480392?comment=801256\n",
      "------\n"
     ]
    }
   ],
   "source": [
    "for t in ta.CoreSet.hashtagtimeseries(\"#oed\", df).iterrows():\n",
    "    print(t[1][0])\n",
    "    print(t[1][1])\n",
    "    print(t[1][2])\n",
    "    print(t[1][3])\n",
    "    print(\"------\")\n"
   ]
  },
  {
   "cell_type": "code",
   "execution_count": 39,
   "metadata": {
    "collapsed": false
   },
   "outputs": [
    {
     "data": {
      "text/plain": [
       "0    2015-12-10 16:48:16.372\n",
       "1    2015-12-10 17:51:43.537\n",
       "2    2015-12-10 18:03:14.555\n",
       "3    2015-12-10 18:09:08.853\n",
       "4    2015-12-10 23:28:41.703\n",
       "5    2015-12-11 16:34:15.917\n",
       "6    2015-12-11 17:23:19.682\n",
       "7    2015-12-11 18:29:33.553\n",
       "8    2015-12-11 20:00:52.875\n",
       "9    2015-12-13 02:47:33.379\n",
       "10   2015-12-13 14:06:09.771\n",
       "11   2015-12-13 14:19:43.119\n",
       "12   2015-12-14 15:23:51.972\n",
       "13   2015-12-14 17:04:48.450\n",
       "14   2015-12-15 09:32:18.498\n",
       "15   2015-12-15 13:48:17.294\n",
       "16   2015-12-15 19:53:43.351\n",
       "17   2015-12-16 14:30:09.570\n",
       "18   2015-12-16 16:19:27.774\n",
       "19   2015-12-18 16:51:35.822\n",
       "20   2015-12-18 22:49:03.204\n",
       "21   2015-12-18 23:40:12.901\n",
       "22   2015-12-20 16:24:36.157\n",
       "23   2015-12-21 13:17:55.799\n",
       "24   2015-12-21 19:20:17.265\n",
       "25   2015-12-21 19:34:35.142\n",
       "26   2015-12-22 18:18:11.706\n",
       "27   2015-12-22 19:49:03.268\n",
       "28   2015-12-24 13:02:26.785\n",
       "29   2015-12-24 14:29:04.819\n",
       "               ...          \n",
       "62   2016-02-20 16:22:06.196\n",
       "63   2016-02-26 15:40:03.017\n",
       "64   2016-03-04 14:47:31.934\n",
       "65   2016-03-14 21:22:35.577\n",
       "66   2016-03-28 18:00:06.517\n",
       "67   2016-04-14 20:54:58.401\n",
       "68   2016-04-14 21:35:22.922\n",
       "69   2016-06-28 19:41:33.963\n",
       "70   2016-07-12 20:16:59.343\n",
       "71   2016-07-19 22:05:33.808\n",
       "72   2016-08-14 00:53:20.141\n",
       "73   2016-11-26 12:03:35.268\n",
       "74   2016-12-14 18:06:53.423\n",
       "75   2016-12-23 16:29:48.670\n",
       "76   2016-12-29 11:42:54.053\n",
       "77   2017-01-03 09:39:46.838\n",
       "78   2017-01-03 11:02:36.187\n",
       "79   2017-03-27 11:25:51.098\n",
       "80   2017-05-06 10:37:43.788\n",
       "81   2017-05-31 16:54:05.612\n",
       "82   2017-05-31 16:57:48.493\n",
       "83   2017-06-13 11:24:49.499\n",
       "84   2017-06-13 11:38:55.905\n",
       "85   2017-06-13 13:13:32.702\n",
       "86   2017-06-13 13:46:28.221\n",
       "87   2017-06-13 16:46:30.560\n",
       "88   2017-07-03 11:25:14.015\n",
       "89   2017-10-12 19:03:58.260\n",
       "90   2017-10-25 11:41:55.383\n",
       "91   2017-11-15 15:49:37.426\n",
       "Name: Timestamp, dtype: datetime64[ns]"
      ]
     },
     "execution_count": 39,
     "metadata": {},
     "output_type": "execute_result"
    }
   ],
   "source": [
    "ta.CoreSet.hashtagtimeseries(\"#womanwriter\", df)['Timestamp']"
   ]
  },
  {
   "cell_type": "code",
   "execution_count": 40,
   "metadata": {
    "collapsed": false
   },
   "outputs": [
    {
     "name": "stdout",
     "output_type": "stream",
     "text": [
      "[0 1]\n"
     ]
    }
   ],
   "source": [
    "searchterm = \"#corlyon\"\n",
    "\n",
    "X = ta.CoreSet.hashtagtimeseries(searchterm, df)['Timestamp']\n",
    "user = list(range((len(X))))\n",
    "userlist = ta.CoreSet.hashtagtimeseries(searchterm, df)['User']\n",
    "factorized = pd.factorize(userlist)\n",
    "print(factorized[0])\n",
    "#print(c)"
   ]
  },
  {
   "cell_type": "code",
   "execution_count": 41,
   "metadata": {
    "collapsed": false
   },
   "outputs": [],
   "source": [
    "hexlist = []\n",
    "for f in factorized[0]:\n",
    "    hexlist.append(str('{0:06X}'.format(f*560000)))"
   ]
  },
  {
   "cell_type": "code",
   "execution_count": 42,
   "metadata": {
    "collapsed": false
   },
   "outputs": [
    {
     "name": "stdout",
     "output_type": "stream",
     "text": [
      "['000000', '088B80']\n",
      "2016-02-05 14:30:22.280000 0 000000\n",
      "2016-04-14 21:35:22.922000 1 088B80\n"
     ]
    },
    {
     "data": {
      "image/png": "[encoded data removed]",
      "text/plain": [
       "<matplotlib.figure.Figure at 0x1195598d0>"
      ]
     },
     "metadata": {},
     "output_type": "display_data"
    },
    {
     "ename": "NameError",
     "evalue": "name 'x' is not defined",
     "output_type": "error",
     "traceback": [
      "\u001b[0;31m---------------------------------------------------------------------------\u001b[0m",
      "\u001b[0;31mNameError\u001b[0m                                 Traceback (most recent call last)",
      "\u001b[0;32m<ipython-input-42-8c342900b417>\u001b[0m in \u001b[0;36m<module>\u001b[0;34m()\u001b[0m\n\u001b[1;32m     22\u001b[0m \u001b[0;34m\u001b[0m\u001b[0m\n\u001b[1;32m     23\u001b[0m \u001b[0mtitles\u001b[0m \u001b[0;34m=\u001b[0m \u001b[0;34m[\u001b[0m\u001b[0;34m'Linear'\u001b[0m\u001b[0;34m,\u001b[0m \u001b[0;34m'Squared'\u001b[0m\u001b[0;34m,\u001b[0m \u001b[0;34m'Cubic'\u001b[0m\u001b[0;34m,\u001b[0m \u001b[0;34m'Quartic'\u001b[0m\u001b[0;34m]\u001b[0m\u001b[0;34m\u001b[0m\u001b[0m\n\u001b[0;32m---> 24\u001b[0;31m \u001b[0my_vals\u001b[0m \u001b[0;34m=\u001b[0m \u001b[0;34m[\u001b[0m\u001b[0mx\u001b[0m\u001b[0;34m,\u001b[0m \u001b[0mx\u001b[0m \u001b[0;34m*\u001b[0m \u001b[0mx\u001b[0m\u001b[0;34m,\u001b[0m \u001b[0mx\u001b[0m\u001b[0;34m**\u001b[0m\u001b[0;36m3\u001b[0m\u001b[0;34m,\u001b[0m \u001b[0mx\u001b[0m\u001b[0;34m**\u001b[0m\u001b[0;36m4\u001b[0m\u001b[0;34m]\u001b[0m\u001b[0;34m\u001b[0m\u001b[0m\n\u001b[0m\u001b[1;32m     25\u001b[0m \u001b[0;34m\u001b[0m\u001b[0m\n\u001b[1;32m     26\u001b[0m \u001b[0;31m# axes.flat returns the set of axes as a flat (1D) array instead\u001b[0m\u001b[0;34m\u001b[0m\u001b[0;34m\u001b[0m\u001b[0m\n",
      "\u001b[0;31mNameError\u001b[0m: name 'x' is not defined"
     ]
    },
    {
     "data": {
      "image/png": "[encoded data removed]",
      "text/plain": [
       "<matplotlib.figure.Figure at 0x119123978>"
      ]
     },
     "metadata": {},
     "output_type": "display_data"
    }
   ],
   "source": [
    "fig, ax = plt.subplots(figsize=(20,4))\n",
    "userlist = ta.CoreSet.hashtagtimeseries(searchterm, df)['Timestamp']\n",
    "color = [item for item in hexlist]\n",
    "print(color)\n",
    "\n",
    "test = ['C1', 'C2', 'C3']\n",
    "\n",
    "#plt.plot(X, user, 'ro')\n",
    "for X, user, color in zip(X, user, color):\n",
    "    print(X, user, color)\n",
    "\n",
    "#plt.plot(X, user, \".\", color=('111700'))\n",
    "\n",
    "#fig.autofmt_xdate()\n",
    "\n",
    "plt.show()\n",
    "\n",
    "\n",
    "\n",
    "\n",
    "fig, axes = plt.subplots(nrows=2, ncols=2, sharex=True)\n",
    "\n",
    "titles = ['Linear', 'Squared', 'Cubic', 'Quartic']\n",
    "y_vals = [x, x * x, x**3, x**4]\n",
    "\n",
    "# axes.flat returns the set of axes as a flat (1D) array instead\n",
    "# of the two-dimensional version we used earlier\n",
    "for ax, title, y in zip(axes.flat, titles, y_vals):\n",
    "    ax.plot(x, y)\n",
    "    ax.set_title(title)\n",
    "    ax.grid(True)"
   ]
  },
  {
   "cell_type": "code",
   "execution_count": 10,
   "metadata": {
    "collapsed": false,
    "scrolled": false
   },
   "outputs": [
    {
     "name": "stdout",
     "output_type": "stream",
     "text": [
      "Searching for: #recipe\n"
     ]
    },
    {
     "data": {
      "image/png": "[encoded data removed]",
      "text/plain": [
       "<matplotlib.figure.Figure at 0x11c909358>"
      ]
     },
     "metadata": {},
     "output_type": "display_data"
    }
   ],
   "source": [
    "ta.CoreSet.histogram(\"#recipe\", df)"
   ]
  },
  {
   "cell_type": "code",
   "execution_count": 43,
   "metadata": {
    "collapsed": false
   },
   "outputs": [
    {
     "name": "stdout",
     "output_type": "stream",
     "text": [
      "Searching for: #oed\n"
     ]
    },
    {
     "data": {
      "image/png": "[encoded data removed]",
      "text/plain": [
       "<matplotlib.figure.Figure at 0x11d097d68>"
      ]
     },
     "metadata": {},
     "output_type": "display_data"
    }
   ],
   "source": [
    "ta.CoreSet.distplot(\"#oed\", df)"
   ]
  },
  {
   "cell_type": "code",
   "execution_count": 44,
   "metadata": {
    "collapsed": false
   },
   "outputs": [
    {
     "name": "stdout",
     "output_type": "stream",
     "text": [
      "Searching for: #womanwriter\n"
     ]
    },
    {
     "data": {
      "image/png": "[encoded data removed]",
      "text/plain": [
       "<matplotlib.figure.Figure at 0x119961b38>"
      ]
     },
     "metadata": {},
     "output_type": "display_data"
    }
   ],
   "source": [
    "ta.CoreSet.kerneldistplot(\"#womanwriter\", df)"
   ]
  },
  {
   "cell_type": "code",
   "execution_count": 5,
   "metadata": {
    "collapsed": false,
    "scrolled": true
   },
   "outputs": [
    {
     "name": "stdout",
     "output_type": "stream",
     "text": [
      "Searching for: #letter\n"
     ]
    },
    {
     "data": {
      "image/png": "[encoded data removed]",
      "text/plain": [
       "<matplotlib.figure.Figure at 0x103453320>"
      ]
     },
     "metadata": {},
     "output_type": "display_data"
    },
    {
     "name": "stdout",
     "output_type": "stream",
     "text": [
      "Searching for: #letter\n"
     ]
    },
    {
     "data": {
      "image/png": "[encoded data removed]",
      "text/plain": [
       "<matplotlib.figure.Figure at 0x114dca588>"
      ]
     },
     "metadata": {},
     "output_type": "display_data"
    },
    {
     "name": "stdout",
     "output_type": "stream",
     "text": [
      "---------------\n",
      "Searching for: #oed\n"
     ]
    },
    {
     "data": {
      "image/png": "[encoded data removed]",
      "text/plain": [
       "<matplotlib.figure.Figure at 0x108cd9b38>"
      ]
     },
     "metadata": {},
     "output_type": "display_data"
    },
    {
     "name": "stdout",
     "output_type": "stream",
     "text": [
      "Searching for: #oed\n"
     ]
    },
    {
     "data": {
      "image/png": "[encoded data removed]",
      "text/plain": [
       "<matplotlib.figure.Figure at 0x114d2e780>"
      ]
     },
     "metadata": {},
     "output_type": "display_data"
    },
    {
     "name": "stdout",
     "output_type": "stream",
     "text": [
      "---------------\n",
      "Searching for: #recipe\n"
     ]
    },
    {
     "data": {
      "image/png": "[encoded data removed]",
      "text/plain": [
       "<matplotlib.figure.Figure at 0x1142184e0>"
      ]
     },
     "metadata": {},
     "output_type": "display_data"
    },
    {
     "name": "stdout",
     "output_type": "stream",
     "text": [
      "Searching for: #recipe\n"
     ]
    },
    {
     "data": {
      "image/png": "[encoded data removed]",
      "text/plain": [
       "<matplotlib.figure.Figure at 0x1143f09e8>"
      ]
     },
     "metadata": {},
     "output_type": "display_data"
    },
    {
     "name": "stdout",
     "output_type": "stream",
     "text": [
      "---------------\n",
      "Searching for: #medicine\n"
     ]
    },
    {
     "data": {
      "image/png": "[encoded data removed]",
      "text/plain": [
       "<matplotlib.figure.Figure at 0x1093d04a8>"
      ]
     },
     "metadata": {},
     "output_type": "display_data"
    },
    {
     "name": "stdout",
     "output_type": "stream",
     "text": [
      "Searching for: #medicine\n"
     ]
    },
    {
     "data": {
      "image/png": "[encoded data removed]",
      "text/plain": [
       "<matplotlib.figure.Figure at 0x1093c7898>"
      ]
     },
     "metadata": {},
     "output_type": "display_data"
    },
    {
     "name": "stdout",
     "output_type": "stream",
     "text": [
      "---------------\n",
      "Searching for: #latin\n"
     ]
    },
    {
     "data": {
      "image/png": "[encoded data removed]",
      "text/plain": [
       "<matplotlib.figure.Figure at 0x11481ab70>"
      ]
     },
     "metadata": {},
     "output_type": "display_data"
    },
    {
     "name": "stdout",
     "output_type": "stream",
     "text": [
      "Searching for: #latin\n"
     ]
    },
    {
     "data": {
      "image/png": "[encoded data removed]",
      "text/plain": [
       "<matplotlib.figure.Figure at 0x1033a4898>"
      ]
     },
     "metadata": {},
     "output_type": "display_data"
    },
    {
     "name": "stdout",
     "output_type": "stream",
     "text": [
      "---------------\n",
      "Searching for: #womanwriter\n"
     ]
    },
    {
     "ename": "KeyboardInterrupt",
     "evalue": "",
     "output_type": "error",
     "traceback": [
      "\u001b[0;31m---------------------------------------------------------------------------\u001b[0m",
      "\u001b[0;31mKeyError\u001b[0m                                  Traceback (most recent call last)",
      "\u001b[0;32m/Users/christopher/anaconda3/lib/python3.6/site-packages/pandas/indexes/base.py\u001b[0m in \u001b[0;36mget_value\u001b[0;34m(self, series, key)\u001b[0m\n\u001b[1;32m   2168\u001b[0m             return self._engine.get_value(s, k,\n\u001b[0;32m-> 2169\u001b[0;31m                                           tz=getattr(series.dtype, 'tz', None))\n\u001b[0m\u001b[1;32m   2170\u001b[0m         \u001b[0;32mexcept\u001b[0m \u001b[0mKeyError\u001b[0m \u001b[0;32mas\u001b[0m \u001b[0me1\u001b[0m\u001b[0;34m:\u001b[0m\u001b[0;34m\u001b[0m\u001b[0m\n",
      "\u001b[0;32mpandas/index.pyx\u001b[0m in \u001b[0;36mpandas.index.IndexEngine.get_value (pandas/index.c:3557)\u001b[0;34m()\u001b[0m\n",
      "\u001b[0;32mpandas/index.pyx\u001b[0m in \u001b[0;36mpandas.index.IndexEngine.get_value (pandas/index.c:3240)\u001b[0;34m()\u001b[0m\n",
      "\u001b[0;32mpandas/index.pyx\u001b[0m in \u001b[0;36mpandas.index.IndexEngine.get_loc (pandas/index.c:4279)\u001b[0;34m()\u001b[0m\n",
      "\u001b[0;32mpandas/src/hashtable_class_helper.pxi\u001b[0m in \u001b[0;36mpandas.hashtable.PyObjectHashTable.get_item (pandas/hashtable.c:13742)\u001b[0;34m()\u001b[0m\n",
      "\u001b[0;32mpandas/src/hashtable_class_helper.pxi\u001b[0m in \u001b[0;36mpandas.hashtable.PyObjectHashTable.get_item (pandas/hashtable.c:13696)\u001b[0;34m()\u001b[0m\n",
      "\u001b[0;31mKeyError\u001b[0m: 3",
      "\nDuring handling of the above exception, another exception occurred:\n",
      "\u001b[0;31mKeyboardInterrupt\u001b[0m                         Traceback (most recent call last)",
      "\u001b[0;32m<ipython-input-5-3909844b00cc>\u001b[0m in \u001b[0;36m<module>\u001b[0;34m()\u001b[0m\n\u001b[1;32m      1\u001b[0m \u001b[0;34m'''Print graphs and stuff'''\u001b[0m\u001b[0;34m\u001b[0m\u001b[0m\n\u001b[1;32m      2\u001b[0m \u001b[0;32mfor\u001b[0m \u001b[0mhashtag\u001b[0m \u001b[0;32min\u001b[0m \u001b[0mc\u001b[0m\u001b[0;34m.\u001b[0m\u001b[0mmost_common\u001b[0m\u001b[0;34m(\u001b[0m\u001b[0;36m10\u001b[0m\u001b[0;34m)\u001b[0m\u001b[0;34m:\u001b[0m\u001b[0;34m\u001b[0m\u001b[0m\n\u001b[0;32m----> 3\u001b[0;31m     \u001b[0mta\u001b[0m\u001b[0;34m.\u001b[0m\u001b[0mCoreSet\u001b[0m\u001b[0;34m.\u001b[0m\u001b[0mhistogram\u001b[0m\u001b[0;34m(\u001b[0m\u001b[0mhashtag\u001b[0m\u001b[0;34m[\u001b[0m\u001b[0;36m0\u001b[0m\u001b[0;34m]\u001b[0m\u001b[0;34m,\u001b[0m \u001b[0mdf\u001b[0m\u001b[0;34m)\u001b[0m\u001b[0;34m\u001b[0m\u001b[0m\n\u001b[0m\u001b[1;32m      4\u001b[0m     \u001b[0mta\u001b[0m\u001b[0;34m.\u001b[0m\u001b[0mCoreSet\u001b[0m\u001b[0;34m.\u001b[0m\u001b[0mdistplot\u001b[0m\u001b[0;34m(\u001b[0m\u001b[0mhashtag\u001b[0m\u001b[0;34m[\u001b[0m\u001b[0;36m0\u001b[0m\u001b[0;34m]\u001b[0m\u001b[0;34m,\u001b[0m \u001b[0mdf\u001b[0m\u001b[0;34m)\u001b[0m\u001b[0;34m\u001b[0m\u001b[0m\n\u001b[1;32m      5\u001b[0m     \u001b[0mprint\u001b[0m\u001b[0;34m(\u001b[0m\u001b[0;34m\"---------------\"\u001b[0m\u001b[0;34m)\u001b[0m\u001b[0;34m\u001b[0m\u001b[0m\n",
      "\u001b[0;32m/Users/christopher/Dropbox/pythonDropbox/talk-analyzer/talkanalyzer.py\u001b[0m in \u001b[0;36mhistogram\u001b[0;34m(searchstring, df)\u001b[0m\n\u001b[1;32m    375\u001b[0m \u001b[0;34m\u001b[0m\u001b[0m\n\u001b[1;32m    376\u001b[0m     \u001b[0;32mdef\u001b[0m \u001b[0mhistogram\u001b[0m\u001b[0;34m(\u001b[0m\u001b[0msearchstring\u001b[0m\u001b[0;34m,\u001b[0m \u001b[0mdf\u001b[0m\u001b[0;34m)\u001b[0m\u001b[0;34m:\u001b[0m\u001b[0;34m\u001b[0m\u001b[0m\n\u001b[0;32m--> 377\u001b[0;31m         \u001b[0mfreqdict\u001b[0m \u001b[0;34m=\u001b[0m \u001b[0mCoreSet\u001b[0m\u001b[0;34m.\u001b[0m\u001b[0mfrequency\u001b[0m\u001b[0;34m(\u001b[0m\u001b[0msearchstring\u001b[0m\u001b[0;34m,\u001b[0m \u001b[0mdf\u001b[0m\u001b[0;34m)\u001b[0m\u001b[0;34m\u001b[0m\u001b[0m\n\u001b[0m\u001b[1;32m    378\u001b[0m         \u001b[0mfreqarray\u001b[0m \u001b[0;34m=\u001b[0m \u001b[0;34m[\u001b[0m\u001b[0;34m]\u001b[0m\u001b[0;34m\u001b[0m\u001b[0m\n\u001b[1;32m    379\u001b[0m         \u001b[0;32mfor\u001b[0m \u001b[0mtple\u001b[0m \u001b[0;32min\u001b[0m \u001b[0mfreqdict\u001b[0m\u001b[0;34m:\u001b[0m\u001b[0;34m\u001b[0m\u001b[0m\n",
      "\u001b[0;32m/Users/christopher/Dropbox/pythonDropbox/talk-analyzer/talkanalyzer.py\u001b[0m in \u001b[0;36mfrequency\u001b[0;34m(searchstring, df)\u001b[0m\n\u001b[1;32m    353\u001b[0m     \u001b[0;32mdef\u001b[0m \u001b[0mfrequency\u001b[0m\u001b[0;34m(\u001b[0m\u001b[0msearchstring\u001b[0m\u001b[0;34m,\u001b[0m \u001b[0mdf\u001b[0m\u001b[0;34m)\u001b[0m\u001b[0;34m:\u001b[0m\u001b[0;34m\u001b[0m\u001b[0m\n\u001b[1;32m    354\u001b[0m         distribution = Network.getnodes(searchstring, df,\n\u001b[0;32m--> 355\u001b[0;31m                                         source='hash', target='user')\n\u001b[0m\u001b[1;32m    356\u001b[0m         \u001b[0;32mreturn\u001b[0m \u001b[0mdistribution\u001b[0m\u001b[0;34m\u001b[0m\u001b[0m\n\u001b[1;32m    357\u001b[0m \u001b[0;34m\u001b[0m\u001b[0m\n",
      "\u001b[0;32m/Users/christopher/Dropbox/pythonDropbox/talk-analyzer/talkanalyzer.py\u001b[0m in \u001b[0;36mgetnodes\u001b[0;34m(searchstring, df, source, target)\u001b[0m\n\u001b[1;32m    238\u001b[0m                 \u001b[0;32mfor\u001b[0m \u001b[0mrow\u001b[0m \u001b[0;32min\u001b[0m \u001b[0mdf\u001b[0m\u001b[0;34m.\u001b[0m\u001b[0miterrows\u001b[0m\u001b[0;34m(\u001b[0m\u001b[0;34m)\u001b[0m\u001b[0;34m:\u001b[0m\u001b[0;34m\u001b[0m\u001b[0m\n\u001b[1;32m    239\u001b[0m                     \u001b[0mregexp\u001b[0m \u001b[0;34m=\u001b[0m \u001b[0;34m'\\#'\u001b[0m \u001b[0;34m+\u001b[0m \u001b[0msearchstring\u001b[0m\u001b[0;34m[\u001b[0m\u001b[0;36m1\u001b[0m\u001b[0;34m:\u001b[0m\u001b[0;34m]\u001b[0m \u001b[0;34m+\u001b[0m \u001b[0;34m\"\\s\"\u001b[0m\u001b[0;34m\u001b[0m\u001b[0m\n\u001b[0;32m--> 240\u001b[0;31m                     \u001b[0mmatch\u001b[0m \u001b[0;34m=\u001b[0m \u001b[0mre\u001b[0m\u001b[0;34m.\u001b[0m\u001b[0mfindall\u001b[0m\u001b[0;34m(\u001b[0m\u001b[0mregexp\u001b[0m\u001b[0;34m,\u001b[0m \u001b[0mrow\u001b[0m\u001b[0;34m[\u001b[0m\u001b[0;36m1\u001b[0m\u001b[0;34m]\u001b[0m\u001b[0;34m[\u001b[0m\u001b[0;36m3\u001b[0m\u001b[0;34m]\u001b[0m\u001b[0;34m,\u001b[0m \u001b[0mre\u001b[0m\u001b[0;34m.\u001b[0m\u001b[0mIGNORECASE\u001b[0m\u001b[0;34m)\u001b[0m\u001b[0;34m\u001b[0m\u001b[0m\n\u001b[0m\u001b[1;32m    241\u001b[0m                     \u001b[0;32mif\u001b[0m \u001b[0mmatch\u001b[0m\u001b[0;34m:\u001b[0m\u001b[0;34m\u001b[0m\u001b[0m\n\u001b[1;32m    242\u001b[0m                         \u001b[0mnodes\u001b[0m\u001b[0;34m.\u001b[0m\u001b[0mappend\u001b[0m\u001b[0;34m(\u001b[0m\u001b[0mrow\u001b[0m\u001b[0;34m[\u001b[0m\u001b[0;36m1\u001b[0m\u001b[0;34m]\u001b[0m\u001b[0;34m[\u001b[0m\u001b[0;36m9\u001b[0m\u001b[0;34m]\u001b[0m\u001b[0;34m)\u001b[0m\u001b[0;34m\u001b[0m\u001b[0m\n",
      "\u001b[0;32m/Users/christopher/anaconda3/lib/python3.6/site-packages/pandas/core/series.py\u001b[0m in \u001b[0;36m__getitem__\u001b[0;34m(self, key)\u001b[0m\n\u001b[1;32m    601\u001b[0m         \u001b[0mkey\u001b[0m \u001b[0;34m=\u001b[0m \u001b[0mcom\u001b[0m\u001b[0;34m.\u001b[0m\u001b[0m_apply_if_callable\u001b[0m\u001b[0;34m(\u001b[0m\u001b[0mkey\u001b[0m\u001b[0;34m,\u001b[0m \u001b[0mself\u001b[0m\u001b[0;34m)\u001b[0m\u001b[0;34m\u001b[0m\u001b[0m\n\u001b[1;32m    602\u001b[0m         \u001b[0;32mtry\u001b[0m\u001b[0;34m:\u001b[0m\u001b[0;34m\u001b[0m\u001b[0m\n\u001b[0;32m--> 603\u001b[0;31m             \u001b[0mresult\u001b[0m \u001b[0;34m=\u001b[0m \u001b[0mself\u001b[0m\u001b[0;34m.\u001b[0m\u001b[0mindex\u001b[0m\u001b[0;34m.\u001b[0m\u001b[0mget_value\u001b[0m\u001b[0;34m(\u001b[0m\u001b[0mself\u001b[0m\u001b[0;34m,\u001b[0m \u001b[0mkey\u001b[0m\u001b[0;34m)\u001b[0m\u001b[0;34m\u001b[0m\u001b[0m\n\u001b[0m\u001b[1;32m    604\u001b[0m \u001b[0;34m\u001b[0m\u001b[0m\n\u001b[1;32m    605\u001b[0m             \u001b[0;32mif\u001b[0m \u001b[0;32mnot\u001b[0m \u001b[0mis_scalar\u001b[0m\u001b[0;34m(\u001b[0m\u001b[0mresult\u001b[0m\u001b[0;34m)\u001b[0m\u001b[0;34m:\u001b[0m\u001b[0;34m\u001b[0m\u001b[0m\n",
      "\u001b[0;32m/Users/christopher/anaconda3/lib/python3.6/site-packages/pandas/indexes/base.py\u001b[0m in \u001b[0;36mget_value\u001b[0;34m(self, series, key)\u001b[0m\n\u001b[1;32m   2167\u001b[0m         \u001b[0;32mtry\u001b[0m\u001b[0;34m:\u001b[0m\u001b[0;34m\u001b[0m\u001b[0m\n\u001b[1;32m   2168\u001b[0m             return self._engine.get_value(s, k,\n\u001b[0;32m-> 2169\u001b[0;31m                                           tz=getattr(series.dtype, 'tz', None))\n\u001b[0m\u001b[1;32m   2170\u001b[0m         \u001b[0;32mexcept\u001b[0m \u001b[0mKeyError\u001b[0m \u001b[0;32mas\u001b[0m \u001b[0me1\u001b[0m\u001b[0;34m:\u001b[0m\u001b[0;34m\u001b[0m\u001b[0m\n\u001b[1;32m   2171\u001b[0m             \u001b[0;32mif\u001b[0m \u001b[0mlen\u001b[0m\u001b[0;34m(\u001b[0m\u001b[0mself\u001b[0m\u001b[0;34m)\u001b[0m \u001b[0;34m>\u001b[0m \u001b[0;36m0\u001b[0m \u001b[0;32mand\u001b[0m \u001b[0mself\u001b[0m\u001b[0;34m.\u001b[0m\u001b[0minferred_type\u001b[0m \u001b[0;32min\u001b[0m \u001b[0;34m[\u001b[0m\u001b[0;34m'integer'\u001b[0m\u001b[0;34m,\u001b[0m \u001b[0;34m'boolean'\u001b[0m\u001b[0;34m]\u001b[0m\u001b[0;34m:\u001b[0m\u001b[0;34m\u001b[0m\u001b[0m\n",
      "\u001b[0;31mKeyboardInterrupt\u001b[0m: "
     ]
    }
   ],
   "source": [
    "'''Print graphs and stuff'''\n",
    "for hashtag in c.most_common(10):\n",
    "    ta.CoreSet.histogram(hashtag[0], df)\n",
    "    ta.CoreSet.distplot(hashtag[0], df)\n",
    "    print(\"---------------\")"
   ]
  },
  {
   "cell_type": "code",
   "execution_count": 63,
   "metadata": {
    "collapsed": false
   },
   "outputs": [
    {
     "name": "stdout",
     "output_type": "stream",
     "text": [
      "Searching for: #catholic\n",
      "VVH 34\n",
      "mutabilitie 15\n",
      "parsfan 10\n",
      "IntelVoid 5\n",
      "schub 5\n",
      "Traceydix 4\n",
      "Cuboctahedron 3\n",
      "Christoferos 3\n",
      "joolslee 2\n",
      "dhaunsperger 2\n",
      "brownfox 2\n",
      "Hannebambel 1\n",
      "kodemunkey 1\n",
      "edtechgirl 1\n",
      "spock42 1\n",
      "jules 1\n",
      "Lynzw 1\n",
      "carl801 1\n",
      "emilyewahl 1\n",
      "-----\n",
      "Total value: 93\n",
      "Ten percentile: 1.0\n",
      "Twentyfive percentile: 1.0\n",
      "Fifty percentile: 2.0\n",
      "Seventyfive percentile: 4.5\n",
      "Ninety percentile: 11.0\n",
      "Total users: 19\n"
     ]
    },
    {
     "data": {
      "image/png": "[encoded data removed]",
      "text/plain": [
       "<matplotlib.figure.Figure at 0x11d5ff208>"
      ]
     },
     "metadata": {},
     "output_type": "display_data"
    },
    {
     "data": {
      "image/png": "[encoded data removed]",
      "text/plain": [
       "<matplotlib.figure.Figure at 0x118eb5668>"
      ]
     },
     "metadata": {},
     "output_type": "display_data"
    }
   ],
   "source": [
    "ta.Network.hashtagusernetwork(\"#catholic\", df, plot=True, html=False)\n"
   ]
  },
  {
   "cell_type": "code",
   "execution_count": null,
   "metadata": {
    "collapsed": true
   },
   "outputs": [],
   "source": [
    "ta.Printer.regexpsearch('herb', df, html=False, context=True)"
   ]
  },
  {
   "cell_type": "code",
   "execution_count": null,
   "metadata": {
    "collapsed": true,
    "scrolled": true
   },
   "outputs": [],
   "source": [
    "ta.TimeSeries.regexpsearch('cathol', df)"
   ]
  },
  {
   "cell_type": "code",
   "execution_count": null,
   "metadata": {
    "collapsed": true
   },
   "outputs": [],
   "source": [
    "# Most common URLs linked. Note: fix regular expression to be more accurate. \n",
    "listofURLS = []\n",
    "for row in df.iterrows():\n",
    "    topURL = re.findall('http[s]\\:\\/\\/.*\\.(?:nl|se|no|es|milru|fr|es|uk|ca|de|jp|au|us|ch|it|io|org|com|net|int|edu|mil|arpa)\\/', row[1][3])\n",
    "    if topURL:\n",
    "        for t in topURL:\n",
    "            listofURLS.append(t)\n",
    "            \n",
    "from collections import Counter\n",
    "\n",
    "for key in Counter(listofURLS).most_common(20):\n",
    "    print(key)"
   ]
  },
  {
   "cell_type": "code",
   "execution_count": null,
   "metadata": {
    "collapsed": true
   },
   "outputs": [],
   "source": [
    "def createThreadUserNet(dataframe):\n",
    "    # Intialize network file\n",
    "    gexf = Gexf(\"Shakespeares World\", \"Thread User Network\")\n",
    "    graph = gexf.addGraph(\"directed\", \"static\", \"Thread User directed network\")\n",
    "\n",
    "    # Create nodes\n",
    "    for user in df.comment_user_login.iteritems():\n",
    "        graph.addNode(str(user[1]), str(user[1]))\n",
    "\n",
    "    for thread in df.discussion_id.iteritems():\n",
    "        graph.addNode(str(thread[1]), str(thread[1]))\n",
    "\n",
    "    # Create edges\n",
    "    counter = 0\n",
    "    for x in df.iterrows():\n",
    "        counter += 1\n",
    "        #print(x[1][9]) # Username\n",
    "        # print(x[1][10]) # Comment thread ID\n",
    "        graph.addEdge(str(counter), str(x[1][9]), str(x[1][10]))\n",
    "\n",
    "    # Write file. Note: all nodes and edges need to be added as unicode strings\n",
    "    output_file = open(\"shakspearesworldThreadUserNet.gexf\",\"wb\")\n",
    "    gexf.write(output_file)\n",
    "\n",
    "#createThreadUserNet(df)"
   ]
  },
  {
   "cell_type": "code",
   "execution_count": 58,
   "metadata": {
    "collapsed": false
   },
   "outputs": [
    {
     "name": "stdout",
     "output_type": "stream",
     "text": [
      "Searching for: #v\n",
      "-----\n",
      "Total value: 0\n"
     ]
    },
    {
     "ename": "IndexError",
     "evalue": "cannot do a non-empty take from an empty axes.",
     "output_type": "error",
     "traceback": [
      "\u001b[0;31m---------------------------------------------------------------------------\u001b[0m",
      "\u001b[0;31mIndexError\u001b[0m                                Traceback (most recent call last)",
      "\u001b[0;32m<ipython-input-58-4186c9c6b521>\u001b[0m in \u001b[0;36m<module>\u001b[0;34m()\u001b[0m\n\u001b[0;32m----> 1\u001b[0;31m \u001b[0mta\u001b[0m\u001b[0;34m.\u001b[0m\u001b[0mNetwork\u001b[0m\u001b[0;34m.\u001b[0m\u001b[0mhashtaghashtagnetwork\u001b[0m\u001b[0;34m(\u001b[0m\u001b[0;34m\"#v\"\u001b[0m\u001b[0;34m,\u001b[0m \u001b[0mdf\u001b[0m\u001b[0;34m)\u001b[0m\u001b[0;34m\u001b[0m\u001b[0m\n\u001b[0m",
      "\u001b[0;32m/Users/christopher/Dropbox/pythonDropbox/talk-analyzer/talkanalyzer.py\u001b[0m in \u001b[0;36mhashtaghashtagnetwork\u001b[0;34m(searchstring, df, plot, html)\u001b[0m\n\u001b[1;32m    302\u001b[0m         Network.makegraph(searchstring,\n\u001b[1;32m    303\u001b[0m                           Network.getnodes(searchstring, df,\n\u001b[0;32m--> 304\u001b[0;31m                                            source='hash', target='hash'))\n\u001b[0m\u001b[1;32m    305\u001b[0m \u001b[0;34m\u001b[0m\u001b[0m\n\u001b[1;32m    306\u001b[0m     \u001b[0;32mdef\u001b[0m \u001b[0mhashtagusernetwork\u001b[0m\u001b[0;34m(\u001b[0m\u001b[0msearchstring\u001b[0m\u001b[0;34m,\u001b[0m \u001b[0mdf\u001b[0m\u001b[0;34m,\u001b[0m \u001b[0mplot\u001b[0m\u001b[0;34m=\u001b[0m\u001b[0;32mTrue\u001b[0m\u001b[0;34m,\u001b[0m \u001b[0mhtml\u001b[0m\u001b[0;34m=\u001b[0m\u001b[0;32mFalse\u001b[0m\u001b[0;34m)\u001b[0m\u001b[0;34m:\u001b[0m\u001b[0;34m\u001b[0m\u001b[0m\n",
      "\u001b[0;32m/Users/christopher/Dropbox/pythonDropbox/talk-analyzer/talkanalyzer.py\u001b[0m in \u001b[0;36mmakegraph\u001b[0;34m(searchstring, nodefreq, users, plot)\u001b[0m\n\u001b[1;32m    265\u001b[0m         \u001b[0mprint\u001b[0m\u001b[0;34m(\u001b[0m\u001b[0;34m\"-----\"\u001b[0m\u001b[0;34m)\u001b[0m\u001b[0;34m\u001b[0m\u001b[0m\n\u001b[1;32m    266\u001b[0m         \u001b[0mprint\u001b[0m\u001b[0;34m(\u001b[0m\u001b[0;34m\"Total value: \"\u001b[0m \u001b[0;34m+\u001b[0m \u001b[0mstr\u001b[0m\u001b[0;34m(\u001b[0m\u001b[0mtotalfreq\u001b[0m\u001b[0;34m)\u001b[0m\u001b[0;34m)\u001b[0m\u001b[0;34m\u001b[0m\u001b[0m\n\u001b[0;32m--> 267\u001b[0;31m         \u001b[0mten\u001b[0m \u001b[0;34m=\u001b[0m \u001b[0mnp\u001b[0m\u001b[0;34m.\u001b[0m\u001b[0mpercentile\u001b[0m\u001b[0;34m(\u001b[0m\u001b[0mfreqarray\u001b[0m\u001b[0;34m,\u001b[0m \u001b[0;36m10\u001b[0m\u001b[0;34m)\u001b[0m\u001b[0;34m\u001b[0m\u001b[0m\n\u001b[0m\u001b[1;32m    268\u001b[0m         \u001b[0mtwentyfive\u001b[0m \u001b[0;34m=\u001b[0m \u001b[0mnp\u001b[0m\u001b[0;34m.\u001b[0m\u001b[0mpercentile\u001b[0m\u001b[0;34m(\u001b[0m\u001b[0mfreqarray\u001b[0m\u001b[0;34m,\u001b[0m \u001b[0;36m25\u001b[0m\u001b[0;34m)\u001b[0m\u001b[0;34m\u001b[0m\u001b[0m\n\u001b[1;32m    269\u001b[0m         \u001b[0mfifty\u001b[0m \u001b[0;34m=\u001b[0m \u001b[0mnp\u001b[0m\u001b[0;34m.\u001b[0m\u001b[0mpercentile\u001b[0m\u001b[0;34m(\u001b[0m\u001b[0mfreqarray\u001b[0m\u001b[0;34m,\u001b[0m \u001b[0;36m50\u001b[0m\u001b[0;34m)\u001b[0m\u001b[0;34m\u001b[0m\u001b[0m\n",
      "\u001b[0;32m/Users/christopher/anaconda3/lib/python3.6/site-packages/numpy/lib/function_base.py\u001b[0m in \u001b[0;36mpercentile\u001b[0;34m(a, q, axis, out, overwrite_input, interpolation, keepdims)\u001b[0m\n\u001b[1;32m   3697\u001b[0m     r, k = _ureduce(a, func=_percentile, q=q, axis=axis, out=out,\n\u001b[1;32m   3698\u001b[0m                     \u001b[0moverwrite_input\u001b[0m\u001b[0;34m=\u001b[0m\u001b[0moverwrite_input\u001b[0m\u001b[0;34m,\u001b[0m\u001b[0;34m\u001b[0m\u001b[0m\n\u001b[0;32m-> 3699\u001b[0;31m                     interpolation=interpolation)\n\u001b[0m\u001b[1;32m   3700\u001b[0m     \u001b[0;32mif\u001b[0m \u001b[0mkeepdims\u001b[0m\u001b[0;34m:\u001b[0m\u001b[0;34m\u001b[0m\u001b[0m\n\u001b[1;32m   3701\u001b[0m         \u001b[0;32mif\u001b[0m \u001b[0mq\u001b[0m\u001b[0;34m.\u001b[0m\u001b[0mndim\u001b[0m \u001b[0;34m==\u001b[0m \u001b[0;36m0\u001b[0m\u001b[0;34m:\u001b[0m\u001b[0;34m\u001b[0m\u001b[0m\n",
      "\u001b[0;32m/Users/christopher/anaconda3/lib/python3.6/site-packages/numpy/lib/function_base.py\u001b[0m in \u001b[0;36m_ureduce\u001b[0;34m(a, func, **kwargs)\u001b[0m\n\u001b[1;32m   3423\u001b[0m         \u001b[0mkeepdim\u001b[0m \u001b[0;34m=\u001b[0m \u001b[0;34m[\u001b[0m\u001b[0;36m1\u001b[0m\u001b[0;34m]\u001b[0m \u001b[0;34m*\u001b[0m \u001b[0ma\u001b[0m\u001b[0;34m.\u001b[0m\u001b[0mndim\u001b[0m\u001b[0;34m\u001b[0m\u001b[0m\n\u001b[1;32m   3424\u001b[0m \u001b[0;34m\u001b[0m\u001b[0m\n\u001b[0;32m-> 3425\u001b[0;31m     \u001b[0mr\u001b[0m \u001b[0;34m=\u001b[0m \u001b[0mfunc\u001b[0m\u001b[0;34m(\u001b[0m\u001b[0ma\u001b[0m\u001b[0;34m,\u001b[0m \u001b[0;34m**\u001b[0m\u001b[0mkwargs\u001b[0m\u001b[0;34m)\u001b[0m\u001b[0;34m\u001b[0m\u001b[0m\n\u001b[0m\u001b[1;32m   3426\u001b[0m     \u001b[0;32mreturn\u001b[0m \u001b[0mr\u001b[0m\u001b[0;34m,\u001b[0m \u001b[0mkeepdim\u001b[0m\u001b[0;34m\u001b[0m\u001b[0m\n\u001b[1;32m   3427\u001b[0m \u001b[0;34m\u001b[0m\u001b[0m\n",
      "\u001b[0;32m/Users/christopher/anaconda3/lib/python3.6/site-packages/numpy/lib/function_base.py\u001b[0m in \u001b[0;36m_percentile\u001b[0;34m(a, q, axis, out, overwrite_input, interpolation, keepdims)\u001b[0m\n\u001b[1;32m   3814\u001b[0m             \u001b[0mn\u001b[0m \u001b[0;34m=\u001b[0m \u001b[0mnp\u001b[0m\u001b[0;34m.\u001b[0m\u001b[0misnan\u001b[0m\u001b[0;34m(\u001b[0m\u001b[0map\u001b[0m\u001b[0;34m[\u001b[0m\u001b[0;34m-\u001b[0m\u001b[0;36m1\u001b[0m\u001b[0;34m:\u001b[0m\u001b[0;34m,\u001b[0m \u001b[0;34m...\u001b[0m\u001b[0;34m]\u001b[0m\u001b[0;34m)\u001b[0m\u001b[0;34m\u001b[0m\u001b[0m\n\u001b[1;32m   3815\u001b[0m \u001b[0;34m\u001b[0m\u001b[0m\n\u001b[0;32m-> 3816\u001b[0;31m         \u001b[0mx1\u001b[0m \u001b[0;34m=\u001b[0m \u001b[0mtake\u001b[0m\u001b[0;34m(\u001b[0m\u001b[0map\u001b[0m\u001b[0;34m,\u001b[0m \u001b[0mindices_below\u001b[0m\u001b[0;34m,\u001b[0m \u001b[0maxis\u001b[0m\u001b[0;34m=\u001b[0m\u001b[0maxis\u001b[0m\u001b[0;34m)\u001b[0m \u001b[0;34m*\u001b[0m \u001b[0mweights_below\u001b[0m\u001b[0;34m\u001b[0m\u001b[0m\n\u001b[0m\u001b[1;32m   3817\u001b[0m         \u001b[0mx2\u001b[0m \u001b[0;34m=\u001b[0m \u001b[0mtake\u001b[0m\u001b[0;34m(\u001b[0m\u001b[0map\u001b[0m\u001b[0;34m,\u001b[0m \u001b[0mindices_above\u001b[0m\u001b[0;34m,\u001b[0m \u001b[0maxis\u001b[0m\u001b[0;34m=\u001b[0m\u001b[0maxis\u001b[0m\u001b[0;34m)\u001b[0m \u001b[0;34m*\u001b[0m \u001b[0mweights_above\u001b[0m\u001b[0;34m\u001b[0m\u001b[0m\n\u001b[1;32m   3818\u001b[0m \u001b[0;34m\u001b[0m\u001b[0m\n",
      "\u001b[0;32m/Users/christopher/anaconda3/lib/python3.6/site-packages/numpy/core/fromnumeric.py\u001b[0m in \u001b[0;36mtake\u001b[0;34m(a, indices, axis, out, mode)\u001b[0m\n\u001b[1;32m    121\u001b[0m     \u001b[0;32mexcept\u001b[0m \u001b[0mAttributeError\u001b[0m\u001b[0;34m:\u001b[0m\u001b[0;34m\u001b[0m\u001b[0m\n\u001b[1;32m    122\u001b[0m         \u001b[0;32mreturn\u001b[0m \u001b[0m_wrapit\u001b[0m\u001b[0;34m(\u001b[0m\u001b[0ma\u001b[0m\u001b[0;34m,\u001b[0m \u001b[0;34m'take'\u001b[0m\u001b[0;34m,\u001b[0m \u001b[0mindices\u001b[0m\u001b[0;34m,\u001b[0m \u001b[0maxis\u001b[0m\u001b[0;34m,\u001b[0m \u001b[0mout\u001b[0m\u001b[0;34m,\u001b[0m \u001b[0mmode\u001b[0m\u001b[0;34m)\u001b[0m\u001b[0;34m\u001b[0m\u001b[0m\n\u001b[0;32m--> 123\u001b[0;31m     \u001b[0;32mreturn\u001b[0m \u001b[0mtake\u001b[0m\u001b[0;34m(\u001b[0m\u001b[0mindices\u001b[0m\u001b[0;34m,\u001b[0m \u001b[0maxis\u001b[0m\u001b[0;34m,\u001b[0m \u001b[0mout\u001b[0m\u001b[0;34m,\u001b[0m \u001b[0mmode\u001b[0m\u001b[0;34m)\u001b[0m\u001b[0;34m\u001b[0m\u001b[0m\n\u001b[0m\u001b[1;32m    124\u001b[0m \u001b[0;34m\u001b[0m\u001b[0m\n\u001b[1;32m    125\u001b[0m \u001b[0;34m\u001b[0m\u001b[0m\n",
      "\u001b[0;31mIndexError\u001b[0m: cannot do a non-empty take from an empty axes."
     ]
    }
   ],
   "source": [
    "ta.Network.hashtaghashtagnetwork(\"#v\", df)"
   ]
  },
  {
   "cell_type": "markdown",
   "metadata": {},
   "source": [
    "### Regexp/user network\n",
    "Similar to the hashtag/user network but using the power of Python flavoured regexps. Case insensivive. "
   ]
  },
  {
   "cell_type": "code",
   "execution_count": null,
   "metadata": {
    "collapsed": true
   },
   "outputs": [],
   "source": [
    "list(range(72))\n"
   ]
  },
  {
   "cell_type": "code",
   "execution_count": 57,
   "metadata": {
    "collapsed": false,
    "scrolled": true
   },
   "outputs": [
    {
     "name": "stdout",
     "output_type": "stream",
     "text": [
      "Searching for: v\n"
     ]
    },
    {
     "ename": "TypeError",
     "evalue": "makegraph() got an unexpected keyword argument 'regexp'",
     "output_type": "error",
     "traceback": [
      "\u001b[0;31m---------------------------------------------------------------------------\u001b[0m",
      "\u001b[0;31mTypeError\u001b[0m                                 Traceback (most recent call last)",
      "\u001b[0;32m<ipython-input-57-f45240bf5046>\u001b[0m in \u001b[0;36m<module>\u001b[0;34m()\u001b[0m\n\u001b[0;32m----> 1\u001b[0;31m \u001b[0mta\u001b[0m\u001b[0;34m.\u001b[0m\u001b[0mNetwork\u001b[0m\u001b[0;34m.\u001b[0m\u001b[0mregexpusernetwork\u001b[0m\u001b[0;34m(\u001b[0m\u001b[0;34m\"v\"\u001b[0m\u001b[0;34m,\u001b[0m \u001b[0mdf\u001b[0m\u001b[0;34m)\u001b[0m\u001b[0;34m\u001b[0m\u001b[0m\n\u001b[0m",
      "\u001b[0;32m/Users/christopher/Dropbox/pythonDropbox/talk-analyzer/talkanalyzer.py\u001b[0m in \u001b[0;36mregexpusernetwork\u001b[0;34m(searchstring, df, plot, html)\u001b[0m\n\u001b[1;32m    332\u001b[0m                               Network.getnodes(searchstring, df,\n\u001b[1;32m    333\u001b[0m                                                \u001b[0msource\u001b[0m\u001b[0;34m=\u001b[0m\u001b[0;34m'regexp'\u001b[0m\u001b[0;34m,\u001b[0m\u001b[0;34m\u001b[0m\u001b[0m\n\u001b[0;32m--> 334\u001b[0;31m                                                target='user'), regexp=True)\n\u001b[0m\u001b[1;32m    335\u001b[0m \u001b[0;34m\u001b[0m\u001b[0m\n\u001b[1;32m    336\u001b[0m     \u001b[0;32mdef\u001b[0m \u001b[0mregexpusers\u001b[0m\u001b[0;34m(\u001b[0m\u001b[0msearchstring\u001b[0m\u001b[0;34m,\u001b[0m \u001b[0mdf\u001b[0m\u001b[0;34m,\u001b[0m \u001b[0mplot\u001b[0m\u001b[0;34m=\u001b[0m\u001b[0;32mTrue\u001b[0m\u001b[0;34m,\u001b[0m \u001b[0mhtml\u001b[0m\u001b[0;34m=\u001b[0m\u001b[0;32mFalse\u001b[0m\u001b[0;34m,\u001b[0m \u001b[0mdata\u001b[0m\u001b[0;34m=\u001b[0m\u001b[0;32mFalse\u001b[0m\u001b[0;34m)\u001b[0m\u001b[0;34m:\u001b[0m\u001b[0;34m\u001b[0m\u001b[0m\n",
      "\u001b[0;31mTypeError\u001b[0m: makegraph() got an unexpected keyword argument 'regexp'"
     ]
    }
   ],
   "source": [
    "ta.Network.regexpusernetwork(\"v\", df)"
   ]
  },
  {
   "cell_type": "code",
   "execution_count": 19,
   "metadata": {
    "collapsed": false,
    "scrolled": true
   },
   "outputs": [
    {
     "name": "stdout",
     "output_type": "stream",
     "text": [
      "Searching for: copyright\n"
     ]
    },
    {
     "data": {
      "text/plain": [
       "[('VVH', 3),\n",
       " ('mutabilitie', 2),\n",
       " ('jules', 2),\n",
       " ('fromere', 1),\n",
       " ('ForestPreserve', 1)]"
      ]
     },
     "execution_count": 19,
     "metadata": {},
     "output_type": "execute_result"
    }
   ],
   "source": [
    "ta.Network.regexpusers(\"copyright\", df, data=True) #returns data for plotting"
   ]
  },
  {
   "cell_type": "markdown",
   "metadata": {},
   "source": [
    "### User/hashtag network\n",
    "Tracks what hashtag a specific username writes. "
   ]
  },
  {
   "cell_type": "code",
   "execution_count": null,
   "metadata": {
    "collapsed": true
   },
   "outputs": [],
   "source": [
    "ta.Network.userhashtagnetwork(\"Traceydix\", df)"
   ]
  },
  {
   "cell_type": "markdown",
   "metadata": {},
   "source": [
    "### User/user network\n",
    "Takes a specific user and draws a network from the users spoken to, using the @username convention. \n",
    "\n",
    "This is an out-degree network. \n",
    "\n",
    "** Todo **: make in-degree network to see which users address a user (comparable to incoming @-tweets on Twitter). "
   ]
  },
  {
   "cell_type": "code",
   "execution_count": null,
   "metadata": {
    "collapsed": true
   },
   "outputs": [],
   "source": [
    "ta.Network.userusernetwork(\"VVH\", df)"
   ]
  },
  {
   "cell_type": "code",
   "execution_count": 61,
   "metadata": {
    "collapsed": false
   },
   "outputs": [
    {
     "name": "stdout",
     "output_type": "stream",
     "text": [
      "\n",
      "\n",
      "Index ID: 746\n",
      "\t0KNuaqjB&sig=oVhtSt5hvzBIoLUuRmV_P_qoktM#v=onepage&q=ambergris%20early%20modern%20\n",
      "https://www.zooniverse.org/projects/zooniverse/shakespeares-world/talk/192/21231?comment=43975\n",
      "Thread: https://www.zooniverse.org/projects/zooniverse/shakespeares-world/talk//746\n",
      "Date of post: 2015-12-15 11:51:38\n",
      "\n",
      "\n",
      "Index ID: 802\n",
      "\tahUKEwjg--mutN7JAhUHLhoKHaCEA9UQ6AEIIjAA#v=onepage&q=cucumbers%20and%20bartholomew\n",
      "https://www.zooniverse.org/projects/zooniverse/shakespeares-world/talk/192/21385?comment=44113\n",
      "Thread: https://www.zooniverse.org/projects/zooniverse/shakespeares-world/talk//802\n",
      "Date of post: 2015-12-15 17:47:01\n",
      "\n",
      "\n",
      "Index ID: 869\n",
      "\t.co.uk/books?id=234fAAAAYAAJ&q=celandine#v=snippet&q=celandine&f=false) In this ca\n",
      "https://www.zooniverse.org/projects/zooniverse/shakespeares-world/talk/192/21558?comment=44495\n",
      "Thread: https://www.zooniverse.org/projects/zooniverse/shakespeares-world/talk//869\n",
      "Date of post: 2015-12-16 16:11:41\n",
      "\n",
      "\n",
      "Index ID: 933\n",
      "\tahUKEwjQ1Pr_kePJAhUBlxQKHbpkAiwQ6AEIKTAC#v=onepage&q=early%20modern%20pewter%20pot\n",
      "https://www.zooniverse.org/projects/zooniverse/shakespeares-world/talk/192/21331?comment=44768\n",
      "Thread: https://www.zooniverse.org/projects/zooniverse/shakespeares-world/talk//933\n",
      "Date of post: 2015-12-17 14:53:48\n",
      "\n",
      "\n",
      "Index ID: 970\n",
      "\tahUKEwj3n9T41uPJAhXMWRoKHSH9D84Q6AEIIDAC#v=onepage&q&f=false). George Stepney appe\n",
      "https://www.zooniverse.org/projects/zooniverse/shakespeares-world/talk/192/21764?comment=44917\n",
      "Thread: https://www.zooniverse.org/projects/zooniverse/shakespeares-world/talk//970\n",
      "Date of post: 2015-12-17 20:13:46\n",
      "\n",
      "\n",
      "Index ID: 1502\n",
      "\tahUKEwi17qTun_3JAhVC5SYKHYaOA3UQ6AEIKTAC#v=onepage&q=mithridate%20for%20ague%20ing\n",
      "https://www.zooniverse.org/projects/zooniverse/shakespeares-world/talk/192/23946?comment=48955\n",
      "Thread: https://www.zooniverse.org/projects/zooniverse/shakespeares-world/talk//1502\n",
      "Date of post: 2015-12-28 00:05:22\n",
      "\n",
      "\n",
      "Index ID: 1578\n",
      "\tahUKEwj4tpiFnoLKAhUFKh4KHVl4DqMQ6AEIRDAG#v=onepage&q=what%20is%20a%20white%20marma\n",
      "https://www.zooniverse.org/projects/zooniverse/shakespeares-world/talk/192/20984?comment=49924\n",
      "Thread: https://www.zooniverse.org/projects/zooniverse/shakespeares-world/talk//1578\n",
      "Date of post: 2015-12-29 23:42:51\n",
      "\n",
      "\n",
      "Index ID: 1734\n",
      "\tKEwjMs7XHjonKAhXkg3IKHQLSBCs4FBDoAQhCMAQ#v=onepage&q=how%20to%20fair%20water&f=fal\n",
      "https://www.zooniverse.org/projects/zooniverse/shakespeares-world/talk/195/24405?comment=51115\n",
      "Thread: https://www.zooniverse.org/projects/zooniverse/shakespeares-world/talk//1734\n",
      "Date of post: 2016-01-01 17:28:34\n",
      "\n",
      "\n",
      "Index ID: 1739\n",
      "\tahUKEwinjcvjl4nKAhVCwxoKHdsBC-0Q6AEIIDAC#v=onepage&q=%22fair%20water%22%20clean%20\n",
      "https://www.zooniverse.org/projects/zooniverse/shakespeares-world/talk/195/24405?comment=51125\n",
      "Thread: https://www.zooniverse.org/projects/zooniverse/shakespeares-world/talk//1739\n",
      "Date of post: 2016-01-01 18:00:52\n",
      "\n",
      "\n",
      "Index ID: 1743\n",
      "\tKEwjs_fG0pInKAhXJ8nIKHV1VByQ4ChDoAQhPMAg#v=onepage&q=fairwater%20clean%20water&f=f\n",
      "https://www.zooniverse.org/projects/zooniverse/shakespeares-world/talk/195/24405?comment=51142\n",
      "Thread: https://www.zooniverse.org/projects/zooniverse/shakespeares-world/talk//1743\n",
      "Date of post: 2016-01-01 18:54:25\n",
      "\n",
      "\n",
      "Index ID: 1880\n",
      "\tahUKEwjz-r_y4JDKAhVB7RQKHY2aDmkQ6AEIHzAA#v=onepage&q=%22musk%20comfits%22&f=false)\n",
      "https://www.zooniverse.org/projects/zooniverse/shakespeares-world/talk/192/25722?comment=52356\n",
      "Thread: https://www.zooniverse.org/projects/zooniverse/shakespeares-world/talk//1880\n",
      "Date of post: 2016-01-04 18:15:33\n",
      "\n",
      "\n",
      "Index ID: 2022\n",
      "\tahUKEwjKlpuH4ZbKAhXI7CYKHRwhCIgQ6AEILzAF#v=onepage&q=Dabi%20Habi%20Haber%20Heber&f\n",
      "\tahUKEwiJv-Wb35bKAhVS5WMKHYWxAp0Q6AEIHzAA#v=onepage&q=Dabi%20Habi%20Haber%20Heber&f\n",
      "https://www.zooniverse.org/projects/zooniverse/shakespeares-world/talk/192/21343?comment=53610\n",
      "Thread: https://www.zooniverse.org/projects/zooniverse/shakespeares-world/talk//2022\n",
      "Date of post: 2016-01-07 03:30:33\n",
      "\n",
      "\n",
      "Index ID: 2045\n",
      "\tahUKEwjBoI_ijJjKAhVFYyYKHeewAqcQ6AEIHzAB#v=onepage&q=%22raisin%20of%20the%20sunne%\n",
      "https://www.zooniverse.org/projects/zooniverse/shakespeares-world/talk/192/26045?comment=53749\n",
      "Thread: https://www.zooniverse.org/projects/zooniverse/shakespeares-world/talk//2045\n",
      "Date of post: 2016-01-07 16:22:36\n",
      "\n",
      "\n",
      "Index ID: 2160\n",
      "\tahUKEwj5mcCujZvKAhXMhpAKHbJaAcsQ6AEIIDAC#v=onepage&q=oleum%20populeum&f=false).The\n",
      "https://www.zooniverse.org/projects/zooniverse/shakespeares-world/talk/192/23488?comment=54574\n",
      "Thread: https://www.zooniverse.org/projects/zooniverse/shakespeares-world/talk//2160\n",
      "Date of post: 2016-01-08 21:20:14\n",
      "\n",
      "\n",
      "Index ID: 2242\n",
      "\tahUKEwijo4Xql5_KAhVH6RQKHUgTAIkQ6AEIJDAA#v=onepage&q=early%20modern%20sturgeon&f=f\n",
      "https://www.zooniverse.org/projects/zooniverse/shakespeares-world/talk/192/27381?comment=55994\n",
      "Thread: https://www.zooniverse.org/projects/zooniverse/shakespeares-world/talk//2242\n",
      "Date of post: 2016-01-10 12:09:04\n",
      "\n",
      "\n",
      "Index ID: 2308\n",
      "\tahUKEwjO04fB-6HKAhUJaRQKHW5UCEMQ6AEIIDAB#v=onepage&q=jupiter%20recipe%20dictionary\n",
      "https://www.zooniverse.org/projects/zooniverse/shakespeares-world/talk/192/26424?comment=57014\n",
      "Thread: https://www.zooniverse.org/projects/zooniverse/shakespeares-world/talk//2308\n",
      "Date of post: 2016-01-11 14:28:17\n",
      "\n",
      "\n",
      "Index ID: 2566\n",
      "\tahUKEwiIgZGo4rDKAhXHuRQKHVu9BNkQ6AEILjAE#v=onepage&q&f=false) for these herbs to s\n",
      "https://www.zooniverse.org/projects/zooniverse/shakespeares-world/talk/192/34255?comment=68229\n",
      "Thread: https://www.zooniverse.org/projects/zooniverse/shakespeares-world/talk//2566\n",
      "Date of post: 2016-01-17 11:48:31\n",
      "\n",
      "\n",
      "Index ID: 2704\n",
      "\tahUKEwjXotWd7bbKAhXBPxoKHV1IDg8Q6AEIJTAB#v=onepage&q=fits%20and%20intermittent%20f\n",
      "https://www.zooniverse.org/projects/zooniverse/shakespeares-world/talk/192/26411?comment=69285\n",
      "Thread: https://www.zooniverse.org/projects/zooniverse/shakespeares-world/talk//2704\n",
      "Date of post: 2016-01-19 21:52:12\n",
      "\n",
      "\n",
      "Index ID: 2746\n",
      "\tahUKEwiOjuWxubnKAhWJyRQKHeveCRIQ6AEILjAD#v=onepage&q=Jowls%20of%20sturgeon&f=false\n",
      "https://www.zooniverse.org/projects/zooniverse/shakespeares-world/talk/192/35087?comment=69622\n",
      "Thread: https://www.zooniverse.org/projects/zooniverse/shakespeares-world/talk//2746\n",
      "Date of post: 2016-01-20 22:37:23\n",
      "\n",
      "\n",
      "Index ID: 2950\n",
      "\tahUKEwj2-9XAksXKAhVH7CYKHYUGCb4Q6AEIHDAA#v=onepage&q=francis%20bacon%20cure%20hicc\n",
      "https://www.zooniverse.org/projects/zooniverse/shakespeares-world/talk/192/36045?comment=71589\n",
      "Thread: https://www.zooniverse.org/projects/zooniverse/shakespeares-world/talk//2950\n",
      "Date of post: 2016-01-25 14:14:18\n",
      "\n",
      "\n",
      "Index ID: 3348\n",
      "\tahUKEwi7ybWgjNnKAhXCmw4KHapzD-IQ6AEILjAD#v=onepage&q=bells&f=false) to verdigris f\n",
      "https://www.zooniverse.org/projects/zooniverse/shakespeares-world/talk/192/20374?comment=74647\n",
      "Thread: https://www.zooniverse.org/projects/zooniverse/shakespeares-world/talk//3348\n",
      "Date of post: 2016-02-02 12:41:47\n",
      "\n",
      "\n",
      "Index ID: 3453\n",
      "\tahUKEwiJwp3Jm97KAhUCsxQKHQLbDP4Q6AEINDAE#v=onepage&q=using%20ashes%20to%20treat%20\n",
      "https://www.zooniverse.org/projects/zooniverse/shakespeares-world/talk/192/20374?comment=75228\n",
      "Thread: https://www.zooniverse.org/projects/zooniverse/shakespeares-world/talk//3453\n",
      "Date of post: 2016-02-04 13:34:56\n",
      "\n",
      "\n",
      "Index ID: 3740\n",
      "\tahUKEwiE-JONxejKAhUFND4KHV55ALsQ6AEILTAF#v=onepage&q=Roger%20Cooke%2017th%20centur\n",
      "https://www.zooniverse.org/projects/zooniverse/shakespeares-world/talk/196/38466?comment=76663\n",
      "Thread: https://www.zooniverse.org/projects/zooniverse/shakespeares-world/talk//3740\n",
      "Date of post: 2016-02-08 16:05:59\n",
      "\n",
      "\n",
      "Index ID: 4149\n",
      "\tahUKEwjmzpHz8vXKAhXH2T4KHQZdAegQ6AEITTAI#v=onepage&q=Roger%20Cooke%20ancestry&f=fa\n",
      "https://www.zooniverse.org/projects/zooniverse/shakespeares-world/talk/196/38466?comment=78399\n",
      "Thread: https://www.zooniverse.org/projects/zooniverse/shakespeares-world/talk//4149\n",
      "Date of post: 2016-02-13 23:40:38\n",
      "\n",
      "\n",
      "Index ID: 4670\n",
      "\tahUKEwj-w4Lg1IbLAhXF1CYKHe5ZB9cQ6AEIOzAG#v=onepage&q=Roger%20Cooke%20curate&f=fals\n",
      "\tahUKEwjE2vKX2YbLAhWCWCYKHR0VBw8Q6AEINjAE#v=onepage&q=Roger%20Cooke%20curate&f=fals\n",
      "https://www.zooniverse.org/projects/zooniverse/shakespeares-world/talk/196/38466?comment=80755\n",
      "Thread: https://www.zooniverse.org/projects/zooniverse/shakespeares-world/talk//4670\n",
      "Date of post: 2016-02-20 16:00:31\n",
      "\n",
      "\n",
      "Index ID: 4671\n",
      "\tahUKEwjf-JOk24bLAhXC5yYKHZr0CyYQ6AEIJjAA#v=onepage&q=Roger%20Cooke%20london&f=fals\n",
      "https://www.zooniverse.org/projects/zooniverse/shakespeares-world/talk/196/38466?comment=80757\n",
      "Thread: https://www.zooniverse.org/projects/zooniverse/shakespeares-world/talk//4671\n",
      "Date of post: 2016-02-20 16:07:32\n",
      "\n",
      "\n",
      "Index ID: 4831\n",
      "\tighlight something specific e.g. #pies, #venison, #womanwriter, #catholic, #oed et\n",
      "https://www.zooniverse.org/projects/zooniverse/shakespeares-world/talk/323/40936?comment=81990\n",
      "Thread: https://www.zooniverse.org/projects/zooniverse/shakespeares-world/talk//4831\n",
      "Date of post: 2016-02-24 14:48:15\n",
      "\n",
      "\n",
      "Index ID: 4940\n",
      "\tahUKEwippe6v6JvLAhUnnoMKHQ7NCxwQ6AEIHzAA#v=onepage&q=Pitt%20my%20best%20Turkies%20\n",
      "https://www.zooniverse.org/projects/zooniverse/shakespeares-world/talk/196/38466?comment=83375\n",
      "Thread: https://www.zooniverse.org/projects/zooniverse/shakespeares-world/talk//4940\n",
      "Date of post: 2016-02-29 02:26:06\n",
      "\n",
      "\n",
      "Index ID: 4950\n",
      "\tahUKEwjVr9HFkJ3LAhVikYMKHfNnCCIQ6AEIHzAB#v=onepage&q=Roger%20Cooke%2C%20mayor%20of\n",
      "\tahUKEwjVr9HFkJ3LAhVikYMKHfNnCCIQ6AEIHDAA#v=onepage&q=Roger%20Cooke%2C%20mayor%20of\n",
      "https://www.zooniverse.org/projects/zooniverse/shakespeares-world/talk/196/38466?comment=83526\n",
      "Thread: https://www.zooniverse.org/projects/zooniverse/shakespeares-world/talk//4950\n",
      "Date of post: 2016-02-29 14:29:58\n",
      "\n",
      "\n",
      "Index ID: 4959\n",
      "\tahUKEwiF3fG2mp3LAhVEuIMKHUGzDx0Q6AEIHTAA#v=snippet&q=Roger%20Cooke&f=false) named \n",
      "https://www.zooniverse.org/projects/zooniverse/shakespeares-world/talk/196/38466?comment=83575\n",
      "Thread: https://www.zooniverse.org/projects/zooniverse/shakespeares-world/talk//4959\n",
      "Date of post: 2016-02-29 16:36:01\n",
      "\n",
      "\n",
      "Index ID: 4991\n",
      "\tahUKEwj3ruP8rp_LAhXE7Q4KHWMpBOEQ6AEIIDAB#v=onepage&q=myrrh%20storax%20castoreum&f=\n",
      "https://www.zooniverse.org/projects/zooniverse/shakespeares-world/talk/192/41506?comment=84117\n",
      "Thread: https://www.zooniverse.org/projects/zooniverse/shakespeares-world/talk//4991\n",
      "Date of post: 2016-03-01 11:25:38\n",
      "\n",
      "\n",
      "Index ID: 5125\n",
      "\tahUKEwidqM6NsajLAhWBJZQKHYlHD2EQ6AEIIjAB#v=onepage&q=%22cum%20reginine%22&f=false)\n",
      "https://www.zooniverse.org/projects/zooniverse/shakespeares-world/talk/192/42185?comment=85902\n",
      "Thread: https://www.zooniverse.org/projects/zooniverse/shakespeares-world/talk//5125\n",
      "Date of post: 2016-03-05 14:37:39\n",
      "\n",
      "\n",
      "Index ID: 5179\n",
      "\tahUKEwj-kJ2Xi6_LAhWD7B4KHQeGBMsQ6AEINzAG#v=onepage&q=Roger%20Cooke%20tanner&f=fals\n",
      "\tahUKEwj294vfgq_LAhXFn4MKHdqhA-AQ6AEIJTAC#v=onepage&q=Roger%20Cooke%20tanner&f=fals\n",
      "https://www.zooniverse.org/projects/zooniverse/shakespeares-world/talk/196/38466?comment=86645\n",
      "Thread: https://www.zooniverse.org/projects/zooniverse/shakespeares-world/talk//5179\n",
      "Date of post: 2016-03-07 17:47:02\n",
      "\n",
      "\n",
      "Index ID: 5206\n",
      "\tKEwjQ3IfwwbHLAhXEthQKHYaICYc4ChDoAQg3MAQ#v=onepage&q=why%20cook%20a%20carp%20alive\n",
      "https://www.zooniverse.org/projects/zooniverse/shakespeares-world/talk/192/42990?comment=86982\n",
      "Thread: https://www.zooniverse.org/projects/zooniverse/shakespeares-world/talk//5206\n",
      "Date of post: 2016-03-08 16:37:32\n",
      "\n",
      "\n",
      "Index ID: 5224\n",
      "\tahUKEwidqM6NsajLAhWBJZQKHYlHD2EQ6AEIIjAB#v=snippet&q=mirobol.&f=false). Otherwise \n",
      "https://www.zooniverse.org/projects/zooniverse/shakespeares-world/talk/192/43772?comment=87292\n",
      "Thread: https://www.zooniverse.org/projects/zooniverse/shakespeares-world/talk//5224\n",
      "Date of post: 2016-03-09 15:20:05\n",
      "\n",
      "\n",
      "Index ID: 5313\n",
      "\tal recipe is for 'A fried dish called a #Vaunte', which is an omelette of chopped \n",
      "https://www.zooniverse.org/projects/zooniverse/shakespeares-world/talk/192/44322?comment=88245\n",
      "Thread: https://www.zooniverse.org/projects/zooniverse/shakespeares-world/talk//5313\n",
      "Date of post: 2016-03-12 09:45:57\n",
      "\n",
      "\n",
      "Index ID: 5398\n",
      "\tahUKEwjE0dqgkMTLAhXBXh4KHbRqCQAQ6AEIGzAA#v=onepage&q=ad%20praes%20dnae.%20Alicia%2\n",
      "https://www.zooniverse.org/projects/zooniverse/shakespeares-world/talk/196/38466?comment=89130\n",
      "Thread: https://www.zooniverse.org/projects/zooniverse/shakespeares-world/talk//5398\n",
      "Date of post: 2016-03-16 02:14:22\n",
      "\n",
      "\n",
      "Index ID: 5460\n",
      "\tahUKEwjG5Orr0MrLAhWCWBoKHQKwDMcQ6AEIITAA#v=onepage&q=sallerus%20physician&f=false)\n",
      "https://www.zooniverse.org/projects/zooniverse/shakespeares-world/talk/192/44547?comment=89697\n",
      "Thread: https://www.zooniverse.org/projects/zooniverse/shakespeares-world/talk//5460\n",
      "Date of post: 2016-03-18 16:25:17\n",
      "\n",
      "\n",
      "Index ID: 5462\n",
      "\tKEwiClpCS1crLAhXKbBoKHSoBDRE4ChDoAQgmMAM#v=onepage&q=woodlice%20and%20beer%20recip\n",
      "https://www.zooniverse.org/projects/zooniverse/shakespeares-world/talk/195/44727?comment=89700\n",
      "Thread: https://www.zooniverse.org/projects/zooniverse/shakespeares-world/talk//5462\n",
      "Date of post: 2016-03-18 16:40:30\n",
      "\n",
      "\n",
      "Index ID: 5484\n",
      "\tahUKEwjTxIK6w8_LAhWlrKYKHXkdBrEQ6AEIKjAB#v=onepage&q=rag%2C%20veteramentum&f=false\n",
      "\tahUKEwjugZTXvM_LAhUnXqYKHdmpDv8Q6AEILzAE#v=onepage&q=ashes%20of%20an%20old%20shoe&\n",
      "https://www.zooniverse.org/projects/zooniverse/shakespeares-world/talk/192/45290?comment=90221\n",
      "Thread: https://www.zooniverse.org/projects/zooniverse/shakespeares-world/talk//5484\n",
      "Date of post: 2016-03-20 15:01:14\n",
      "\n",
      "\n",
      "Index ID: 5517\n",
      "\tahUKEwjMhrH_htLLAhXOxyYKHeGJCtgQ6AEIHDAA#v=onepage&q=Sandriack&f=false) we can see\n",
      "https://www.zooniverse.org/projects/zooniverse/shakespeares-world/talk/192/45061?comment=90574\n",
      "Thread: https://www.zooniverse.org/projects/zooniverse/shakespeares-world/talk//5517\n",
      "Date of post: 2016-03-21 15:13:15\n",
      "\n",
      "\n",
      "Index ID: 5572\n",
      "\tr&dq=tixal+poetry&hl=en&sa=X&redir_esc=y#v=onepage&q=xxxi&f=false)* which was edit\n",
      "https://www.zooniverse.org/projects/zooniverse/shakespeares-world/talk/192/25516?comment=91477\n",
      "Thread: https://www.zooniverse.org/projects/zooniverse/shakespeares-world/talk//5572\n",
      "Date of post: 2016-03-24 11:22:00\n",
      "\n",
      "\n",
      "Index ID: 5621\n",
      "\tahUKEwjY-ILz8t7LAhVDGg4KHS9VBRsQ6AEIGzAA#v=onepage&q=powder%20of%20dead%20mans%20s\n",
      "https://www.zooniverse.org/projects/zooniverse/shakespeares-world/talk/192/46196?comment=92080\n",
      "Thread: https://www.zooniverse.org/projects/zooniverse/shakespeares-world/talk//5621\n",
      "Date of post: 2016-03-26 17:45:38\n",
      "\n",
      "\n",
      "Index ID: 5697\n",
      "\tahUKEwjAu7ufnejLAhVJsJQKHY8BB00Q6AEILDAF#v=onepage&q=ad%20regnum%20naturae&f=false\n",
      "https://www.zooniverse.org/projects/zooniverse/shakespeares-world/talk/192/41280?comment=93340\n",
      "Thread: https://www.zooniverse.org/projects/zooniverse/shakespeares-world/talk//5697\n",
      "Date of post: 2016-03-30 11:09:11\n",
      "\n",
      "\n",
      "Index ID: 5817\n",
      "\tahUKEwjyy_bGiPnLAhUk2KYKHXH2AZAQ6AEIKzAE#v=onepage&q=cloughaman%20-blipfoto&f=fals\n",
      "https://www.zooniverse.org/projects/zooniverse/shakespeares-world/talk/192/47983?comment=95386\n",
      "Thread: https://www.zooniverse.org/projects/zooniverse/shakespeares-world/talk//5817\n",
      "Date of post: 2016-04-06 04:33:00\n",
      "\n",
      "\n",
      "Index ID: 5826\n",
      "\tahUKEwjSpteGl_vLAhUMGB4KHXRKD5gQ6AEIITAB#v=onepage&q=Roger%20Coke%20son%20of%20Cle\n",
      "\tahUKEwiG0ILWnvvLAhXJ7BQKHU30BbgQ6AEIHTAA#v=onepage&q=John%20Norton%20of%20Colterst\n",
      "\tahUKEwjlueWklPvLAhWEth4KHfCqA78Q6AEITzAJ#v=onepage&q=Roger%20Cooke%20of%20Mintin&f\n",
      "\tahUKEwju87HglPvLAhUB2B4KHQkBAyQQ6AEIHTAA#v=onepage&q=Clement%20coke%20son%20of%20R\n",
      "https://www.zooniverse.org/projects/zooniverse/shakespeares-world/talk/196/38466?comment=95606\n",
      "Thread: https://www.zooniverse.org/projects/zooniverse/shakespeares-world/talk//5826\n",
      "Date of post: 2016-04-07 00:39:49\n",
      "\n",
      "\n",
      "Index ID: 5939\n",
      "\tahUKEwi3-sHpwJPMAhVHMj4KHWT2BgoQ6AEIIjAB#v=onepage&q=Sir%20Thomas%20Coke%20of%20Mu\n",
      "\tahUKEwiVkLnQs5PMAhUFFz4KHT8jDcYQ6AEIGzAA#v=onepage&q=Roger%20Cooke%20of%20Crostwyk\n",
      "\tahUKEwiCiu-HyJPMAhWD1x4KHQexBiMQ6AEIHTAA#v=onepage&q=%22Thomas%20Coke%22%20%22Robe\n",
      "https://www.zooniverse.org/projects/zooniverse/shakespeares-world/talk/196/38466?comment=99362\n",
      "Thread: https://www.zooniverse.org/projects/zooniverse/shakespeares-world/talk//5939\n",
      "Date of post: 2016-04-16 18:24:51\n",
      "\n",
      "\n",
      "Index ID: 5948\n",
      "\tahUKEwiPjYTwn5bMAhWEMBoKHVz9A1gQ6AEIKzAA#v=onepage&q=my%20mind%20with%20fury%20fie\n",
      "https://www.zooniverse.org/projects/zooniverse/shakespeares-world/talk/192/42425?comment=99623\n",
      "Thread: https://www.zooniverse.org/projects/zooniverse/shakespeares-world/talk//5948\n",
      "Date of post: 2016-04-17 18:10:51\n",
      "\n",
      "\n",
      "Index ID: 6473\n",
      "\tahUKEwjn24m5h9_MAhVJAcAKHe2hB2EQ6AEIGzAA#v=onepage&q=Cooke&f=false) is something I\n",
      "https://www.zooniverse.org/projects/zooniverse/shakespeares-world/talk/192/53289?comment=107803\n",
      "Thread: https://www.zooniverse.org/projects/zooniverse/shakespeares-world/talk//6473\n",
      "Date of post: 2016-05-16 17:25:49\n",
      "\n",
      "\n",
      "Index ID: 6514\n",
      "\tahUKEwjozezS2efMAhXmCcAKHc1hC70Q6AEIGzAA#v=onepage&q=Almond&f=false). King Edward'\n",
      "https://www.zooniverse.org/projects/zooniverse/shakespeares-world/talk/192/55296?comment=109819\n",
      "Thread: https://www.zooniverse.org/projects/zooniverse/shakespeares-world/talk//6514\n",
      "Date of post: 2016-05-20 03:26:42\n",
      "\n",
      "\n",
      "Index ID: 6515\n",
      "\tahUKEwjozezS2efMAhXmCcAKHc1hC70Q6AEIGzAA#v=onepage&q=Almond&f=false). The inclusio\n",
      "https://www.zooniverse.org/projects/zooniverse/shakespeares-world/talk/192/37559?comment=109821\n",
      "Thread: https://www.zooniverse.org/projects/zooniverse/shakespeares-world/talk//6515\n",
      "Date of post: 2016-05-20 03:35:59\n",
      "\n",
      "\n",
      "Index ID: 6631\n",
      "\tahUKEwiK17LvqfrMAhVXfVIKHXPxBIUQ6AEIRDAH#v=onepage&q=Dispensatorium%20novum%20cont\n",
      "https://www.zooniverse.org/projects/zooniverse/shakespeares-world/talk/196/56539?comment=113480\n",
      "Thread: https://www.zooniverse.org/projects/zooniverse/shakespeares-world/talk//6631\n",
      "Date of post: 2016-05-27 12:53:38\n",
      "\n",
      "\n",
      "Index ID: 6934\n",
      "\tahUKEwiEl_u6vcjNAhVnJMAKHU0iAHwQ6AEIRzAI#v=onepage&q=elf%20as%20another%20name%20f\n",
      "https://www.zooniverse.org/projects/zooniverse/shakespeares-world/talk/192/62742?comment=123253\n",
      "Thread: https://www.zooniverse.org/projects/zooniverse/shakespeares-world/talk//6934\n",
      "Date of post: 2016-06-27 15:16:22\n",
      "\n",
      "\n",
      "Index ID: 6936\n",
      "\tahUKEwiu7rm1wsjNAhVnDsAKHYf2CpAQ6AEIITAB#v=onepage&q=early%20modern%20causes%20scr\n",
      "https://www.zooniverse.org/projects/zooniverse/shakespeares-world/talk/192/62613?comment=123260\n",
      "Thread: https://www.zooniverse.org/projects/zooniverse/shakespeares-world/talk//6936\n",
      "Date of post: 2016-06-27 15:40:41\n",
      "\n",
      "\n",
      "Index ID: 7081\n",
      "\tahUKEwih_cuMuNnNAhWsJsAKHYsFBqcQ6AEINzAE#v=onepage&q=betony%20to%20treat%20poison&\n",
      "https://www.zooniverse.org/projects/zooniverse/shakespeares-world/talk/192/63937?comment=125236\n",
      "Thread: https://www.zooniverse.org/projects/zooniverse/shakespeares-world/talk//7081\n",
      "Date of post: 2016-07-04 09:02:23\n",
      "\n",
      "\n",
      "Index ID: 7269\n",
      "\tahUKEwjbtvqB1fjNAhXox4MKHcOkDa8Q6AEIHTAA#v=onepage&q=et%20in%20son%20temps%20tu%20\n",
      "https://www.zooniverse.org/projects/zooniverse/shakespeares-world/talk/192/66321?comment=130813\n",
      "Thread: https://www.zooniverse.org/projects/zooniverse/shakespeares-world/talk//7269\n",
      "Date of post: 2016-07-16 19:35:26\n",
      "\n",
      "\n",
      "Index ID: 7635\n",
      "\tahUKEwjTworvhsnOAhXGNSYKHQImBCgQ6AEIHjAA#v=onepage&q=Spier%20of%20Wargrave&f=false\n",
      "\tahUKEwj59O7n_sjOAhWF6x4KHbBVCu4Q6AEIIzAC#v=onepage&q=Peter%20Spier%20holcombe%20gr\n",
      "https://www.zooniverse.org/projects/zooniverse/shakespeares-world/talk/192/40332?comment=147900\n",
      "Thread: https://www.zooniverse.org/projects/zooniverse/shakespeares-world/talk//7635\n",
      "Date of post: 2016-08-17 19:43:01\n",
      "\n",
      "\n",
      "Index ID: 8872\n",
      "\tahUKEwj11IGDhMfRAhXEExoKHebtBVQQ6AEIPDAH#v=onepage&q=playhouse%20april%209%201705&\n",
      "https://www.zooniverse.org/projects/zooniverse/shakespeares-world/talk/192/98878?comment=278494\n",
      "Thread: https://www.zooniverse.org/projects/zooniverse/shakespeares-world/talk//8872\n",
      "Date of post: 2017-01-16 16:15:49\n",
      "\n",
      "\n",
      "Index ID: 8964\n",
      "\tahUKEwi_i9mandjRAhXBPxoKHbkoA8sQ6AEIGjAA#v=onepage&q=why%20would%20salts%20help%20\n",
      "\tahUKEwj_jOnCntjRAhVLthoKHeROBtIQ6AEIOzAJ#v=onepage&q=medicinal%20lolium&f=false) S\n",
      "\tahUKEwj_jOnCntjRAhVLthoKHeROBtIQ6AEIUjAO#v=onepage&q=medicinal%20lolium&f=false)of\n",
      "https://www.zooniverse.org/projects/zooniverse/shakespeares-world/talk/192/57683?comment=285868\n",
      "Thread: https://www.zooniverse.org/projects/zooniverse/shakespeares-world/talk//8964\n",
      "Date of post: 2017-01-23 12:19:35\n",
      "\n",
      "\n",
      "Index ID: 9003\n",
      "\t30&lpg=PA230&dq=Francis+hyde+oxford+1630#v=onepage&q=Francis%20hyde%20oxford%20163\n",
      "https://www.zooniverse.org/projects/zooniverse/shakespeares-world/talk/192/46529?comment=288272\n",
      "Thread: https://www.zooniverse.org/projects/zooniverse/shakespeares-world/talk//9003\n",
      "Date of post: 2017-01-26 09:34:15\n",
      "\n",
      "\n",
      "Index ID: 9985\n",
      "\tahUKEwj_ys7snuDTAhVBBMAKHUoLCMEQ6AEIJzAA#v=onepage&q=the%20complete%20herbal&f=fal\n",
      "https://www.zooniverse.org/projects/zooniverse/shakespeares-world/talk/195/323492?comment=542628\n",
      "Thread: https://www.zooniverse.org/projects/zooniverse/shakespeares-world/talk//9985\n",
      "Date of post: 2017-05-08 12:05:40\n",
      "\n",
      "\n",
      "Index ID: 11140\n",
      "\t%20century%20boyling%20heights&pg=PT1422#v=onepage&q=17th%20century%20boyling%20he\n",
      "https://www.zooniverse.org/projects/zooniverse/shakespeares-world/talk/192/46365?comment=762915\n",
      "Thread: https://www.zooniverse.org/projects/zooniverse/shakespeares-world/talk//11140\n",
      "Date of post: 2017-10-18 03:14:45\n"
     ]
    }
   ],
   "source": [
    "ta.Printer.regexpsearch(\"\\#v\", df)"
   ]
  },
  {
   "cell_type": "code",
   "execution_count": null,
   "metadata": {
    "collapsed": true
   },
   "outputs": [],
   "source": []
  }
 ],
 "metadata": {
  "kernelspec": {
   "display_name": "Python 3",
   "language": "python",
   "name": "python3"
  },
  "language_info": {
   "codemirror_mode": {
    "name": "ipython",
    "version": 3
   },
   "file_extension": ".py",
   "mimetype": "text/x-python",
   "name": "python",
   "nbconvert_exporter": "python",
   "pygments_lexer": "ipython3",
   "version": "3.6.0"
  }
 },
 "nbformat": 4,
 "nbformat_minor": 2
}
