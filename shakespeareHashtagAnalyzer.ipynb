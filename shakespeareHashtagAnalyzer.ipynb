{
 "cells": [
  {
   "cell_type": "code",
   "execution_count": 1,
   "metadata": {
    "collapsed": false
   },
   "outputs": [
    {
     "name": "stdout",
     "output_type": "stream",
     "text": [
      "Help on module talkanalyzer:\n",
      "\n",
      "NAME\n",
      "    talkanalyzer\n",
      "\n",
      "CLASSES\n",
      "    builtins.object\n",
      "        CoreSet\n",
      "        Network\n",
      "        Printer\n",
      "        TimeSeries\n",
      "        URLconstructor\n",
      "    \n",
      "    class CoreSet(builtins.object)\n",
      "     |  Methods defined here:\n",
      "     |  \n",
      "     |  __init__(self, searchstring, df)\n",
      "     |      Takes search string and dataframe as input.\n",
      "     |      Returns various time series as dicts.\n",
      "     |      Seaborn distplot docs:\n",
      "     |      https://seaborn.pydata.org/tutorial/distributions.html\n",
      "     |  \n",
      "     |  distplot(searchstring, df)\n",
      "     |  \n",
      "     |  frequency(searchstring, df)\n",
      "     |  \n",
      "     |  frequencypercent(searchstring, df)\n",
      "     |  \n",
      "     |  hashtagtimeseries(searchstring, df)\n",
      "     |      Takes a hashtag as input, for example \"womanwriter\",\n",
      "     |      then returns a time series describing the formation of hashtag.\n",
      "     |  \n",
      "     |  histogram(searchstring, df)\n",
      "     |  \n",
      "     |  kerneldistplot(searchstring, df)\n",
      "     |  \n",
      "     |  percentile(searchstring, df)\n",
      "     |      To be fixed\n",
      "     |  \n",
      "     |  ----------------------------------------------------------------------\n",
      "     |  Data descriptors defined here:\n",
      "     |  \n",
      "     |  __dict__\n",
      "     |      dictionary for instance variables (if defined)\n",
      "     |  \n",
      "     |  __weakref__\n",
      "     |      list of weak references to the object (if defined)\n",
      "    \n",
      "    class Network(builtins.object)\n",
      "     |  Methods defined here:\n",
      "     |  \n",
      "     |  __init__(self, searchstring, df)\n",
      "     |      Takes a username or hashtag as input\n",
      "     |      and returns a directed network.\n",
      "     |  \n",
      "     |  getnodes(searchstring, df, source='user', target='user')\n",
      "     |  \n",
      "     |  hashtagcooccurrence(searchstring, df, plot=False, html=False)\n",
      "     |      Takes a hashtag and prints co-occurrence,\n",
      "     |  \n",
      "     |  hashtaghashtagnetwork(searchstring, df, plot=True, html=False)\n",
      "     |      Takes a username and makes a graph,\n",
      "     |  \n",
      "     |  hashtagusernetwork(searchstring, df, plot=True, html=False)\n",
      "     |      Takes a hashtag and makes a graph of its users,\n",
      "     |      searchstring, nodefreq, regexp=False, users=True, plot=True\n",
      "     |  \n",
      "     |  hashtagusers(searchstring, df, plot=True, html=False)\n",
      "     |      Takes a hashtag and returns frequency of users,\n",
      "     |  \n",
      "     |  makegraph(searchstring, nodefreq, users=True, plot=True)\n",
      "     |  \n",
      "     |  regexpusernetwork(searchstring, df, plot=True, html=False)\n",
      "     |  \n",
      "     |  regexpusers(searchstring, df, plot=True, html=False, data=False)\n",
      "     |  \n",
      "     |  userhashtagnetwork(searchstring, df, plot=True, html=False)\n",
      "     |      Takes a username and makes a\n",
      "     |      graph of hashtags\n",
      "     |  \n",
      "     |  userusernetwork(searchstring, df, plot=True, html=False)\n",
      "     |      Takes a username and makes a graph,\n",
      "     |  \n",
      "     |  ----------------------------------------------------------------------\n",
      "     |  Data descriptors defined here:\n",
      "     |  \n",
      "     |  __dict__\n",
      "     |      dictionary for instance variables (if defined)\n",
      "     |  \n",
      "     |  __weakref__\n",
      "     |      list of weak references to the object (if defined)\n",
      "    \n",
      "    class Printer(builtins.object)\n",
      "     |  Methods defined here:\n",
      "     |  \n",
      "     |  __init__(self, searchstring, df)\n",
      "     |      Takes search string as input and prints the results. The Output\n",
      "     |      can be printed both in plaintext or html depending if the optional\n",
      "     |      html is set to True or False. Default value is False.\n",
      "     |  \n",
      "     |  hashtag(searchstring, df, html=False)\n",
      "     |      fix so that it prints also time, url, user etc.\n",
      "     |  \n",
      "     |  regexpsearch(searchstring, df, html=False, context=True)\n",
      "     |      Takes a regular expression and prints the results, either\n",
      "     |      as plain text or html.\n",
      "     |  \n",
      "     |  thread(searchstring, df)\n",
      "     |      Input: Thread number as integer\n",
      "     |      Output: Prints thread URL and text body\n",
      "     |  \n",
      "     |  usercomments(searchstring, df, html=False)\n",
      "     |      Input user name as string,\n",
      "     |      Output: prints comments for the user\n",
      "     |  \n",
      "     |  ----------------------------------------------------------------------\n",
      "     |  Data descriptors defined here:\n",
      "     |  \n",
      "     |  __dict__\n",
      "     |      dictionary for instance variables (if defined)\n",
      "     |  \n",
      "     |  __weakref__\n",
      "     |      list of weak references to the object (if defined)\n",
      "    \n",
      "    class TimeSeries(builtins.object)\n",
      "     |  Methods defined here:\n",
      "     |  \n",
      "     |  __init__(self, searchstring, df)\n",
      "     |      Takes search string and dataframe as input.\n",
      "     |      Returns various time series as dicts.\n",
      "     |  \n",
      "     |  regexpsearch(searchstring, df, plot=True, html=False, freqs=False)\n",
      "     |  \n",
      "     |  usersearch(searchstring, df, plot=True, html=False)\n",
      "     |  \n",
      "     |  ----------------------------------------------------------------------\n",
      "     |  Data descriptors defined here:\n",
      "     |  \n",
      "     |  __dict__\n",
      "     |      dictionary for instance variables (if defined)\n",
      "     |  \n",
      "     |  __weakref__\n",
      "     |      list of weak references to the object (if defined)\n",
      "    \n",
      "    class URLconstructor(builtins.object)\n",
      "     |  Methods defined here:\n",
      "     |  \n",
      "     |  __init__(self, idnumber, df)\n",
      "     |      Takes idnumber (integer) and pandas dataframe\n",
      "     |  \n",
      "     |  commenturl(idnumber, df)\n",
      "     |      Takes an index number from the dataframe and\n",
      "     |      returns a composite URL as a string for a specific comment.\n",
      "     |  \n",
      "     |  threadturl(idnumber, df)\n",
      "     |      Takes an thread id number and returns\n",
      "     |      returns a composite URL as a string for whole discussion\n",
      "     |  \n",
      "     |  userurl(idnumber, df)\n",
      "     |      Takes a user name and returns the\n",
      "     |      user's page URL as a string\n",
      "     |  \n",
      "     |  ----------------------------------------------------------------------\n",
      "     |  Data descriptors defined here:\n",
      "     |  \n",
      "     |  __dict__\n",
      "     |      dictionary for instance variables (if defined)\n",
      "     |  \n",
      "     |  __weakref__\n",
      "     |      list of weak references to the object (if defined)\n",
      "\n",
      "FILE\n",
      "    /Users/christopher/Dropbox/pythonDropbox/talk-analyzer/talkanalyzer.py\n",
      "\n",
      "\n"
     ]
    }
   ],
   "source": [
    "%matplotlib inline\n",
    "import pandas as pd\n",
    "import seaborn as sns\n",
    "import re\n",
    "import matplotlib.pyplot as plt\n",
    "import talkanalyzer as ta # Requires pandas\n",
    "import warnings \n",
    "warnings.filterwarnings('ignore') # Remove for debugging\n",
    "import networkx as nx\n",
    "from itertools import combinations\n",
    "from collections import Counter\n",
    "help(ta)"
   ]
  },
  {
   "cell_type": "code",
   "execution_count": 2,
   "metadata": {
    "collapsed": false
   },
   "outputs": [
    {
     "data": {
      "text/html": [
       "<div>\n",
       "<table border=\"1\" class=\"dataframe\">\n",
       "  <thead>\n",
       "    <tr style=\"text-align: right;\">\n",
       "      <th></th>\n",
       "      <th>board_description</th>\n",
       "      <th>board_id</th>\n",
       "      <th>board_title</th>\n",
       "      <th>comment_body</th>\n",
       "      <th>comment_created_at</th>\n",
       "      <th>comment_focus_id</th>\n",
       "      <th>comment_focus_type</th>\n",
       "      <th>comment_id</th>\n",
       "      <th>comment_user_id</th>\n",
       "      <th>comment_user_login</th>\n",
       "      <th>discussion_id</th>\n",
       "      <th>discussion_title</th>\n",
       "    </tr>\n",
       "  </thead>\n",
       "  <tbody>\n",
       "    <tr>\n",
       "      <th>0</th>\n",
       "      <td>General comment threads about individual subjects</td>\n",
       "      <td>192</td>\n",
       "      <td>Notes</td>\n",
       "      <td>Can't tell what the red/brown blob on the righ...</td>\n",
       "      <td>2015-11-09 20:50:03.309</td>\n",
       "      <td>1071522.0</td>\n",
       "      <td>Subject</td>\n",
       "      <td>33075</td>\n",
       "      <td>1396273</td>\n",
       "      <td>Sprixie</td>\n",
       "      <td>16496</td>\n",
       "      <td>Subject 1071522</td>\n",
       "    </tr>\n",
       "    <tr>\n",
       "      <th>1</th>\n",
       "      <td>General comment threads about individual subjects</td>\n",
       "      <td>192</td>\n",
       "      <td>Notes</td>\n",
       "      <td>yes i agree, judging by the rough edges round ...</td>\n",
       "      <td>2015-11-10 17:11:02.277</td>\n",
       "      <td>1071522.0</td>\n",
       "      <td>Subject</td>\n",
       "      <td>33406</td>\n",
       "      <td>1813</td>\n",
       "      <td>hightower73</td>\n",
       "      <td>16496</td>\n",
       "      <td>Subject 1071522</td>\n",
       "    </tr>\n",
       "    <tr>\n",
       "      <th>2</th>\n",
       "      <td>Ask us about specific manuscripts, scripts, ha...</td>\n",
       "      <td>195</td>\n",
       "      <td>Questions for the research team</td>\n",
       "      <td>There are only a few documents displaying in t...</td>\n",
       "      <td>2015-11-14 00:41:28.637</td>\n",
       "      <td>NaN</td>\n",
       "      <td>None</td>\n",
       "      <td>34596</td>\n",
       "      <td>1372521</td>\n",
       "      <td>Judy_Prouty</td>\n",
       "      <td>17263</td>\n",
       "      <td>Is this project proceeding?</td>\n",
       "    </tr>\n",
       "    <tr>\n",
       "      <th>3</th>\n",
       "      <td>General comment threads about individual subjects</td>\n",
       "      <td>192</td>\n",
       "      <td>Notes</td>\n",
       "      <td>Nothing on here?</td>\n",
       "      <td>2015-11-27 10:39:56.197</td>\n",
       "      <td>1167235.0</td>\n",
       "      <td>Subject</td>\n",
       "      <td>38341</td>\n",
       "      <td>478315</td>\n",
       "      <td>darktruth</td>\n",
       "      <td>19021</td>\n",
       "      <td>Subject 1167235</td>\n",
       "    </tr>\n",
       "    <tr>\n",
       "      <th>4</th>\n",
       "      <td>General comment threads about individual subjects</td>\n",
       "      <td>192</td>\n",
       "      <td>Notes</td>\n",
       "      <td>No text or image.</td>\n",
       "      <td>2015-11-27 10:42:46.044</td>\n",
       "      <td>1169357.0</td>\n",
       "      <td>Subject</td>\n",
       "      <td>38342</td>\n",
       "      <td>478315</td>\n",
       "      <td>darktruth</td>\n",
       "      <td>19022</td>\n",
       "      <td>Subject 1169357</td>\n",
       "    </tr>\n",
       "  </tbody>\n",
       "</table>\n",
       "</div>"
      ],
      "text/plain": [
       "                                   board_description  board_id  \\\n",
       "0  General comment threads about individual subjects       192   \n",
       "1  General comment threads about individual subjects       192   \n",
       "2  Ask us about specific manuscripts, scripts, ha...       195   \n",
       "3  General comment threads about individual subjects       192   \n",
       "4  General comment threads about individual subjects       192   \n",
       "\n",
       "                       board_title  \\\n",
       "0                            Notes   \n",
       "1                            Notes   \n",
       "2  Questions for the research team   \n",
       "3                            Notes   \n",
       "4                            Notes   \n",
       "\n",
       "                                        comment_body      comment_created_at  \\\n",
       "0  Can't tell what the red/brown blob on the righ... 2015-11-09 20:50:03.309   \n",
       "1  yes i agree, judging by the rough edges round ... 2015-11-10 17:11:02.277   \n",
       "2  There are only a few documents displaying in t... 2015-11-14 00:41:28.637   \n",
       "3                                   Nothing on here? 2015-11-27 10:39:56.197   \n",
       "4                                  No text or image. 2015-11-27 10:42:46.044   \n",
       "\n",
       "   comment_focus_id comment_focus_type  comment_id  comment_user_id  \\\n",
       "0         1071522.0            Subject       33075          1396273   \n",
       "1         1071522.0            Subject       33406             1813   \n",
       "2               NaN               None       34596          1372521   \n",
       "3         1167235.0            Subject       38341           478315   \n",
       "4         1169357.0            Subject       38342           478315   \n",
       "\n",
       "  comment_user_login  discussion_id             discussion_title  \n",
       "0            Sprixie          16496              Subject 1071522  \n",
       "1        hightower73          16496              Subject 1071522  \n",
       "2        Judy_Prouty          17263  Is this project proceeding?  \n",
       "3          darktruth          19021              Subject 1167235  \n",
       "4          darktruth          19022              Subject 1169357  "
      ]
     },
     "execution_count": 2,
     "metadata": {},
     "output_type": "execute_result"
    }
   ],
   "source": [
    "df = pd.read_json(\"data/project-376-comments_2017-11-21.json\")\n",
    "df.head()\n",
    "#df.to_excel(\"data/project-376-comments_2017-11-21.xlsx\")\n",
    "#df.insert(0, \"CommentURL\", \"\")\n",
    "#df.insert(0, \"ThreadURL\", \"\")"
   ]
  },
  {
   "cell_type": "code",
   "execution_count": 31,
   "metadata": {
    "collapsed": false
   },
   "outputs": [
    {
     "name": "stdout",
     "output_type": "stream",
     "text": [
      "4126\n",
      "946\n"
     ]
    }
   ],
   "source": [
    "hashtags = []\n",
    "\n",
    "for row in df.iterrows():\n",
    "    match = re.findall(r'\\#[a-zA-Z0-9]+', row[1][3], re.IGNORECASE)\n",
    "    for m in match:\n",
    "        hashtags.append(m.lower())\n",
    "print(len(hashtags))\n",
    "print(len(set(hashtags)))"
   ]
  },
  {
   "cell_type": "code",
   "execution_count": 35,
   "metadata": {
    "collapsed": false
   },
   "outputs": [
    {
     "data": {
      "text/plain": [
       "[('#letter', 302),\n",
       " ('#oed', 238),\n",
       " ('#recipe', 222),\n",
       " ('#medicine', 162),\n",
       " ('#latin', 143),\n",
       " ('#womanwriter', 139),\n",
       " ('#catholic', 129),\n",
       " ('#copiedletter', 120),\n",
       " ('#v', 79),\n",
       " ('#address', 79),\n",
       " ('#medical', 64),\n",
       " ('#cooking', 59),\n",
       " ('#bleedthrough', 58),\n",
       " ('#ward', 58),\n",
       " ('#paper', 54),\n",
       " ('#packe', 50),\n",
       " ('#baker', 45),\n",
       " ('#cromwell', 35),\n",
       " ('#food', 34),\n",
       " ('#corlyon', 33)]"
      ]
     },
     "execution_count": 35,
     "metadata": {},
     "output_type": "execute_result"
    }
   ],
   "source": [
    "'''Get most common hashtags'''\n",
    "c = Counter(hashtags)\n",
    "c.most_common(20)"
   ]
  },
  {
   "cell_type": "code",
   "execution_count": 62,
   "metadata": {
    "collapsed": false
   },
   "outputs": [
    {
     "name": "stdout",
     "output_type": "stream",
     "text": [
      "#letter 302\n",
      "#oed 238\n",
      "#recipe 222\n",
      "#medicine 162\n",
      "#latin 143\n",
      "#womanwriter 139\n",
      "#catholic 129\n",
      "#copiedletter 120\n",
      "#v 79\n",
      "#address 79\n",
      "#medical 64\n",
      "#cooking 59\n",
      "#bleedthrough 58\n",
      "#ward 58\n",
      "#paper 54\n",
      "#packe 50\n",
      "#baker 45\n",
      "#cromwell 35\n",
      "#food 34\n",
      "#corlyon 33\n",
      "#recipes 32\n",
      "#catholics 31\n",
      "#index 31\n",
      "#badcatalogue 29\n",
      "#state 28\n",
      "#water 25\n",
      "#raleigh 25\n",
      "#recusants 24\n",
      "#dots 20\n",
      "#recipes2try 18\n",
      "#walterbagot 18\n",
      "#correction 18\n",
      "#digby 16\n",
      "#slits 16\n",
      "#seal 15\n",
      "#typea 15\n",
      "#dailyzoo 14\n",
      "#diary 14\n",
      "#ireland 14\n",
      "#fruit 14\n",
      "#notletter 14\n",
      "#webster 13\n",
      "#spain 13\n",
      "#recipe2try 11\n",
      "#draft 11\n",
      "#shorthand 11\n",
      "#cookbook 10\n",
      "#university 10\n",
      "#privycouncil 10\n",
      "#medicines 9\n",
      "#unsure 9\n",
      "#chetwynd 9\n",
      "#religion 9\n",
      "#plague 9\n",
      "#herbs 8\n",
      "#autobiography 8\n",
      "#essex 8\n",
      "#book 8\n",
      "#french 8\n",
      "#bacon 8\n",
      "#symbol 8\n",
      "#pope 8\n",
      "#animals 8\n",
      "#thomascrompton 8\n",
      "#preserving 7\n",
      "#blank 7\n",
      "#personofinterest 7\n",
      "#typek 7\n",
      "#remedy 6\n",
      "#magic 6\n",
      "#king 6\n",
      "#cookery 6\n",
      "#marriage 6\n",
      "#toc 6\n",
      "#code 6\n",
      "#meat 6\n",
      "#francisbacon 6\n",
      "#duplicate 6\n",
      "#richardbroughton 6\n",
      "#thomasdocksie 6\n",
      "#jesuits 6\n",
      "#shakespeare 6\n",
      "#duel 6\n",
      "#pie 5\n",
      "#astrology 5\n",
      "#bagot 5\n",
      "#recipestotry 5\n",
      "#tobacco 5\n",
      "#lotsofingredients 5\n",
      "#thomaswolseley 5\n",
      "#thomascrumpton 5\n",
      "#walterchetwynd 5\n",
      "#recusant 5\n",
      "93\n",
      "[302, 238, 222, 162, 143, 139, 129, 120, 79, 79, 64, 59, 58, 58, 54, 50, 45, 35, 34, 33, 32, 31, 31, 29, 28, 25, 25, 24, 20, 18, 18, 18, 16, 16, 15, 15, 14, 14, 14, 14, 14, 13, 13, 11, 11, 11, 10, 10, 10, 9, 9, 9, 9, 9, 8, 8, 8, 8, 8, 8, 8, 8, 8, 8, 7, 7, 7, 7, 6, 6, 6, 6, 6, 6, 6, 6, 6, 6, 6, 6, 6, 6, 6, 5, 5, 5, 5, 5, 5, 5, 5, 5, 5]\n"
     ]
    },
    {
     "data": {
      "text/plain": [
       "<matplotlib.axes._subplots.AxesSubplot at 0x129348390>"
      ]
     },
     "execution_count": 62,
     "metadata": {},
     "output_type": "execute_result"
    },
    {
     "data": {
      "image/png": "[encoded data removed]",
      "text/plain": [
       "<matplotlib.figure.Figure at 0x1292ebc50>"
      ]
     },
     "metadata": {},
     "output_type": "display_data"
    }
   ],
   "source": [
    "valuelist = []\n",
    "for v in c.most_common(1000):\n",
    "    if v[1] >= 5:\n",
    "        valuelist.append(v[1])\n",
    "        print(v[0], v[1])\n",
    "    else:\n",
    "        continue\n",
    "        #print(v[0])\n",
    "print(len(valuelist))\n",
    "print(valuelist)\n",
    "sns.distplot(valuelist)"
   ]
  },
  {
   "cell_type": "markdown",
   "metadata": {},
   "source": [
    "### Hashtag/user network\n",
    "This takes a hashtag and then plots a network based on which users that has written about it in the forum. The closer to the center concept, the more often the users write about it. The function:\n",
    "\n",
    "````python\n",
    "def makegraph(searchstring, nodefreq, regexp=False, users=True, plot=True)\n",
    "````"
   ]
  },
  {
   "cell_type": "code",
   "execution_count": 66,
   "metadata": {
    "collapsed": false
   },
   "outputs": [
    {
     "name": "stdout",
     "output_type": "stream",
     "text": [
      "Searching for: #v\n"
     ]
    },
    {
     "data": {
      "text/plain": [
       "[]"
      ]
     },
     "execution_count": 66,
     "metadata": {},
     "output_type": "execute_result"
    }
   ],
   "source": [
    "ta.CoreSet.frequency(\"#v\", df)"
   ]
  },
  {
   "cell_type": "code",
   "execution_count": 69,
   "metadata": {
    "collapsed": false
   },
   "outputs": [
    {
     "name": "stdout",
     "output_type": "stream",
     "text": [
      "Searching for: #medical\n",
      "Total hashtags: 48\n"
     ]
    },
    {
     "data": {
      "text/plain": [
       "[('fromere', 0.23),\n",
       " ('kodemunkey', 0.17),\n",
       " ('Archi', 0.06),\n",
       " ('Kimnj', 0.06),\n",
       " ('griddlesticks', 0.06),\n",
       " ('joolslee', 0.06),\n",
       " ('Dizzy78', 0.06),\n",
       " ('Bladud', 0.06),\n",
       " ('Captain_Video', 0.04),\n",
       " ('LWSmith', 0.04),\n",
       " ('Antihelios', 0.04),\n",
       " ('Citranine', 0.04),\n",
       " ('MayorBatman', 0.02),\n",
       " ('hightower73', 0.02),\n",
       " ('Woo-H', 0.02)]"
      ]
     },
     "execution_count": 69,
     "metadata": {},
     "output_type": "execute_result"
    }
   ],
   "source": [
    "ta.CoreSet.frequencypercent(\"#medical\", df)"
   ]
  },
  {
   "cell_type": "code",
   "execution_count": 76,
   "metadata": {
    "collapsed": false
   },
   "outputs": [
    {
     "name": "stdout",
     "output_type": "stream",
     "text": [
      "Cuboctahedron\n",
      "2016-02-05 14:30:22.280000\n",
      "#corlyon\n",
      "https://www.zooniverse.org/projects/zooniverse/shakespeares-world/talk/192/38112?comment=75597\n",
      "------\n",
      "Citranine\n",
      "2016-04-14 21:35:22.922000\n",
      "#corlyon\n",
      "https://www.zooniverse.org/projects/zooniverse/shakespeares-world/talk/192/49652?comment=98654\n",
      "------\n"
     ]
    }
   ],
   "source": [
    "for t in ta.CoreSet.hashtagtimeseries(\"#corlyon\", df).iterrows():\n",
    "    print(t[1][0])\n",
    "    print(t[1][1])\n",
    "    print(t[1][2])\n",
    "    print(t[1][3])\n",
    "    print(\"------\")\n"
   ]
  },
  {
   "cell_type": "code",
   "execution_count": 5,
   "metadata": {
    "collapsed": false
   },
   "outputs": [
    {
     "data": {
      "text/plain": [
       "0    2015-12-10 16:48:16.372\n",
       "1    2015-12-10 17:51:43.537\n",
       "2    2015-12-10 18:03:14.555\n",
       "3    2015-12-10 18:09:08.853\n",
       "4    2015-12-10 23:28:41.703\n",
       "5    2015-12-11 16:34:15.917\n",
       "6    2015-12-11 17:23:19.682\n",
       "7    2015-12-11 18:29:33.553\n",
       "8    2015-12-11 20:00:52.875\n",
       "9    2015-12-13 02:47:33.379\n",
       "10   2015-12-13 14:06:09.771\n",
       "11   2015-12-13 14:19:43.119\n",
       "12   2015-12-14 15:23:51.972\n",
       "13   2015-12-14 17:04:48.450\n",
       "14   2015-12-15 09:32:18.498\n",
       "15   2015-12-15 13:48:17.294\n",
       "16   2015-12-15 19:53:43.351\n",
       "17   2015-12-16 14:30:09.570\n",
       "18   2015-12-16 16:19:27.774\n",
       "19   2015-12-18 16:51:35.822\n",
       "20   2015-12-18 22:49:03.204\n",
       "21   2015-12-18 23:40:12.901\n",
       "22   2015-12-20 16:24:36.157\n",
       "23   2015-12-21 13:17:55.799\n",
       "24   2015-12-21 19:20:17.265\n",
       "25   2015-12-21 19:34:35.142\n",
       "26   2015-12-22 18:18:11.706\n",
       "27   2015-12-22 19:49:03.268\n",
       "28   2015-12-24 13:02:26.785\n",
       "29   2015-12-24 14:29:04.819\n",
       "               ...          \n",
       "62   2016-02-20 16:22:06.196\n",
       "63   2016-02-26 15:40:03.017\n",
       "64   2016-03-04 14:47:31.934\n",
       "65   2016-03-14 21:22:35.577\n",
       "66   2016-03-28 18:00:06.517\n",
       "67   2016-04-14 20:54:58.401\n",
       "68   2016-04-14 21:35:22.922\n",
       "69   2016-06-28 19:41:33.963\n",
       "70   2016-07-12 20:16:59.343\n",
       "71   2016-07-19 22:05:33.808\n",
       "72   2016-08-14 00:53:20.141\n",
       "73   2016-11-26 12:03:35.268\n",
       "74   2016-12-14 18:06:53.423\n",
       "75   2016-12-23 16:29:48.670\n",
       "76   2016-12-29 11:42:54.053\n",
       "77   2017-01-03 09:39:46.838\n",
       "78   2017-01-03 11:02:36.187\n",
       "79   2017-03-27 11:25:51.098\n",
       "80   2017-05-06 10:37:43.788\n",
       "81   2017-05-31 16:54:05.612\n",
       "82   2017-05-31 16:57:48.493\n",
       "83   2017-06-13 11:24:49.499\n",
       "84   2017-06-13 11:38:55.905\n",
       "85   2017-06-13 13:13:32.702\n",
       "86   2017-06-13 13:46:28.221\n",
       "87   2017-06-13 16:46:30.560\n",
       "88   2017-07-03 11:25:14.015\n",
       "89   2017-10-12 19:03:58.260\n",
       "90   2017-10-25 11:41:55.383\n",
       "91   2017-11-15 15:49:37.426\n",
       "Name: Timestamp, dtype: datetime64[ns]"
      ]
     },
     "execution_count": 5,
     "metadata": {},
     "output_type": "execute_result"
    }
   ],
   "source": [
    "ta.CoreSet.hashtagtimeseries(\"#womanwriter\", df)['Timestamp']"
   ]
  },
  {
   "cell_type": "code",
   "execution_count": 75,
   "metadata": {
    "collapsed": false
   },
   "outputs": [
    {
     "name": "stdout",
     "output_type": "stream",
     "text": [
      "[0 1]\n"
     ]
    }
   ],
   "source": [
    "searchterm = \"#corlyon\"\n",
    "\n",
    "X = ta.CoreSet.hashtagtimeseries(searchterm, df)['Timestamp']\n",
    "user = list(range((len(X))))\n",
    "userlist = ta.CoreSet.hashtagtimeseries(searchterm, df)['User']\n",
    "factorized = pd.factorize(userlist)\n",
    "print(factorized[0])\n",
    "#print(c)"
   ]
  },
  {
   "cell_type": "code",
   "execution_count": 65,
   "metadata": {
    "collapsed": false
   },
   "outputs": [],
   "source": [
    "hexlist = []\n",
    "for f in factorized[0]:\n",
    "    hexlist.append(str('{0:06X}'.format(f*560000)))"
   ]
  },
  {
   "cell_type": "code",
   "execution_count": 90,
   "metadata": {
    "collapsed": false
   },
   "outputs": [
    {
     "name": "stdout",
     "output_type": "stream",
     "text": [
      "['000000', '000000', '088B80', '111700', '19A280', '111700', '222E00', '2AB980', '334500', '3BD080', '3BD080', '445C00', '445C00', '445C00', '2AB980', '088B80', '111700', '111700', '111700', '2AB980', '4CE780', '557300', '557300', '5DFE80', '000000', '111700', '668A00', '668A00', '445C00', '5DFE80', '000000', '111700', '5DFE80', '668A00', '111700', '111700', '111700', '111700', '6F1580', '5DFE80', '000000', '111700', '5DFE80', '445C00', '6F1580', '445C00', '2AB980', '111700', '111700', '445C00', '111700', '000000', '000000', '000000', '77A100', '802C80', '445C00', '445C00', '445C00', '000000', '000000', '000000', '000000', '000000', '88B800', '6F1580', '000000', '000000', '914380', '000000', '000000', '000000', '99CF00', '000000', '000000', '000000', '000000', '000000', '000000', '000000', '000000', '99CF00', '000000', '000000', '000000', '000000', '000000', '99CF00', '99CF00', '000000', '000000', '99CF00', '000000']\n"
     ]
    },
    {
     "ename": "TypeError",
     "evalue": "zip argument #1 must support iteration",
     "output_type": "error",
     "traceback": [
      "\u001b[0;31m---------------------------------------------------------------------------\u001b[0m",
      "\u001b[0;31mTypeError\u001b[0m                                 Traceback (most recent call last)",
      "\u001b[0;32m<ipython-input-90-8c342900b417>\u001b[0m in \u001b[0;36m<module>\u001b[0;34m()\u001b[0m\n\u001b[1;32m      7\u001b[0m \u001b[0;34m\u001b[0m\u001b[0m\n\u001b[1;32m      8\u001b[0m \u001b[0;31m#plt.plot(X, user, 'ro')\u001b[0m\u001b[0;34m\u001b[0m\u001b[0;34m\u001b[0m\u001b[0m\n\u001b[0;32m----> 9\u001b[0;31m \u001b[0;32mfor\u001b[0m \u001b[0mX\u001b[0m\u001b[0;34m,\u001b[0m \u001b[0muser\u001b[0m\u001b[0;34m,\u001b[0m \u001b[0mcolor\u001b[0m \u001b[0;32min\u001b[0m \u001b[0mzip\u001b[0m\u001b[0;34m(\u001b[0m\u001b[0mX\u001b[0m\u001b[0;34m,\u001b[0m \u001b[0muser\u001b[0m\u001b[0;34m,\u001b[0m \u001b[0mcolor\u001b[0m\u001b[0;34m)\u001b[0m\u001b[0;34m:\u001b[0m\u001b[0;34m\u001b[0m\u001b[0m\n\u001b[0m\u001b[1;32m     10\u001b[0m     \u001b[0mprint\u001b[0m\u001b[0;34m(\u001b[0m\u001b[0mX\u001b[0m\u001b[0;34m,\u001b[0m \u001b[0muser\u001b[0m\u001b[0;34m,\u001b[0m \u001b[0mcolor\u001b[0m\u001b[0;34m)\u001b[0m\u001b[0;34m\u001b[0m\u001b[0m\n\u001b[1;32m     11\u001b[0m \u001b[0;34m\u001b[0m\u001b[0m\n",
      "\u001b[0;31mTypeError\u001b[0m: zip argument #1 must support iteration"
     ]
    },
    {
     "data": {
      "image/png": "[encoded data removed]",
      "text/plain": [
       "<matplotlib.figure.Figure at 0x10e98a8d0>"
      ]
     },
     "metadata": {},
     "output_type": "display_data"
    }
   ],
   "source": [
    "fig, ax = plt.subplots(figsize=(20,4))\n",
    "userlist = ta.CoreSet.hashtagtimeseries(searchterm, df)['Timestamp']\n",
    "color = [item for item in hexlist]\n",
    "print(color)\n",
    "\n",
    "test = ['C1', 'C2', 'C3']\n",
    "\n",
    "#plt.plot(X, user, 'ro')\n",
    "for X, user, color in zip(X, user, color):\n",
    "    print(X, user, color)\n",
    "\n",
    "#plt.plot(X, user, \".\", color=('111700'))\n",
    "\n",
    "#fig.autofmt_xdate()\n",
    "\n",
    "plt.show()\n",
    "\n",
    "\n",
    "\n",
    "\n",
    "fig, axes = plt.subplots(nrows=2, ncols=2, sharex=True)\n",
    "\n",
    "titles = ['Linear', 'Squared', 'Cubic', 'Quartic']\n",
    "y_vals = [x, x * x, x**3, x**4]\n",
    "\n",
    "# axes.flat returns the set of axes as a flat (1D) array instead\n",
    "# of the two-dimensional version we used earlier\n",
    "for ax, title, y in zip(axes.flat, titles, y_vals):\n",
    "    ax.plot(x, y)\n",
    "    ax.set_title(title)\n",
    "    ax.grid(True)"
   ]
  },
  {
   "cell_type": "code",
   "execution_count": 8,
   "metadata": {
    "collapsed": false,
    "scrolled": false
   },
   "outputs": [
    {
     "name": "stdout",
     "output_type": "stream",
     "text": [
      "Searching for: #oed\n"
     ]
    },
    {
     "data": {
      "image/png": "[encoded data removed]",
      "text/plain": [
       "<matplotlib.figure.Figure at 0x1057835c0>"
      ]
     },
     "metadata": {},
     "output_type": "display_data"
    }
   ],
   "source": [
    "ta.CoreSet.histogram(\"#oed\", df)"
   ]
  },
  {
   "cell_type": "code",
   "execution_count": 91,
   "metadata": {
    "collapsed": false
   },
   "outputs": [
    {
     "name": "stdout",
     "output_type": "stream",
     "text": [
      "Searching for: #oed\n"
     ]
    },
    {
     "data": {
      "image/png": "[encoded data removed]",
      "text/plain": [
       "<matplotlib.figure.Figure at 0x10e9aa2e8>"
      ]
     },
     "metadata": {},
     "output_type": "display_data"
    }
   ],
   "source": [
    "ta.CoreSet.distplot(\"#oed\", df)"
   ]
  },
  {
   "cell_type": "code",
   "execution_count": 92,
   "metadata": {
    "collapsed": false
   },
   "outputs": [
    {
     "name": "stdout",
     "output_type": "stream",
     "text": [
      "Searching for: #womanwriter\n"
     ]
    },
    {
     "data": {
      "image/png": "[encoded data removed]",
      "text/plain": [
       "<matplotlib.figure.Figure at 0x10eea21d0>"
      ]
     },
     "metadata": {},
     "output_type": "display_data"
    }
   ],
   "source": [
    "ta.CoreSet.kerneldistplot(\"#womanwriter\", df)"
   ]
  },
  {
   "cell_type": "code",
   "execution_count": 5,
   "metadata": {
    "collapsed": false,
    "scrolled": true
   },
   "outputs": [
    {
     "name": "stdout",
     "output_type": "stream",
     "text": [
      "Searching for: #letter\n"
     ]
    },
    {
     "data": {
      "image/png": "[encoded data removed]",
      "text/plain": [
       "<matplotlib.figure.Figure at 0x103453320>"
      ]
     },
     "metadata": {},
     "output_type": "display_data"
    },
    {
     "name": "stdout",
     "output_type": "stream",
     "text": [
      "Searching for: #letter\n"
     ]
    },
    {
     "data": {
      "image/png": "[encoded data removed]",
      "text/plain": [
       "<matplotlib.figure.Figure at 0x114dca588>"
      ]
     },
     "metadata": {},
     "output_type": "display_data"
    },
    {
     "name": "stdout",
     "output_type": "stream",
     "text": [
      "---------------\n",
      "Searching for: #oed\n"
     ]
    },
    {
     "data": {
      "image/png": "[encoded data removed]",
      "text/plain": [
       "<matplotlib.figure.Figure at 0x108cd9b38>"
      ]
     },
     "metadata": {},
     "output_type": "display_data"
    },
    {
     "name": "stdout",
     "output_type": "stream",
     "text": [
      "Searching for: #oed\n"
     ]
    },
    {
     "data": {
      "image/png": "[encoded data removed]",
      "text/plain": [
       "<matplotlib.figure.Figure at 0x114d2e780>"
      ]
     },
     "metadata": {},
     "output_type": "display_data"
    },
    {
     "name": "stdout",
     "output_type": "stream",
     "text": [
      "---------------\n",
      "Searching for: #recipe\n"
     ]
    },
    {
     "data": {
      "image/png": "[encoded data removed]",
      "text/plain": [
       "<matplotlib.figure.Figure at 0x1142184e0>"
      ]
     },
     "metadata": {},
     "output_type": "display_data"
    },
    {
     "name": "stdout",
     "output_type": "stream",
     "text": [
      "Searching for: #recipe\n"
     ]
    },
    {
     "data": {
      "image/png": "[encoded data removed]",
      "text/plain": [
       "<matplotlib.figure.Figure at 0x1143f09e8>"
      ]
     },
     "metadata": {},
     "output_type": "display_data"
    },
    {
     "name": "stdout",
     "output_type": "stream",
     "text": [
      "---------------\n",
      "Searching for: #medicine\n"
     ]
    },
    {
     "data": {
      "image/png": "[encoded data removed]",
      "text/plain": [
       "<matplotlib.figure.Figure at 0x1093d04a8>"
      ]
     },
     "metadata": {},
     "output_type": "display_data"
    },
    {
     "name": "stdout",
     "output_type": "stream",
     "text": [
      "Searching for: #medicine\n"
     ]
    },
    {
     "data": {
      "image/png": "[encoded data removed]",
      "text/plain": [
       "<matplotlib.figure.Figure at 0x1093c7898>"
      ]
     },
     "metadata": {},
     "output_type": "display_data"
    },
    {
     "name": "stdout",
     "output_type": "stream",
     "text": [
      "---------------\n",
      "Searching for: #latin\n"
     ]
    },
    {
     "data": {
      "image/png": "[encoded data removed]",
      "text/plain": [
       "<matplotlib.figure.Figure at 0x11481ab70>"
      ]
     },
     "metadata": {},
     "output_type": "display_data"
    },
    {
     "name": "stdout",
     "output_type": "stream",
     "text": [
      "Searching for: #latin\n"
     ]
    },
    {
     "data": {
      "image/png": "[encoded data removed]",
      "text/plain": [
       "<matplotlib.figure.Figure at 0x1033a4898>"
      ]
     },
     "metadata": {},
     "output_type": "display_data"
    },
    {
     "name": "stdout",
     "output_type": "stream",
     "text": [
      "---------------\n",
      "Searching for: #womanwriter\n"
     ]
    },
    {
     "ename": "KeyboardInterrupt",
     "evalue": "",
     "output_type": "error",
     "traceback": [
      "\u001b[0;31m---------------------------------------------------------------------------\u001b[0m",
      "\u001b[0;31mKeyError\u001b[0m                                  Traceback (most recent call last)",
      "\u001b[0;32m/Users/christopher/anaconda3/lib/python3.6/site-packages/pandas/indexes/base.py\u001b[0m in \u001b[0;36mget_value\u001b[0;34m(self, series, key)\u001b[0m\n\u001b[1;32m   2168\u001b[0m             return self._engine.get_value(s, k,\n\u001b[0;32m-> 2169\u001b[0;31m                                           tz=getattr(series.dtype, 'tz', None))\n\u001b[0m\u001b[1;32m   2170\u001b[0m         \u001b[0;32mexcept\u001b[0m \u001b[0mKeyError\u001b[0m \u001b[0;32mas\u001b[0m \u001b[0me1\u001b[0m\u001b[0;34m:\u001b[0m\u001b[0;34m\u001b[0m\u001b[0m\n",
      "\u001b[0;32mpandas/index.pyx\u001b[0m in \u001b[0;36mpandas.index.IndexEngine.get_value (pandas/index.c:3557)\u001b[0;34m()\u001b[0m\n",
      "\u001b[0;32mpandas/index.pyx\u001b[0m in \u001b[0;36mpandas.index.IndexEngine.get_value (pandas/index.c:3240)\u001b[0;34m()\u001b[0m\n",
      "\u001b[0;32mpandas/index.pyx\u001b[0m in \u001b[0;36mpandas.index.IndexEngine.get_loc (pandas/index.c:4279)\u001b[0;34m()\u001b[0m\n",
      "\u001b[0;32mpandas/src/hashtable_class_helper.pxi\u001b[0m in \u001b[0;36mpandas.hashtable.PyObjectHashTable.get_item (pandas/hashtable.c:13742)\u001b[0;34m()\u001b[0m\n",
      "\u001b[0;32mpandas/src/hashtable_class_helper.pxi\u001b[0m in \u001b[0;36mpandas.hashtable.PyObjectHashTable.get_item (pandas/hashtable.c:13696)\u001b[0;34m()\u001b[0m\n",
      "\u001b[0;31mKeyError\u001b[0m: 3",
      "\nDuring handling of the above exception, another exception occurred:\n",
      "\u001b[0;31mKeyboardInterrupt\u001b[0m                         Traceback (most recent call last)",
      "\u001b[0;32m<ipython-input-5-3909844b00cc>\u001b[0m in \u001b[0;36m<module>\u001b[0;34m()\u001b[0m\n\u001b[1;32m      1\u001b[0m \u001b[0;34m'''Print graphs and stuff'''\u001b[0m\u001b[0;34m\u001b[0m\u001b[0m\n\u001b[1;32m      2\u001b[0m \u001b[0;32mfor\u001b[0m \u001b[0mhashtag\u001b[0m \u001b[0;32min\u001b[0m \u001b[0mc\u001b[0m\u001b[0;34m.\u001b[0m\u001b[0mmost_common\u001b[0m\u001b[0;34m(\u001b[0m\u001b[0;36m10\u001b[0m\u001b[0;34m)\u001b[0m\u001b[0;34m:\u001b[0m\u001b[0;34m\u001b[0m\u001b[0m\n\u001b[0;32m----> 3\u001b[0;31m     \u001b[0mta\u001b[0m\u001b[0;34m.\u001b[0m\u001b[0mCoreSet\u001b[0m\u001b[0;34m.\u001b[0m\u001b[0mhistogram\u001b[0m\u001b[0;34m(\u001b[0m\u001b[0mhashtag\u001b[0m\u001b[0;34m[\u001b[0m\u001b[0;36m0\u001b[0m\u001b[0;34m]\u001b[0m\u001b[0;34m,\u001b[0m \u001b[0mdf\u001b[0m\u001b[0;34m)\u001b[0m\u001b[0;34m\u001b[0m\u001b[0m\n\u001b[0m\u001b[1;32m      4\u001b[0m     \u001b[0mta\u001b[0m\u001b[0;34m.\u001b[0m\u001b[0mCoreSet\u001b[0m\u001b[0;34m.\u001b[0m\u001b[0mdistplot\u001b[0m\u001b[0;34m(\u001b[0m\u001b[0mhashtag\u001b[0m\u001b[0;34m[\u001b[0m\u001b[0;36m0\u001b[0m\u001b[0;34m]\u001b[0m\u001b[0;34m,\u001b[0m \u001b[0mdf\u001b[0m\u001b[0;34m)\u001b[0m\u001b[0;34m\u001b[0m\u001b[0m\n\u001b[1;32m      5\u001b[0m     \u001b[0mprint\u001b[0m\u001b[0;34m(\u001b[0m\u001b[0;34m\"---------------\"\u001b[0m\u001b[0;34m)\u001b[0m\u001b[0;34m\u001b[0m\u001b[0m\n",
      "\u001b[0;32m/Users/christopher/Dropbox/pythonDropbox/talk-analyzer/talkanalyzer.py\u001b[0m in \u001b[0;36mhistogram\u001b[0;34m(searchstring, df)\u001b[0m\n\u001b[1;32m    375\u001b[0m \u001b[0;34m\u001b[0m\u001b[0m\n\u001b[1;32m    376\u001b[0m     \u001b[0;32mdef\u001b[0m \u001b[0mhistogram\u001b[0m\u001b[0;34m(\u001b[0m\u001b[0msearchstring\u001b[0m\u001b[0;34m,\u001b[0m \u001b[0mdf\u001b[0m\u001b[0;34m)\u001b[0m\u001b[0;34m:\u001b[0m\u001b[0;34m\u001b[0m\u001b[0m\n\u001b[0;32m--> 377\u001b[0;31m         \u001b[0mfreqdict\u001b[0m \u001b[0;34m=\u001b[0m \u001b[0mCoreSet\u001b[0m\u001b[0;34m.\u001b[0m\u001b[0mfrequency\u001b[0m\u001b[0;34m(\u001b[0m\u001b[0msearchstring\u001b[0m\u001b[0;34m,\u001b[0m \u001b[0mdf\u001b[0m\u001b[0;34m)\u001b[0m\u001b[0;34m\u001b[0m\u001b[0m\n\u001b[0m\u001b[1;32m    378\u001b[0m         \u001b[0mfreqarray\u001b[0m \u001b[0;34m=\u001b[0m \u001b[0;34m[\u001b[0m\u001b[0;34m]\u001b[0m\u001b[0;34m\u001b[0m\u001b[0m\n\u001b[1;32m    379\u001b[0m         \u001b[0;32mfor\u001b[0m \u001b[0mtple\u001b[0m \u001b[0;32min\u001b[0m \u001b[0mfreqdict\u001b[0m\u001b[0;34m:\u001b[0m\u001b[0;34m\u001b[0m\u001b[0m\n",
      "\u001b[0;32m/Users/christopher/Dropbox/pythonDropbox/talk-analyzer/talkanalyzer.py\u001b[0m in \u001b[0;36mfrequency\u001b[0;34m(searchstring, df)\u001b[0m\n\u001b[1;32m    353\u001b[0m     \u001b[0;32mdef\u001b[0m \u001b[0mfrequency\u001b[0m\u001b[0;34m(\u001b[0m\u001b[0msearchstring\u001b[0m\u001b[0;34m,\u001b[0m \u001b[0mdf\u001b[0m\u001b[0;34m)\u001b[0m\u001b[0;34m:\u001b[0m\u001b[0;34m\u001b[0m\u001b[0m\n\u001b[1;32m    354\u001b[0m         distribution = Network.getnodes(searchstring, df,\n\u001b[0;32m--> 355\u001b[0;31m                                         source='hash', target='user')\n\u001b[0m\u001b[1;32m    356\u001b[0m         \u001b[0;32mreturn\u001b[0m \u001b[0mdistribution\u001b[0m\u001b[0;34m\u001b[0m\u001b[0m\n\u001b[1;32m    357\u001b[0m \u001b[0;34m\u001b[0m\u001b[0m\n",
      "\u001b[0;32m/Users/christopher/Dropbox/pythonDropbox/talk-analyzer/talkanalyzer.py\u001b[0m in \u001b[0;36mgetnodes\u001b[0;34m(searchstring, df, source, target)\u001b[0m\n\u001b[1;32m    238\u001b[0m                 \u001b[0;32mfor\u001b[0m \u001b[0mrow\u001b[0m \u001b[0;32min\u001b[0m \u001b[0mdf\u001b[0m\u001b[0;34m.\u001b[0m\u001b[0miterrows\u001b[0m\u001b[0;34m(\u001b[0m\u001b[0;34m)\u001b[0m\u001b[0;34m:\u001b[0m\u001b[0;34m\u001b[0m\u001b[0m\n\u001b[1;32m    239\u001b[0m                     \u001b[0mregexp\u001b[0m \u001b[0;34m=\u001b[0m \u001b[0;34m'\\#'\u001b[0m \u001b[0;34m+\u001b[0m \u001b[0msearchstring\u001b[0m\u001b[0;34m[\u001b[0m\u001b[0;36m1\u001b[0m\u001b[0;34m:\u001b[0m\u001b[0;34m]\u001b[0m \u001b[0;34m+\u001b[0m \u001b[0;34m\"\\s\"\u001b[0m\u001b[0;34m\u001b[0m\u001b[0m\n\u001b[0;32m--> 240\u001b[0;31m                     \u001b[0mmatch\u001b[0m \u001b[0;34m=\u001b[0m \u001b[0mre\u001b[0m\u001b[0;34m.\u001b[0m\u001b[0mfindall\u001b[0m\u001b[0;34m(\u001b[0m\u001b[0mregexp\u001b[0m\u001b[0;34m,\u001b[0m \u001b[0mrow\u001b[0m\u001b[0;34m[\u001b[0m\u001b[0;36m1\u001b[0m\u001b[0;34m]\u001b[0m\u001b[0;34m[\u001b[0m\u001b[0;36m3\u001b[0m\u001b[0;34m]\u001b[0m\u001b[0;34m,\u001b[0m \u001b[0mre\u001b[0m\u001b[0;34m.\u001b[0m\u001b[0mIGNORECASE\u001b[0m\u001b[0;34m)\u001b[0m\u001b[0;34m\u001b[0m\u001b[0m\n\u001b[0m\u001b[1;32m    241\u001b[0m                     \u001b[0;32mif\u001b[0m \u001b[0mmatch\u001b[0m\u001b[0;34m:\u001b[0m\u001b[0;34m\u001b[0m\u001b[0m\n\u001b[1;32m    242\u001b[0m                         \u001b[0mnodes\u001b[0m\u001b[0;34m.\u001b[0m\u001b[0mappend\u001b[0m\u001b[0;34m(\u001b[0m\u001b[0mrow\u001b[0m\u001b[0;34m[\u001b[0m\u001b[0;36m1\u001b[0m\u001b[0;34m]\u001b[0m\u001b[0;34m[\u001b[0m\u001b[0;36m9\u001b[0m\u001b[0;34m]\u001b[0m\u001b[0;34m)\u001b[0m\u001b[0;34m\u001b[0m\u001b[0m\n",
      "\u001b[0;32m/Users/christopher/anaconda3/lib/python3.6/site-packages/pandas/core/series.py\u001b[0m in \u001b[0;36m__getitem__\u001b[0;34m(self, key)\u001b[0m\n\u001b[1;32m    601\u001b[0m         \u001b[0mkey\u001b[0m \u001b[0;34m=\u001b[0m \u001b[0mcom\u001b[0m\u001b[0;34m.\u001b[0m\u001b[0m_apply_if_callable\u001b[0m\u001b[0;34m(\u001b[0m\u001b[0mkey\u001b[0m\u001b[0;34m,\u001b[0m \u001b[0mself\u001b[0m\u001b[0;34m)\u001b[0m\u001b[0;34m\u001b[0m\u001b[0m\n\u001b[1;32m    602\u001b[0m         \u001b[0;32mtry\u001b[0m\u001b[0;34m:\u001b[0m\u001b[0;34m\u001b[0m\u001b[0m\n\u001b[0;32m--> 603\u001b[0;31m             \u001b[0mresult\u001b[0m \u001b[0;34m=\u001b[0m \u001b[0mself\u001b[0m\u001b[0;34m.\u001b[0m\u001b[0mindex\u001b[0m\u001b[0;34m.\u001b[0m\u001b[0mget_value\u001b[0m\u001b[0;34m(\u001b[0m\u001b[0mself\u001b[0m\u001b[0;34m,\u001b[0m \u001b[0mkey\u001b[0m\u001b[0;34m)\u001b[0m\u001b[0;34m\u001b[0m\u001b[0m\n\u001b[0m\u001b[1;32m    604\u001b[0m \u001b[0;34m\u001b[0m\u001b[0m\n\u001b[1;32m    605\u001b[0m             \u001b[0;32mif\u001b[0m \u001b[0;32mnot\u001b[0m \u001b[0mis_scalar\u001b[0m\u001b[0;34m(\u001b[0m\u001b[0mresult\u001b[0m\u001b[0;34m)\u001b[0m\u001b[0;34m:\u001b[0m\u001b[0;34m\u001b[0m\u001b[0m\n",
      "\u001b[0;32m/Users/christopher/anaconda3/lib/python3.6/site-packages/pandas/indexes/base.py\u001b[0m in \u001b[0;36mget_value\u001b[0;34m(self, series, key)\u001b[0m\n\u001b[1;32m   2167\u001b[0m         \u001b[0;32mtry\u001b[0m\u001b[0;34m:\u001b[0m\u001b[0;34m\u001b[0m\u001b[0m\n\u001b[1;32m   2168\u001b[0m             return self._engine.get_value(s, k,\n\u001b[0;32m-> 2169\u001b[0;31m                                           tz=getattr(series.dtype, 'tz', None))\n\u001b[0m\u001b[1;32m   2170\u001b[0m         \u001b[0;32mexcept\u001b[0m \u001b[0mKeyError\u001b[0m \u001b[0;32mas\u001b[0m \u001b[0me1\u001b[0m\u001b[0;34m:\u001b[0m\u001b[0;34m\u001b[0m\u001b[0m\n\u001b[1;32m   2171\u001b[0m             \u001b[0;32mif\u001b[0m \u001b[0mlen\u001b[0m\u001b[0;34m(\u001b[0m\u001b[0mself\u001b[0m\u001b[0;34m)\u001b[0m \u001b[0;34m>\u001b[0m \u001b[0;36m0\u001b[0m \u001b[0;32mand\u001b[0m \u001b[0mself\u001b[0m\u001b[0;34m.\u001b[0m\u001b[0minferred_type\u001b[0m \u001b[0;32min\u001b[0m \u001b[0;34m[\u001b[0m\u001b[0;34m'integer'\u001b[0m\u001b[0;34m,\u001b[0m \u001b[0;34m'boolean'\u001b[0m\u001b[0;34m]\u001b[0m\u001b[0;34m:\u001b[0m\u001b[0;34m\u001b[0m\u001b[0m\n",
      "\u001b[0;31mKeyboardInterrupt\u001b[0m: "
     ]
    }
   ],
   "source": [
    "'''Print graphs and stuff'''\n",
    "for hashtag in c.most_common(10):\n",
    "    ta.CoreSet.histogram(hashtag[0], df)\n",
    "    ta.CoreSet.distplot(hashtag[0], df)\n",
    "    print(\"---------------\")"
   ]
  },
  {
   "cell_type": "code",
   "execution_count": null,
   "metadata": {
    "collapsed": true
   },
   "outputs": [],
   "source": [
    "ta.Network.hashtagusernetwork(\"#food\", df, plot=True, html=False)\n"
   ]
  },
  {
   "cell_type": "code",
   "execution_count": null,
   "metadata": {
    "collapsed": true
   },
   "outputs": [],
   "source": [
    "ta.Printer.regexpsearch('herb', df, html=False, context=True)"
   ]
  },
  {
   "cell_type": "code",
   "execution_count": null,
   "metadata": {
    "collapsed": true,
    "scrolled": true
   },
   "outputs": [],
   "source": [
    "ta.TimeSeries.regexpsearch('cathol', df)"
   ]
  },
  {
   "cell_type": "code",
   "execution_count": null,
   "metadata": {
    "collapsed": true
   },
   "outputs": [],
   "source": [
    "# Most common URLs linked. Note: fix regular expression to be more accurate. \n",
    "listofURLS = []\n",
    "for row in df.iterrows():\n",
    "    topURL = re.findall('http[s]\\:\\/\\/.*\\.(?:nl|se|no|es|milru|fr|es|uk|ca|de|jp|au|us|ch|it|io|org|com|net|int|edu|mil|arpa)\\/', row[1][3])\n",
    "    if topURL:\n",
    "        for t in topURL:\n",
    "            listofURLS.append(t)\n",
    "            \n",
    "from collections import Counter\n",
    "\n",
    "for key in Counter(listofURLS).most_common(20):\n",
    "    print(key)"
   ]
  },
  {
   "cell_type": "code",
   "execution_count": null,
   "metadata": {
    "collapsed": true
   },
   "outputs": [],
   "source": [
    "def createThreadUserNet(dataframe):\n",
    "    # Intialize network file\n",
    "    gexf = Gexf(\"Shakespeares World\", \"Thread User Network\")\n",
    "    graph = gexf.addGraph(\"directed\", \"static\", \"Thread User directed network\")\n",
    "\n",
    "    # Create nodes\n",
    "    for user in df.comment_user_login.iteritems():\n",
    "        graph.addNode(str(user[1]), str(user[1]))\n",
    "\n",
    "    for thread in df.discussion_id.iteritems():\n",
    "        graph.addNode(str(thread[1]), str(thread[1]))\n",
    "\n",
    "    # Create edges\n",
    "    counter = 0\n",
    "    for x in df.iterrows():\n",
    "        counter += 1\n",
    "        #print(x[1][9]) # Username\n",
    "        # print(x[1][10]) # Comment thread ID\n",
    "        graph.addEdge(str(counter), str(x[1][9]), str(x[1][10]))\n",
    "\n",
    "    # Write file. Note: all nodes and edges need to be added as unicode strings\n",
    "    output_file = open(\"shakspearesworldThreadUserNet.gexf\",\"wb\")\n",
    "    gexf.write(output_file)\n",
    "\n",
    "#createThreadUserNet(df)"
   ]
  },
  {
   "cell_type": "code",
   "execution_count": null,
   "metadata": {
    "collapsed": true
   },
   "outputs": [],
   "source": [
    "ta.Network.hashtaghashtagnetwork(\"#herbs\", df)"
   ]
  },
  {
   "cell_type": "markdown",
   "metadata": {
    "collapsed": true
   },
   "source": [
    "### Regexp/user network\n",
    "Similar to the hashtag/user network but using the power of Python flavoured regexps. Case insensivive. "
   ]
  },
  {
   "cell_type": "code",
   "execution_count": null,
   "metadata": {
    "collapsed": true
   },
   "outputs": [],
   "source": [
    "list(range(72))\n"
   ]
  },
  {
   "cell_type": "code",
   "execution_count": null,
   "metadata": {
    "collapsed": true,
    "scrolled": true
   },
   "outputs": [],
   "source": [
    "ta.Network.regexpusernetwork(\"packe\", df)"
   ]
  },
  {
   "cell_type": "code",
   "execution_count": null,
   "metadata": {
    "collapsed": true,
    "scrolled": true
   },
   "outputs": [],
   "source": [
    "ta.Network.regexpusers(\"copyright\", df, data=True) #returns data for plotting"
   ]
  },
  {
   "cell_type": "markdown",
   "metadata": {},
   "source": [
    "### User/hashtag network\n",
    "Tracks what hashtag a specific username writes. "
   ]
  },
  {
   "cell_type": "code",
   "execution_count": null,
   "metadata": {
    "collapsed": true
   },
   "outputs": [],
   "source": [
    "ta.Network.userhashtagnetwork(\"Traceydix\", df)"
   ]
  },
  {
   "cell_type": "markdown",
   "metadata": {},
   "source": [
    "### User/user network\n",
    "Takes a specific user and draws a network from the users spoken to, using the @username convention. \n",
    "\n",
    "This is an out-degree network. \n",
    "\n",
    "** Todo **: make in-degree network to see which users address a user (comparable to incoming @-tweets on Twitter). "
   ]
  },
  {
   "cell_type": "code",
   "execution_count": null,
   "metadata": {
    "collapsed": true
   },
   "outputs": [],
   "source": [
    "ta.Network.userusernetwork(\"VVH\", df)"
   ]
  }
 ],
 "metadata": {
  "kernelspec": {
   "display_name": "Python 3",
   "language": "python",
   "name": "python3"
  },
  "language_info": {
   "codemirror_mode": {
    "name": "ipython",
    "version": 3
   },
   "file_extension": ".py",
   "mimetype": "text/x-python",
   "name": "python",
   "nbconvert_exporter": "python",
   "pygments_lexer": "ipython3",
   "version": "3.6.0"
  }
 },
 "nbformat": 4,
 "nbformat_minor": 2
}
