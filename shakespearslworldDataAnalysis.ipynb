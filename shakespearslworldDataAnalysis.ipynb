{
 "cells": [
  {
   "cell_type": "markdown",
   "metadata": {},
   "source": [
    "# Shakespeare's World\n",
    "\n",
    "### Some results\n",
    "\n",
    "\n",
    "**Userbase:**\n",
    "\n",
    "* Top 5 users make up 50% of the comments.\n",
    "* Top 20 users make up 80% of the comments. \n",
    "\n",
    "**Types of forum posts:**\n",
    "\n",
    "The two most popular subforums are:\n",
    "\n",
    "1. General comment threads about individual subjects - 77.68%\n",
    "2. A place to ask for help and report bugs - 8.09%\n",
    "\n",
    "In total, 85.12% of the posts are about as text. \n",
    "\n",
    "\n",
    "**Most commoon outgoing links:**\n",
    "\n",
    "* www.zooniverse.org, 205\n",
    "* en.wikipedia.org, 77\n",
    "* books.google.com, 32\n",
    "* books.google.co.uk, 31\n",
    "* panoptes-uploads.zooniverse.org, 19\n",
    "* www.shakespearesworld.org, 12\n",
    "\n",
    "---\n",
    "\n",
    "### Technical details: talkanalyzer methods\n",
    "\n",
    "To make the notebook a bit cleaner, some functions are imported from the ``talkanalyzer`` module (import as ``ta``). This module could then be re-used for any other Talk page if the format is the same. Note that the module takes a Pandas dataframe as input for the data, so this needs to be installed too. \n",
    "\n",
    "**1. Class URLconstructor**\n",
    "\n",
    "To make URLs from the various data points, some functions are provided: \n",
    "\n",
    "```Python\n",
    "print(ta.URLconstructor.commenturl(700, df)) # Make URL to a comment\n",
    "print(ta.URLconstructor.threadturl(40565, df)) # Make URL to thread\n",
    "print(ta.URLconstructor.userurl(\"Hannebambel\", df)) # Make URL to user\n",
    "```\n",
    "\n",
    "\n",
    "**2. Class Printer**\n",
    "\n",
    "For easier printing of information that you need from the data, some printing functions are provided. To print HTML, add the optional flag `html=True` (Boolean set to ``False`` by default):\n",
    "\n",
    "```Python\n",
    "ta.Printer.regexpsearch(\"pippin.*\", df) # Search/print regular expression\n",
    "ta.Printer.usercomments(\"Hannebambel\", df, html=True) # Print html comments from specific user\n",
    "ta.Printer.thread(20690, df) # Print a thread. \n",
    "```\n",
    "\n",
    "**3. Class TimeSeries**\n",
    "\n",
    "Returns a time series plot for easy tracking of words and users. By setting the optional flag `plot=False` it instead returns a time series as a dictionary. \n",
    "\n",
    "```Python\n",
    "ta.TimeSeries.regexpsearch('women.*', df) # Returns plot for expression \"women\" / day.\n",
    "ta.TimeSeries.usersearch('Cuboctahedron', df, plot=False)# Returns time series as dictionary for user. \n",
    "```\n",
    "\n",
    "**4. Class Network**\n",
    "Returns a network visualization of various entry-points to the data. The networks are outdegree networks and put either a search term, a user or a hashtag as focal point. \n",
    "\n",
    "\n",
    "````Python\n",
    "ta.Network.hashtaghashtagnetwork(searchstring, df, plot=True, html=False)\n",
    "ta.Network.hashtagusernetwork(searchstring, df, plot=True, html=False)\n",
    "ta.Network.regexpusernetwork(searchstring, df, plot=True, html=False)\n",
    "ta.Network.userhashtagnetwork(searchstring, df, plot=True, html=False)\n",
    "ta.Network.userusernetwork(searchstring, df, plot=True, html=False)\n",
    "````"
   ]
  },
  {
   "cell_type": "code",
   "execution_count": 1,
   "metadata": {
    "collapsed": true
   },
   "outputs": [],
   "source": [
    "%matplotlib inline\n",
    "import pandas as pd\n",
    "import seaborn as sns\n",
    "import re\n",
    "import matplotlib.pyplot as plt\n",
    "import talkanalyzer as ta # Requires pandas\n",
    "import warnings \n",
    "warnings.filterwarnings('ignore') # Remove for debugging\n",
    "import networkx as nx\n",
    "from itertools import combinations\n",
    "#help(ta)"
   ]
  },
  {
   "cell_type": "code",
   "execution_count": 2,
   "metadata": {
    "collapsed": false
   },
   "outputs": [
    {
     "data": {
      "text/html": [
       "<div>\n",
       "<table border=\"1\" class=\"dataframe\">\n",
       "  <thead>\n",
       "    <tr style=\"text-align: right;\">\n",
       "      <th></th>\n",
       "      <th>comment_id</th>\n",
       "      <th>created_at</th>\n",
       "      <th>id</th>\n",
       "      <th>name</th>\n",
       "      <th>project_id</th>\n",
       "      <th>section</th>\n",
       "      <th>taggable_id</th>\n",
       "      <th>taggable_type</th>\n",
       "      <th>user_id</th>\n",
       "      <th>user_login</th>\n",
       "    </tr>\n",
       "  </thead>\n",
       "  <tbody>\n",
       "    <tr>\n",
       "      <th>0</th>\n",
       "      <td>38469</td>\n",
       "      <td>2015-11-28 00:42:43.782</td>\n",
       "      <td>19835</td>\n",
       "      <td>womanwriter</td>\n",
       "      <td>376</td>\n",
       "      <td>project-376</td>\n",
       "      <td>1168000.0</td>\n",
       "      <td>Subject</td>\n",
       "      <td>255</td>\n",
       "      <td>jules</td>\n",
       "    </tr>\n",
       "    <tr>\n",
       "      <th>1</th>\n",
       "      <td>38485</td>\n",
       "      <td>2015-11-28 01:24:38.182</td>\n",
       "      <td>19846</td>\n",
       "      <td>bleedthrough</td>\n",
       "      <td>376</td>\n",
       "      <td>project-376</td>\n",
       "      <td>1170538.0</td>\n",
       "      <td>Subject</td>\n",
       "      <td>255</td>\n",
       "      <td>jules</td>\n",
       "    </tr>\n",
       "    <tr>\n",
       "      <th>2</th>\n",
       "      <td>38552</td>\n",
       "      <td>2015-11-28 14:56:49.652</td>\n",
       "      <td>19878</td>\n",
       "      <td>seal</td>\n",
       "      <td>376</td>\n",
       "      <td>project-376</td>\n",
       "      <td>1170267.0</td>\n",
       "      <td>Subject</td>\n",
       "      <td>255</td>\n",
       "      <td>jules</td>\n",
       "    </tr>\n",
       "    <tr>\n",
       "      <th>3</th>\n",
       "      <td>38648</td>\n",
       "      <td>2015-11-28 22:49:49.261</td>\n",
       "      <td>19925</td>\n",
       "      <td>womanwriter</td>\n",
       "      <td>376</td>\n",
       "      <td>project-376</td>\n",
       "      <td>1167413.0</td>\n",
       "      <td>Subject</td>\n",
       "      <td>255</td>\n",
       "      <td>jules</td>\n",
       "    </tr>\n",
       "    <tr>\n",
       "      <th>4</th>\n",
       "      <td>40304</td>\n",
       "      <td>2015-12-04 12:07:55.064</td>\n",
       "      <td>20840</td>\n",
       "      <td>flourishes</td>\n",
       "      <td>376</td>\n",
       "      <td>project-376</td>\n",
       "      <td>1167413.0</td>\n",
       "      <td>Subject</td>\n",
       "      <td>4032</td>\n",
       "      <td>Noharrr</td>\n",
       "    </tr>\n",
       "  </tbody>\n",
       "</table>\n",
       "</div>"
      ],
      "text/plain": [
       "   comment_id              created_at     id          name  project_id  \\\n",
       "0       38469 2015-11-28 00:42:43.782  19835   womanwriter         376   \n",
       "1       38485 2015-11-28 01:24:38.182  19846  bleedthrough         376   \n",
       "2       38552 2015-11-28 14:56:49.652  19878          seal         376   \n",
       "3       38648 2015-11-28 22:49:49.261  19925   womanwriter         376   \n",
       "4       40304 2015-12-04 12:07:55.064  20840    flourishes         376   \n",
       "\n",
       "       section  taggable_id taggable_type  user_id user_login  \n",
       "0  project-376    1168000.0       Subject      255      jules  \n",
       "1  project-376    1170538.0       Subject      255      jules  \n",
       "2  project-376    1170267.0       Subject      255      jules  \n",
       "3  project-376    1167413.0       Subject      255      jules  \n",
       "4  project-376    1167413.0       Subject     4032    Noharrr  "
      ]
     },
     "execution_count": 2,
     "metadata": {},
     "output_type": "execute_result"
    }
   ],
   "source": [
    "# Open Tags data. Not sure what to do with it :D\n",
    "df2 = pd.read_json(\"data/project-376-tags_2017-11-21.json\")\n",
    "df2.head()"
   ]
  },
  {
   "cell_type": "code",
   "execution_count": 3,
   "metadata": {
    "collapsed": false
   },
   "outputs": [
    {
     "data": {
      "text/html": [
       "<div>\n",
       "<table border=\"1\" class=\"dataframe\">\n",
       "  <thead>\n",
       "    <tr style=\"text-align: right;\">\n",
       "      <th></th>\n",
       "      <th>board_description</th>\n",
       "      <th>board_id</th>\n",
       "      <th>board_title</th>\n",
       "      <th>comment_body</th>\n",
       "      <th>comment_created_at</th>\n",
       "      <th>comment_focus_id</th>\n",
       "      <th>comment_focus_type</th>\n",
       "      <th>comment_id</th>\n",
       "      <th>comment_user_id</th>\n",
       "      <th>comment_user_login</th>\n",
       "      <th>discussion_id</th>\n",
       "      <th>discussion_title</th>\n",
       "    </tr>\n",
       "  </thead>\n",
       "  <tbody>\n",
       "    <tr>\n",
       "      <th>0</th>\n",
       "      <td>General comment threads about individual subjects</td>\n",
       "      <td>192</td>\n",
       "      <td>Notes</td>\n",
       "      <td>Can't tell what the red/brown blob on the righ...</td>\n",
       "      <td>2015-11-09 20:50:03.309</td>\n",
       "      <td>1071522.0</td>\n",
       "      <td>Subject</td>\n",
       "      <td>33075</td>\n",
       "      <td>1396273</td>\n",
       "      <td>Sprixie</td>\n",
       "      <td>16496</td>\n",
       "      <td>Subject 1071522</td>\n",
       "    </tr>\n",
       "    <tr>\n",
       "      <th>1</th>\n",
       "      <td>General comment threads about individual subjects</td>\n",
       "      <td>192</td>\n",
       "      <td>Notes</td>\n",
       "      <td>yes i agree, judging by the rough edges round ...</td>\n",
       "      <td>2015-11-10 17:11:02.277</td>\n",
       "      <td>1071522.0</td>\n",
       "      <td>Subject</td>\n",
       "      <td>33406</td>\n",
       "      <td>1813</td>\n",
       "      <td>hightower73</td>\n",
       "      <td>16496</td>\n",
       "      <td>Subject 1071522</td>\n",
       "    </tr>\n",
       "    <tr>\n",
       "      <th>2</th>\n",
       "      <td>Ask us about specific manuscripts, scripts, ha...</td>\n",
       "      <td>195</td>\n",
       "      <td>Questions for the research team</td>\n",
       "      <td>There are only a few documents displaying in t...</td>\n",
       "      <td>2015-11-14 00:41:28.637</td>\n",
       "      <td>NaN</td>\n",
       "      <td>None</td>\n",
       "      <td>34596</td>\n",
       "      <td>1372521</td>\n",
       "      <td>Judy_Prouty</td>\n",
       "      <td>17263</td>\n",
       "      <td>Is this project proceeding?</td>\n",
       "    </tr>\n",
       "    <tr>\n",
       "      <th>3</th>\n",
       "      <td>General comment threads about individual subjects</td>\n",
       "      <td>192</td>\n",
       "      <td>Notes</td>\n",
       "      <td>Nothing on here?</td>\n",
       "      <td>2015-11-27 10:39:56.197</td>\n",
       "      <td>1167235.0</td>\n",
       "      <td>Subject</td>\n",
       "      <td>38341</td>\n",
       "      <td>478315</td>\n",
       "      <td>darktruth</td>\n",
       "      <td>19021</td>\n",
       "      <td>Subject 1167235</td>\n",
       "    </tr>\n",
       "    <tr>\n",
       "      <th>4</th>\n",
       "      <td>General comment threads about individual subjects</td>\n",
       "      <td>192</td>\n",
       "      <td>Notes</td>\n",
       "      <td>No text or image.</td>\n",
       "      <td>2015-11-27 10:42:46.044</td>\n",
       "      <td>1169357.0</td>\n",
       "      <td>Subject</td>\n",
       "      <td>38342</td>\n",
       "      <td>478315</td>\n",
       "      <td>darktruth</td>\n",
       "      <td>19022</td>\n",
       "      <td>Subject 1169357</td>\n",
       "    </tr>\n",
       "  </tbody>\n",
       "</table>\n",
       "</div>"
      ],
      "text/plain": [
       "                                   board_description  board_id  \\\n",
       "0  General comment threads about individual subjects       192   \n",
       "1  General comment threads about individual subjects       192   \n",
       "2  Ask us about specific manuscripts, scripts, ha...       195   \n",
       "3  General comment threads about individual subjects       192   \n",
       "4  General comment threads about individual subjects       192   \n",
       "\n",
       "                       board_title  \\\n",
       "0                            Notes   \n",
       "1                            Notes   \n",
       "2  Questions for the research team   \n",
       "3                            Notes   \n",
       "4                            Notes   \n",
       "\n",
       "                                        comment_body      comment_created_at  \\\n",
       "0  Can't tell what the red/brown blob on the righ... 2015-11-09 20:50:03.309   \n",
       "1  yes i agree, judging by the rough edges round ... 2015-11-10 17:11:02.277   \n",
       "2  There are only a few documents displaying in t... 2015-11-14 00:41:28.637   \n",
       "3                                   Nothing on here? 2015-11-27 10:39:56.197   \n",
       "4                                  No text or image. 2015-11-27 10:42:46.044   \n",
       "\n",
       "   comment_focus_id comment_focus_type  comment_id  comment_user_id  \\\n",
       "0         1071522.0            Subject       33075          1396273   \n",
       "1         1071522.0            Subject       33406             1813   \n",
       "2               NaN               None       34596          1372521   \n",
       "3         1167235.0            Subject       38341           478315   \n",
       "4         1169357.0            Subject       38342           478315   \n",
       "\n",
       "  comment_user_login  discussion_id             discussion_title  \n",
       "0            Sprixie          16496              Subject 1071522  \n",
       "1        hightower73          16496              Subject 1071522  \n",
       "2        Judy_Prouty          17263  Is this project proceeding?  \n",
       "3          darktruth          19021              Subject 1167235  \n",
       "4          darktruth          19022              Subject 1169357  "
      ]
     },
     "execution_count": 3,
     "metadata": {},
     "output_type": "execute_result"
    }
   ],
   "source": [
    "df = pd.read_json(\"data/project-376-comments_2017-11-21.json\")\n",
    "df.head()\n",
    "#df.to_excel(\"data/project-376-comments_2017-11-21.xlsx\")"
   ]
  },
  {
   "cell_type": "code",
   "execution_count": null,
   "metadata": {
    "collapsed": false
   },
   "outputs": [],
   "source": [
    "#df.comment_user_login.value_counts()\n",
    "df.comment_user_login.count()"
   ]
  },
  {
   "cell_type": "code",
   "execution_count": null,
   "metadata": {
    "collapsed": false
   },
   "outputs": [],
   "source": [
    "threads = {}\n",
    "for d in df.iterrows():\n",
    "    threads[(d[1][1],d[1][10])] = [] #just add an empty list that can be filled with data\n",
    "    \n",
    "print(threads)"
   ]
  },
  {
   "cell_type": "code",
   "execution_count": null,
   "metadata": {
    "collapsed": false
   },
   "outputs": [],
   "source": [
    "for d in df.iterrows():\n",
    "    threads[d[1][10]].append(d[1][9]) # users, skip if not wanted. "
   ]
  },
  {
   "cell_type": "code",
   "execution_count": null,
   "metadata": {
    "collapsed": false
   },
   "outputs": [],
   "source": [
    "print(threads)"
   ]
  },
  {
   "cell_type": "code",
   "execution_count": null,
   "metadata": {
    "collapsed": false
   },
   "outputs": [],
   "source": [
    "for d in df.iterrows():\n",
    "    text = d[1][3]\n",
    "    hashhit = re.findall(r'\\#[a-zA-Z0-9]+', text, re.IGNORECASE)\n",
    "    for h in hashhit:\n",
    "        threads[(d[1][1],d[1][10])].append(h) # add hashtags\n",
    "    "
   ]
  },
  {
   "cell_type": "code",
   "execution_count": null,
   "metadata": {
    "collapsed": false
   },
   "outputs": [],
   "source": [
    "for d in df.iterrows():\n",
    "    text = d[1][3]\n",
    "    urlhit = re.findall('http[s]\\:\\/\\/.*\\.(?:nl|se|no|es|milru|fr|es|uk|ca|de|jp|au|us|ch|it|io|org|com|net|int|edu|mil|arpa)\\/', text, re.IGNORECASE)\n",
    "    for u in urlhit:\n",
    "        threads[(d[1][1],d[1][10])].append(u) # add links"
   ]
  },
  {
   "cell_type": "code",
   "execution_count": null,
   "metadata": {
    "collapsed": false
   },
   "outputs": [],
   "source": [
    "print(threads)"
   ]
  },
  {
   "cell_type": "code",
   "execution_count": null,
   "metadata": {
    "collapsed": false
   },
   "outputs": [],
   "source": [
    "G = nx.Graph()\n",
    "for key, value in threads.items():\n",
    "    # the makenetwork function is like this because it isolates the url variable in namespace. \n",
    "    def makenetwork(value): \n",
    "        templist = []\n",
    "        for v in value:\n",
    "            url = \"NOLINK\"\n",
    "            if v.startswith(\"http\"):\n",
    "                url = v\n",
    "                #print(url)\n",
    "                #print(v)\n",
    "\n",
    "            if v.startswith('#'):\n",
    "                templist.append(v)\n",
    "            if len(v) > 1:\n",
    "                for p in combinations(templist, 2):\n",
    "                    print(p, url)\n",
    "                    G.add_edge(p[0].lower(), p[1].lower(), uurl = url, link = \"https://www.zooniverse.org/projects/zooniverse/shakespeares-world/talk/\" + str(key[0]) + \"/\" + str(key[1]))\n",
    "    makenetwork(value)\n",
    "            \n",
    "nx.write_gexf(G, \"test.gexf\") # Test"
   ]
  },
  {
   "cell_type": "code",
   "execution_count": null,
   "metadata": {
    "collapsed": false
   },
   "outputs": [],
   "source": [
    "mostfrequentusers = df.comment_user_login.value_counts()[0:10] # Increase this. \n",
    "cumulative = 0\n",
    "counter = 0\n",
    "for key, value in mostfrequentusers.items():\n",
    "    counter += 1\n",
    "    print(str(counter) + \". \" + key, \n",
    "          str(round(value / len(df) * 100, 2)) + \"%\")\n",
    "    cumulative += round(value / len(df) * 100, 2)\n",
    "    print(\"\\t\\t\\t\\t\\tCumulative first \" + \n",
    "          str(counter) + \" users: \" + str(cumulative) + \"%\")"
   ]
  },
  {
   "cell_type": "markdown",
   "metadata": {},
   "source": [
    "---\n",
    "## Track a specific user\n",
    "To track individual users you can use two methods.\n",
    "1. Print out the users comments.\n",
    "2. View the user activity over time."
   ]
  },
  {
   "cell_type": "code",
   "execution_count": null,
   "metadata": {
    "collapsed": false
   },
   "outputs": [],
   "source": [
    "# Print user comments\n",
    "ta.Printer.usercomments('Traceydix', df)"
   ]
  },
  {
   "cell_type": "code",
   "execution_count": null,
   "metadata": {
    "collapsed": false
   },
   "outputs": [],
   "source": [
    "# Plot user activity (comments per day.)\n",
    "ta.TimeSeries.usersearch('VVH', df, plot=True)"
   ]
  },
  {
   "cell_type": "markdown",
   "metadata": {},
   "source": [
    "---\n",
    "## Search using regular expressions\n",
    "- Add ``.*`` before or after to get remaining text on each line. \n",
    "\n",
    "Regular expression to find most top level domains:\n",
    "    \n",
    "    'http[s]\\:\\/\\/.*\\.(?:nl|se|no|es|milru|fr|es|uk|ca|de|jp|au|us|ch|it|io|org|com|net|int|edu|mil|arpa)\\/'"
   ]
  },
  {
   "cell_type": "code",
   "execution_count": null,
   "metadata": {
    "collapsed": false
   },
   "outputs": [],
   "source": [
    "ta.Printer.regexpsearch('JohnHarpur', df, html=False, context=True)"
   ]
  },
  {
   "cell_type": "code",
   "execution_count": null,
   "metadata": {
    "collapsed": false
   },
   "outputs": [],
   "source": [
    "ta.TimeSeries.regexpsearch('recipe', df)"
   ]
  },
  {
   "cell_type": "code",
   "execution_count": null,
   "metadata": {
    "collapsed": false
   },
   "outputs": [],
   "source": [
    "# Most common URLs linked. Note: fix regular expression to be more accurate. \n",
    "listofURLS = []\n",
    "for row in df.iterrows():\n",
    "    topURL = re.findall('http[s]\\:\\/\\/.*\\.(?:nl|se|no|es|milru|fr|es|uk|ca|de|jp|au|us|ch|it|io|org|com|net|int|edu|mil|arpa)\\/', row[1][3])\n",
    "    if topURL:\n",
    "        for t in topURL:\n",
    "            listofURLS.append(t)\n",
    "            \n",
    "from collections import Counter\n",
    "\n",
    "for key in Counter(listofURLS).most_common(20):\n",
    "    print(key)"
   ]
  },
  {
   "cell_type": "markdown",
   "metadata": {},
   "source": [
    "## Thread Analysis\n",
    "\n",
    "1. Longest threads\n",
    "2. Print each thread by id number"
   ]
  },
  {
   "cell_type": "code",
   "execution_count": null,
   "metadata": {
    "collapsed": false
   },
   "outputs": [],
   "source": [
    "# Longest threads\n",
    "df.discussion_id.value_counts()[0:15]"
   ]
  },
  {
   "cell_type": "code",
   "execution_count": null,
   "metadata": {
    "collapsed": false
   },
   "outputs": [],
   "source": [
    "# A particular forum thread\n",
    "ta.Printer.thread(57041, df)"
   ]
  },
  {
   "cell_type": "code",
   "execution_count": null,
   "metadata": {
    "collapsed": false
   },
   "outputs": [],
   "source": [
    "# Calculate how many percent of comments are \"subject related (related to texts)\n",
    "print(str(round(df.comment_focus_type.count() / df.comment_body.count(), 4) * 100) + \"%\")"
   ]
  },
  {
   "cell_type": "code",
   "execution_count": null,
   "metadata": {
    "collapsed": false
   },
   "outputs": [],
   "source": [
    "# Sum of posts in each subforum.\n",
    "for key, value in df.board_description.value_counts().items():\n",
    "    print(key, value)\n",
    "    print(str(round(value/len(df), 4) * 100) + \"%\\n\")"
   ]
  },
  {
   "cell_type": "markdown",
   "metadata": {},
   "source": [
    "## Entire dataset: time series"
   ]
  },
  {
   "cell_type": "code",
   "execution_count": null,
   "metadata": {
    "collapsed": false
   },
   "outputs": [],
   "source": [
    "def postsTimeSeries():\n",
    "    '''Create a time series based on posts per day\n",
    "    using the dfT dataframe (index by datetime)'''\n",
    "    dfT = df\n",
    "    pd.created_at = pd.to_datetime(dfT.comment_created_at, format='%H:%M') # Lite fulparsning av tidsstämpel här.\n",
    "    dfT.index = pd.created_at\n",
    "  \n",
    "    postsperday = dfT.resample('1440T', base=60).count() #1440 min./day\n",
    "\n",
    "    fig = plt.figure(figsize=(15,7))\n",
    "    ax = fig.add_subplot(111)\n",
    "\n",
    "    plt.title('Shakespeare\\'s World: Forum posts per day', size=16)\n",
    "\n",
    "    postsperday['comment_body'].plot() #Plot each individual tweet per minute\n",
    "    \n",
    "    plt.xlabel('Date')\n",
    "    plt.ylabel('Posts')\n",
    "\n",
    "postsTimeSeries()"
   ]
  },
  {
   "cell_type": "code",
   "execution_count": null,
   "metadata": {
    "collapsed": false
   },
   "outputs": [],
   "source": [
    "def postsDailyAverage():\n",
    "    '''Create a time series based on posts per day\n",
    "    using the dfT dataframe (index by datetime)'''\n",
    "    dfT = df\n",
    "    pd.created_at = pd.to_datetime(dfT.comment_created_at, format='%H:%M') # Lite fulparsning av tidsstämpel här.\n",
    "    dfT.index = pd.created_at\n",
    "  \n",
    "    postsperday = df\n",
    "    \n",
    "    \n",
    "    fig = plt.figure(figsize=(20,20))\n",
    "    ax = fig.add_subplot(111)\n",
    "\n",
    "    plt.title('Shakespeare\\'s World: Forum posts per hour', size=16)\n",
    "\n",
    "    plt.plot(postsperday.index.time, 'ro')\n",
    "    \n",
    "    #plt.xlabel('Time')\n",
    "    #plt.ylabel('Posts')\n",
    "\n",
    "postsDailyAverage()"
   ]
  },
  {
   "cell_type": "markdown",
   "metadata": {},
   "source": [
    "## Network analysis\n",
    "\n",
    "### Complete dataset: User thread-network\n",
    "Create gexf network file. Note. This is very bloated and it is better to create small networks with the functions below. "
   ]
  },
  {
   "cell_type": "code",
   "execution_count": null,
   "metadata": {
    "collapsed": true
   },
   "outputs": [],
   "source": [
    "#from gexf import * # https://github.com/paulgirard/pygexf\n",
    "def createThreadUserNet(dataframe):\n",
    "    # Intialize network file\n",
    "    gexf = Gexf(\"Shakespeares World\", \"Thread User Network\")\n",
    "    graph = gexf.addGraph(\"directed\", \"static\", \"Thread User directed network\")\n",
    "\n",
    "    # Create nodes\n",
    "    for user in df.comment_user_login.iteritems():\n",
    "        graph.addNode(str(user[1]), str(user[1]))\n",
    "\n",
    "    for thread in df.discussion_id.iteritems():\n",
    "        graph.addNode(str(thread[1]), str(thread[1]))\n",
    "\n",
    "    # Create edges\n",
    "    counter = 0\n",
    "    for x in df.iterrows():\n",
    "        counter += 1\n",
    "        #print(x[1][9]) # Username\n",
    "        # print(x[1][10]) # Comment thread ID\n",
    "        graph.addEdge(str(counter), str(x[1][9]), str(x[1][10]))\n",
    "\n",
    "    # Write file. Note: all nodes and edges need to be added as unicode strings\n",
    "    output_file = open(\"shakspearesworldThreadUserNet.gexf\",\"wb\")\n",
    "    gexf.write(output_file)\n",
    "\n",
    "#createThreadUserNet(df)"
   ]
  },
  {
   "cell_type": "markdown",
   "metadata": {
    "collapsed": true
   },
   "source": [
    "## Section networks: users, hashtag, regexpsearches\n",
    "\n",
    "There are five types of networks that can be created in the ``ta.Network`` class, each of them described in order:\n",
    "\n",
    "````Python\n",
    "hashtaghashtagnetwork(searchstring, df, plot=True, html=False)\n",
    "hashtagusernetwork(searchstring, df, plot=True, html=False)\n",
    "regexpusernetwork(searchstring, df, plot=True, html=False)\n",
    "userhashtagnetwork(searchstring, df, plot=True, html=False)\n",
    "userusernetwork(searchstring, df, plot=True, html=False)\n",
    "````"
   ]
  },
  {
   "cell_type": "markdown",
   "metadata": {},
   "source": [
    "### Hashtag/hashtag network\n",
    "This network creates one hashtag in the middle, then plots all other hashtags that co-occur in the same post connects them. The more frequent the co-occurrence, the closer to the middle search string. "
   ]
  },
  {
   "cell_type": "code",
   "execution_count": null,
   "metadata": {
    "collapsed": false
   },
   "outputs": [],
   "source": [
    "ta.Network.hashtaghashtagnetwork(\"#packe\", df)"
   ]
  },
  {
   "cell_type": "markdown",
   "metadata": {},
   "source": [
    "### Hashtag/user network\n",
    "This takes a hashtag and then plots a network based on which users that has written about it in the forum. The closer to the center concept, the more often the users write about it. "
   ]
  },
  {
   "cell_type": "code",
   "execution_count": null,
   "metadata": {
    "collapsed": false
   },
   "outputs": [],
   "source": [
    "ta.Network.hashtagusernetwork(\"#recipe.*\", df, plot=True, html=False)"
   ]
  },
  {
   "cell_type": "markdown",
   "metadata": {
    "collapsed": true
   },
   "source": [
    "### Regexp/user network\n",
    "Similar to the hashtag/user network but using the power of Python flavoured regexps. Case insensivive. "
   ]
  },
  {
   "cell_type": "code",
   "execution_count": null,
   "metadata": {
    "collapsed": false,
    "scrolled": true
   },
   "outputs": [],
   "source": [
    "ta.Network.regexpusernetwork(\"packe\", df)"
   ]
  },
  {
   "cell_type": "code",
   "execution_count": null,
   "metadata": {
    "collapsed": false
   },
   "outputs": [],
   "source": [
    "ta.Network.regexpusers(\"copyright\", df, data=True) #returns data for plotting"
   ]
  },
  {
   "cell_type": "markdown",
   "metadata": {},
   "source": [
    "### User/hashtag network\n",
    "Tracks what hashtag a specific username writes. "
   ]
  },
  {
   "cell_type": "code",
   "execution_count": null,
   "metadata": {
    "collapsed": false
   },
   "outputs": [],
   "source": [
    "ta.Network.userhashtagnetwork(\"VVH\", df)"
   ]
  },
  {
   "cell_type": "markdown",
   "metadata": {},
   "source": [
    "### User/user network\n",
    "Takes a specific user and draws a network from the users spoken to, using the @username convention. \n",
    "\n",
    "This is an out-degree network. \n",
    "\n",
    "** Todo **: make in-degree network to see which users address a user (comparable to incoming @-tweets on Twitter). "
   ]
  },
  {
   "cell_type": "code",
   "execution_count": null,
   "metadata": {
    "collapsed": false
   },
   "outputs": [],
   "source": [
    "ta.Network.userusernetwork(\"VVH\", df)"
   ]
  }
 ],
 "metadata": {
  "kernelspec": {
   "display_name": "Python 3",
   "language": "python",
   "name": "python3"
  },
  "language_info": {
   "codemirror_mode": {
    "name": "ipython",
    "version": 3
   },
   "file_extension": ".py",
   "mimetype": "text/x-python",
   "name": "python",
   "nbconvert_exporter": "python",
   "pygments_lexer": "ipython3",
   "version": "3.6.0"
  }
 },
 "nbformat": 4,
 "nbformat_minor": 2
}
